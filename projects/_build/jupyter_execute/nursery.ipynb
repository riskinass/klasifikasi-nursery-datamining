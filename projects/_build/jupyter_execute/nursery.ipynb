{
 "cells": [
  {
   "block_group": "b236636471664ae491d7739f6a95840e",
   "cell_type": "markdown",
   "metadata": {
    "cell_id": "a961db6f5a5c45e8863c641c532d1d4e",
    "deepnote_cell_type": "text-cell-h1",
    "formattedRanges": [
     {
      "fromCodePoint": 24,
      "marks": {
       "italic": true
      },
      "toCodePoint": 31,
      "type": "marks"
     }
    ]
   },
   "source": [
    "# KLASIFIKASI PEMBIBITAN (NURSERY)"
   ]
  },
  {
   "block_group": "f17b7eb6590644c4826420df9b33c516",
   "cell_type": "markdown",
   "metadata": {
    "cell_id": "f786221798524767bc889e2c7727e7a8",
    "deepnote_cell_type": "text-cell-p",
    "formattedRanges": [
     {
      "fromCodePoint": 24,
      "marks": {
       "italic": true
      },
      "toCodePoint": 33,
      "type": "marks"
     }
    ]
   },
   "source": [
    "Klasifikasi pembibitan (nursery) adalah klasifikasi yang bertujuan untuk menentukan perankingan terhadap kelayakan penerimaan siswa di sekolah yang berkualitas. Banyaknya pendaftar di suatu sekolah favorit dengan kuota terbatas menyebabkan banyaknya pendaftar yang tidak lolos seleksi dan memerlukan banyak alasan penolakan yang obejektif. Oleh karena itu, dengan adanya klasifikasi ini diharapkan dapat membantu memudahkan untuk memutuskan penerimaan siswa, dan bagi siswa yang tidak lolos akan dengan mudah terlihat alasan yang membuatnya tidak lolos seleksi."
   ]
  },
  {
   "block_group": "f4813301bb2a4422b79c0a1e841fae04",
   "cell_type": "code",
   "content_dependencies": null,
   "execution_count": 1,
   "metadata": {
    "cell_id": "5a7408ebf0ce4472bfa328f1accc2bb7",
    "deepnote_cell_type": "code",
    "deepnote_to_be_reexecuted": false,
    "execution_millis": 825,
    "execution_start": 1719408988755,
    "source_hash": "dc2aeec8"
   },
   "outputs": [
    {
     "ename": "ModuleNotFoundError",
     "evalue": "No module named 'seaborn'",
     "output_type": "error",
     "traceback": [
      "\u001b[1;31m---------------------------------------------------------------------------\u001b[0m",
      "\u001b[1;31mModuleNotFoundError\u001b[0m                       Traceback (most recent call last)",
      "Cell \u001b[1;32mIn[1], line 5\u001b[0m\n\u001b[0;32m      3\u001b[0m \u001b[38;5;28;01mimport\u001b[39;00m \u001b[38;5;21;01mnumpy\u001b[39;00m \u001b[38;5;28;01mas\u001b[39;00m \u001b[38;5;21;01mnp\u001b[39;00m\n\u001b[0;32m      4\u001b[0m \u001b[38;5;28;01mimport\u001b[39;00m \u001b[38;5;21;01mjoblib\u001b[39;00m\n\u001b[1;32m----> 5\u001b[0m \u001b[38;5;28;01mimport\u001b[39;00m \u001b[38;5;21;01mseaborn\u001b[39;00m \u001b[38;5;28;01mas\u001b[39;00m \u001b[38;5;21;01msns\u001b[39;00m\n\u001b[0;32m      6\u001b[0m \u001b[38;5;28;01mimport\u001b[39;00m \u001b[38;5;21;01msklearn\u001b[39;00m\n\u001b[0;32m      7\u001b[0m \u001b[38;5;28;01mfrom\u001b[39;00m \u001b[38;5;21;01mmatplotlib\u001b[39;00m \u001b[38;5;28;01mimport\u001b[39;00m pyplot \u001b[38;5;28;01mas\u001b[39;00m plt\n",
      "\u001b[1;31mModuleNotFoundError\u001b[0m: No module named 'seaborn'"
     ]
    }
   ],
   "outputs_reference": null,
   "source": [
    "#IMPORT REQUIRMENTS\n",
    "import pandas as pd\n",
    "import numpy as np\n",
    "import joblib\n",
    "import seaborn as sns\n",
    "import sklearn\n",
    "from matplotlib import pyplot as plt\n",
    "from sklearn.neighbors import LocalOutlierFactor\n",
    "from sklearn.model_selection import train_test_split\n",
    "from sklearn.naive_bayes import GaussianNB\n",
    "from sklearn.neighbors import KNeighborsClassifier\n",
    "from sklearn.preprocessing import LabelEncoder"
   ]
  },
  {
   "block_group": "8ca66b45802a49de9a064373e35a6ae8",
   "cell_type": "markdown",
   "metadata": {
    "cell_id": "39a333f7742c4d9583e80e1d076b7e2f",
    "deepnote_cell_type": "text-cell-h1",
    "formattedRanges": []
   },
   "source": [
    "# DATA UNDESRTANDING"
   ]
  },
  {
   "block_group": "9afdce423d784c01944c804f967f4582",
   "cell_type": "markdown",
   "metadata": {
    "cell_id": "461612a04e9d49a2912db0a6d3b430cd",
    "deepnote_cell_type": "text-cell-p",
    "formattedRanges": [
     {
      "fromCodePoint": 281,
      "marks": {
       "italic": true
      },
      "toCodePoint": 288,
      "type": "marks"
     }
    ]
   },
   "source": [
    "Data Understanding atau memahami data adalah sebuah tahapan di dalam metodologi sains data dan pengembangan AI yang bertujuan untuk mendapatkan pemahaman awal mengenai data yang dibutuhkan untuk memecahkan permasalahan yang diberikan. Pada case kali ini kita akan memahami Dataset Nursery"
   ]
  },
  {
   "block_group": "4147233029f64164a7e3d789b76954d2",
   "cell_type": "markdown",
   "metadata": {
    "cell_id": "5b642a97c5c34467aef24d962850f9af",
    "deepnote_cell_type": "text-cell-h2",
    "formattedRanges": []
   },
   "source": [
    "## Mengumpulkan Data"
   ]
  },
  {
   "block_group": "d1e32a7960384f609d565226245a6de2",
   "cell_type": "markdown",
   "metadata": {
    "cell_id": "771d2948b16c4386aed00c84764c22d1",
    "deepnote_cell_type": "text-cell-h3",
    "formattedRanges": []
   },
   "source": [
    "### Mencari Data"
   ]
  },
  {
   "block_group": "a259fa7f21334449b32d69610ded9bd1",
   "cell_type": "markdown",
   "metadata": {
    "cell_id": "1ccd1bce8a7245a681b022ecc4fd864f",
    "deepnote_cell_type": "text-cell-p",
    "formattedRanges": [
     {
      "fromCodePoint": 149,
      "marks": {
       "italic": true
      },
      "toCodePoint": 156,
      "type": "marks"
     }
    ]
   },
   "source": [
    "Tahapan pertama pada mengumpulkan data adalah dengan mencari dataset yang akan kita gunakan, sesuai penjelasan di atas kita akan menggunakan Dataset Nursery yang bersumber dari:"
   ]
  },
  {
   "block_group": "1d1bdae99e854745b9dcb4ccc160a19b",
   "cell_type": "markdown",
   "metadata": {
    "cell_id": "930463868b374c96820916db1440f992",
    "deepnote_cell_type": "text-cell-p",
    "formattedRanges": [
     {
      "fromCodePoint": 0,
      "ranges": [],
      "toCodePoint": 46,
      "type": "link",
      "url": "https://archive.ics.uci.edu/dataset/76/nursery"
     }
    ]
   },
   "source": [
    "https://archive.ics.uci.edu/dataset/76/nursery"
   ]
  },
  {
   "block_group": "e4fd6a0d79164b638b8001948e3ab658",
   "cell_type": "markdown",
   "metadata": {
    "cell_id": "84f5a051aaac4153b1237c0f33f18d8e",
    "deepnote_cell_type": "text-cell-h3",
    "formattedRanges": []
   },
   "source": [
    "### Menarik Data"
   ]
  },
  {
   "block_group": "eecd128c7d7f4c8db59f1bb6cf652f26",
   "cell_type": "markdown",
   "metadata": {
    "cell_id": "0e51e100b23840ff94519dd2f51aab31",
    "deepnote_cell_type": "text-cell-p",
    "formattedRanges": []
   },
   "source": [
    "Setelah kita mendapatkan data yang sesuai, selanjutnya kita upload data tersebut ke drive atau database yang kita miliki. Kemudian kami integrasikan dataset tersebut ke notebooks yang kami gunakan dengan tujuan akan memudahkan akses sesama anggota kelompok."
   ]
  },
  {
   "block_group": "5f87c2c37b2746debe7127def4cf6d5d",
   "cell_type": "code",
   "content_dependencies": null,
   "execution_count": 2,
   "metadata": {
    "cell_id": "10eef785505041d3939d6df20163ee89",
    "deepnote_cell_type": "code",
    "deepnote_to_be_reexecuted": false,
    "execution_millis": 216,
    "execution_start": 1719408989583,
    "source_hash": "45194145"
   },
   "outputs": [
    {
     "data": {
      "application/vnd.deepnote.dataframe.v3+json": {
       "column_count": 10,
       "columns": [
        {
         "dtype": "int64",
         "name": "Id",
         "stats": {
          "histogram": [
           {
            "bin_end": 1296.9,
            "bin_start": 1,
            "count": 1296
           },
           {
            "bin_end": 2592.8,
            "bin_start": 1296.9,
            "count": 1296
           },
           {
            "bin_end": 3888.7000000000003,
            "bin_start": 2592.8,
            "count": 1296
           },
           {
            "bin_end": 5184.6,
            "bin_start": 3888.7000000000003,
            "count": 1296
           },
           {
            "bin_end": 6480.5,
            "bin_start": 5184.6,
            "count": 1296
           },
           {
            "bin_end": 7776.400000000001,
            "bin_start": 6480.5,
            "count": 1296
           },
           {
            "bin_end": 9072.300000000001,
            "bin_start": 7776.400000000001,
            "count": 1296
           },
           {
            "bin_end": 10368.2,
            "bin_start": 9072.300000000001,
            "count": 1296
           },
           {
            "bin_end": 11664.1,
            "bin_start": 10368.2,
            "count": 1296
           },
           {
            "bin_end": 12960,
            "bin_start": 11664.1,
            "count": 1296
           }
          ],
          "max": "12960",
          "min": "1",
          "nan_count": 0,
          "unique_count": 12960
         }
        },
        {
         "dtype": "object",
         "name": "parents",
         "stats": {
          "categories": [
           {
            "count": 4320,
            "name": "usual"
           },
           {
            "count": 4320,
            "name": "pretentious"
           },
           {
            "count": 4320,
            "name": "great_pret"
           }
          ],
          "nan_count": 0,
          "unique_count": 3
         }
        },
        {
         "dtype": "object",
         "name": "has_nurs",
         "stats": {
          "categories": [
           {
            "count": 2592,
            "name": "proper"
           },
           {
            "count": 2592,
            "name": "less_proper"
           },
           {
            "count": 7776,
            "name": "3 others"
           }
          ],
          "nan_count": 0,
          "unique_count": 5
         }
        },
        {
         "dtype": "object",
         "name": "form",
         "stats": {
          "categories": [
           {
            "count": 3240,
            "name": "complete"
           },
           {
            "count": 3240,
            "name": "completed"
           },
           {
            "count": 6480,
            "name": "2 others"
           }
          ],
          "nan_count": 0,
          "unique_count": 4
         }
        },
        {
         "dtype": "object",
         "name": "children",
         "stats": {
          "categories": [
           {
            "count": 3240,
            "name": "1"
           },
           {
            "count": 3240,
            "name": "2"
           },
           {
            "count": 6480,
            "name": "2 others"
           }
          ],
          "nan_count": 0,
          "unique_count": 4
         }
        },
        {
         "dtype": "object",
         "name": "housing",
         "stats": {
          "categories": [
           {
            "count": 4320,
            "name": "convenient"
           },
           {
            "count": 4320,
            "name": "less_conv"
           },
           {
            "count": 4320,
            "name": "critical"
           }
          ],
          "nan_count": 0,
          "unique_count": 3
         }
        },
        {
         "dtype": "object",
         "name": "finance",
         "stats": {
          "categories": [
           {
            "count": 6480,
            "name": "convenient"
           },
           {
            "count": 6480,
            "name": "inconv"
           }
          ],
          "nan_count": 0,
          "unique_count": 2
         }
        },
        {
         "dtype": "object",
         "name": "social"
        },
        {
         "dtype": "object",
         "name": "health"
        },
        {
         "dtype": "object",
         "name": "final evaluation"
        },
        {
         "dtype": "int64",
         "name": "_deepnote_index_column"
        }
       ],
       "row_count": 12960,
       "rows": [
        {
         "Id": 1,
         "_deepnote_index_column": 0,
         "children": "1",
         "final evaluation": "recommend",
         "finance": "convenient",
         "form": "complete",
         "has_nurs": "proper",
         "health": "recommended",
         "housing": "convenient",
         "parents": "usual",
         "social": "nonprob"
        },
        {
         "Id": 2,
         "_deepnote_index_column": 1,
         "children": "1",
         "final evaluation": "priority",
         "finance": "convenient",
         "form": "complete",
         "has_nurs": "proper",
         "health": "priority",
         "housing": "convenient",
         "parents": "usual",
         "social": "nonprob"
        },
        {
         "Id": 3,
         "_deepnote_index_column": 2,
         "children": "1",
         "final evaluation": "not_recom",
         "finance": "convenient",
         "form": "complete",
         "has_nurs": "proper",
         "health": "not_recom",
         "housing": "convenient",
         "parents": "usual",
         "social": "nonprob"
        },
        {
         "Id": 4,
         "_deepnote_index_column": 3,
         "children": "1",
         "final evaluation": "recommend",
         "finance": "convenient",
         "form": "complete",
         "has_nurs": "proper",
         "health": "recommended",
         "housing": "convenient",
         "parents": "usual",
         "social": "slightly_prob"
        },
        {
         "Id": 5,
         "_deepnote_index_column": 4,
         "children": "1",
         "final evaluation": "priority",
         "finance": "convenient",
         "form": "complete",
         "has_nurs": "proper",
         "health": "priority",
         "housing": "convenient",
         "parents": "usual",
         "social": "slightly_prob"
        },
        {
         "Id": 6,
         "_deepnote_index_column": 5,
         "children": "1",
         "final evaluation": "not_recom",
         "finance": "convenient",
         "form": "complete",
         "has_nurs": "proper",
         "health": "not_recom",
         "housing": "convenient",
         "parents": "usual",
         "social": "slightly_prob"
        },
        {
         "Id": 7,
         "_deepnote_index_column": 6,
         "children": "1",
         "final evaluation": "priority",
         "finance": "convenient",
         "form": "complete",
         "has_nurs": "proper",
         "health": "recommended",
         "housing": "convenient",
         "parents": "usual",
         "social": "problematic"
        },
        {
         "Id": 8,
         "_deepnote_index_column": 7,
         "children": "1",
         "final evaluation": "priority",
         "finance": "convenient",
         "form": "complete",
         "has_nurs": "proper",
         "health": "priority",
         "housing": "convenient",
         "parents": "usual",
         "social": "problematic"
        },
        {
         "Id": 9,
         "_deepnote_index_column": 8,
         "children": "1",
         "final evaluation": "not_recom",
         "finance": "convenient",
         "form": "complete",
         "has_nurs": "proper",
         "health": "not_recom",
         "housing": "convenient",
         "parents": "usual",
         "social": "problematic"
        },
        {
         "Id": 10,
         "_deepnote_index_column": 9,
         "children": "1",
         "final evaluation": "very_recom",
         "finance": "inconv",
         "form": "complete",
         "has_nurs": "proper",
         "health": "recommended",
         "housing": "convenient",
         "parents": "usual",
         "social": "nonprob"
        }
       ]
      },
      "text/html": [
       "<div>\n",
       "<style scoped>\n",
       "    .dataframe tbody tr th:only-of-type {\n",
       "        vertical-align: middle;\n",
       "    }\n",
       "\n",
       "    .dataframe tbody tr th {\n",
       "        vertical-align: top;\n",
       "    }\n",
       "\n",
       "    .dataframe thead th {\n",
       "        text-align: right;\n",
       "    }\n",
       "</style>\n",
       "<table border=\"1\" class=\"dataframe\">\n",
       "  <thead>\n",
       "    <tr style=\"text-align: right;\">\n",
       "      <th></th>\n",
       "      <th>Id</th>\n",
       "      <th>parents</th>\n",
       "      <th>has_nurs</th>\n",
       "      <th>form</th>\n",
       "      <th>children</th>\n",
       "      <th>housing</th>\n",
       "      <th>finance</th>\n",
       "      <th>social</th>\n",
       "      <th>health</th>\n",
       "      <th>final evaluation</th>\n",
       "    </tr>\n",
       "  </thead>\n",
       "  <tbody>\n",
       "    <tr>\n",
       "      <th>0</th>\n",
       "      <td>1</td>\n",
       "      <td>usual</td>\n",
       "      <td>proper</td>\n",
       "      <td>complete</td>\n",
       "      <td>1</td>\n",
       "      <td>convenient</td>\n",
       "      <td>convenient</td>\n",
       "      <td>nonprob</td>\n",
       "      <td>recommended</td>\n",
       "      <td>recommend</td>\n",
       "    </tr>\n",
       "    <tr>\n",
       "      <th>1</th>\n",
       "      <td>2</td>\n",
       "      <td>usual</td>\n",
       "      <td>proper</td>\n",
       "      <td>complete</td>\n",
       "      <td>1</td>\n",
       "      <td>convenient</td>\n",
       "      <td>convenient</td>\n",
       "      <td>nonprob</td>\n",
       "      <td>priority</td>\n",
       "      <td>priority</td>\n",
       "    </tr>\n",
       "    <tr>\n",
       "      <th>2</th>\n",
       "      <td>3</td>\n",
       "      <td>usual</td>\n",
       "      <td>proper</td>\n",
       "      <td>complete</td>\n",
       "      <td>1</td>\n",
       "      <td>convenient</td>\n",
       "      <td>convenient</td>\n",
       "      <td>nonprob</td>\n",
       "      <td>not_recom</td>\n",
       "      <td>not_recom</td>\n",
       "    </tr>\n",
       "    <tr>\n",
       "      <th>3</th>\n",
       "      <td>4</td>\n",
       "      <td>usual</td>\n",
       "      <td>proper</td>\n",
       "      <td>complete</td>\n",
       "      <td>1</td>\n",
       "      <td>convenient</td>\n",
       "      <td>convenient</td>\n",
       "      <td>slightly_prob</td>\n",
       "      <td>recommended</td>\n",
       "      <td>recommend</td>\n",
       "    </tr>\n",
       "    <tr>\n",
       "      <th>4</th>\n",
       "      <td>5</td>\n",
       "      <td>usual</td>\n",
       "      <td>proper</td>\n",
       "      <td>complete</td>\n",
       "      <td>1</td>\n",
       "      <td>convenient</td>\n",
       "      <td>convenient</td>\n",
       "      <td>slightly_prob</td>\n",
       "      <td>priority</td>\n",
       "      <td>priority</td>\n",
       "    </tr>\n",
       "    <tr>\n",
       "      <th>...</th>\n",
       "      <td>...</td>\n",
       "      <td>...</td>\n",
       "      <td>...</td>\n",
       "      <td>...</td>\n",
       "      <td>...</td>\n",
       "      <td>...</td>\n",
       "      <td>...</td>\n",
       "      <td>...</td>\n",
       "      <td>...</td>\n",
       "      <td>...</td>\n",
       "    </tr>\n",
       "    <tr>\n",
       "      <th>12955</th>\n",
       "      <td>12956</td>\n",
       "      <td>great_pret</td>\n",
       "      <td>very_crit</td>\n",
       "      <td>foster</td>\n",
       "      <td>more</td>\n",
       "      <td>critical</td>\n",
       "      <td>inconv</td>\n",
       "      <td>slightly_prob</td>\n",
       "      <td>priority</td>\n",
       "      <td>spec_prior</td>\n",
       "    </tr>\n",
       "    <tr>\n",
       "      <th>12956</th>\n",
       "      <td>12957</td>\n",
       "      <td>great_pret</td>\n",
       "      <td>very_crit</td>\n",
       "      <td>foster</td>\n",
       "      <td>more</td>\n",
       "      <td>critical</td>\n",
       "      <td>inconv</td>\n",
       "      <td>slightly_prob</td>\n",
       "      <td>not_recom</td>\n",
       "      <td>not_recom</td>\n",
       "    </tr>\n",
       "    <tr>\n",
       "      <th>12957</th>\n",
       "      <td>12958</td>\n",
       "      <td>great_pret</td>\n",
       "      <td>very_crit</td>\n",
       "      <td>foster</td>\n",
       "      <td>more</td>\n",
       "      <td>critical</td>\n",
       "      <td>inconv</td>\n",
       "      <td>problematic</td>\n",
       "      <td>recommended</td>\n",
       "      <td>spec_prior</td>\n",
       "    </tr>\n",
       "    <tr>\n",
       "      <th>12958</th>\n",
       "      <td>12959</td>\n",
       "      <td>great_pret</td>\n",
       "      <td>very_crit</td>\n",
       "      <td>foster</td>\n",
       "      <td>more</td>\n",
       "      <td>critical</td>\n",
       "      <td>inconv</td>\n",
       "      <td>problematic</td>\n",
       "      <td>priority</td>\n",
       "      <td>spec_prior</td>\n",
       "    </tr>\n",
       "    <tr>\n",
       "      <th>12959</th>\n",
       "      <td>12960</td>\n",
       "      <td>great_pret</td>\n",
       "      <td>very_crit</td>\n",
       "      <td>foster</td>\n",
       "      <td>more</td>\n",
       "      <td>critical</td>\n",
       "      <td>inconv</td>\n",
       "      <td>problematic</td>\n",
       "      <td>not_recom</td>\n",
       "      <td>not_recom</td>\n",
       "    </tr>\n",
       "  </tbody>\n",
       "</table>\n",
       "<p>12960 rows × 10 columns</p>\n",
       "</div>"
      ],
      "text/plain": [
       "          Id     parents   has_nurs      form children     housing  \\\n",
       "0          1       usual     proper  complete        1  convenient   \n",
       "1          2       usual     proper  complete        1  convenient   \n",
       "2          3       usual     proper  complete        1  convenient   \n",
       "3          4       usual     proper  complete        1  convenient   \n",
       "4          5       usual     proper  complete        1  convenient   \n",
       "...      ...         ...        ...       ...      ...         ...   \n",
       "12955  12956  great_pret  very_crit    foster     more    critical   \n",
       "12956  12957  great_pret  very_crit    foster     more    critical   \n",
       "12957  12958  great_pret  very_crit    foster     more    critical   \n",
       "12958  12959  great_pret  very_crit    foster     more    critical   \n",
       "12959  12960  great_pret  very_crit    foster     more    critical   \n",
       "\n",
       "          finance         social       health final evaluation  \n",
       "0      convenient        nonprob  recommended        recommend  \n",
       "1      convenient        nonprob     priority         priority  \n",
       "2      convenient        nonprob    not_recom        not_recom  \n",
       "3      convenient  slightly_prob  recommended        recommend  \n",
       "4      convenient  slightly_prob     priority         priority  \n",
       "...           ...            ...          ...              ...  \n",
       "12955      inconv  slightly_prob     priority       spec_prior  \n",
       "12956      inconv  slightly_prob    not_recom        not_recom  \n",
       "12957      inconv    problematic  recommended       spec_prior  \n",
       "12958      inconv    problematic     priority       spec_prior  \n",
       "12959      inconv    problematic    not_recom        not_recom  \n",
       "\n",
       "[12960 rows x 10 columns]"
      ]
     },
     "execution_count": 2,
     "metadata": {},
     "output_type": "execute_result"
    }
   ],
   "outputs_reference": "s3:deepnote-cell-outputs-production/5f438d78-2b21-4271-bedd-a1224f442253",
   "source": [
    "df = pd.read_csv(\"asset/data/nursery.csv\")\n",
    "df"
   ]
  },
  {
   "block_group": "5c9339e06a4e4e5aaa5e0bb82a481728",
   "cell_type": "markdown",
   "metadata": {
    "cell_id": "f0c7f2f9c2b9460cad93eccc707f0c49",
    "deepnote_cell_type": "text-cell-h2",
    "formattedRanges": []
   },
   "source": [
    "## Memahami Data"
   ]
  },
  {
   "block_group": "23fe55c8cc92485c9f8c0fac18ffd023",
   "cell_type": "markdown",
   "metadata": {
    "cell_id": "69f2461e1dc74315a7dab1a7e651eb98",
    "deepnote_cell_type": "text-cell-h3",
    "formattedRanges": []
   },
   "source": [
    "### Deskripsi Data"
   ]
  },
  {
   "block_group": "3e42c435e0e249e5bf047cfa190b652f",
   "cell_type": "markdown",
   "metadata": {
    "cell_id": "153763009f004805839e416d50cc7968",
    "deepnote_cell_type": "text-cell-p",
    "formattedRanges": []
   },
   "source": [
    "Database Pembibitan berasal dari model keputusan hierarki yang awalnya dikembangkan untuk menentukan peringkat aplikasi untuk sekolah taman kanak-kanak."
   ]
  },
  {
   "block_group": "aa3424dda5ee48b8acf5ba72038f820d",
   "cell_type": "markdown",
   "metadata": {
    "cell_id": "da5bc19540264c4c86639ad02e597129",
    "deepnote_cell_type": "text-cell-p",
    "formattedRanges": []
   },
   "source": [
    "Database Pembibitan berasal dari model keputusan hierarki yang awalnya dikembangkan untuk menentukan peringkat aplikasi untuk sekolah taman kanak-kanak. Istilah ini digunakan selama beberapa tahun pada tahun 1980-an ketika jumlah siswa yang mendaftar di sekolah-sekolah tersebut di Ljubljana, Slovenia sangat tinggi, dan permohonan yang ditolak sering kali memerlukan penjelasan yang obyektif. Keputusan akhir bergantung pada tiga submasalah: pekerjaan orang tua dan tempat penitipan anak, struktur keluarga dan kondisi keuangan, serta gambaran sosial dan kesehatan keluarga. Model ini dikembangkan dalam shell sistem pakar untuk pengambilan keputusan DEX (M. Bohanec, V. Rajkovic: Sistem pakar untuk pengambilan keputusan. Sistemica 1(1), hlm. 145-157, 1990.). "
   ]
  },
  {
   "block_group": "9317983110ea4f3793484e48f0357002",
   "cell_type": "markdown",
   "metadata": {
    "cell_id": "0de8baeb9ca948c4a5fb924b2da98bd2",
    "deepnote_cell_type": "text-cell-p",
    "formattedRanges": []
   },
   "source": [
    "Model hierarki memeringkat aplikasi taman kanak-kanak berdasarkan struktur konsep berikut: "
   ]
  },
  {
   "block_group": "1527566b3c6c44278652eee1ab49de4f",
   "cell_type": "markdown",
   "metadata": {
    "cell_id": "ae82a3936a084bbda253328f8ce573a3",
    "deepnote_app_block_visible": false,
    "deepnote_cell_type": "text-cell-bullet",
    "formattedRanges": [],
    "is_collapsed": false
   },
   "source": [
    "- NURSERY, Evaluation of applications for nursery schools\r"
   ]
  },
  {
   "block_group": "6e7446f8edb54cd29bb4ed845a45fe76",
   "cell_type": "markdown",
   "metadata": {
    "cell_id": "40afbe4236ab4a7d8acb75fdcac00183",
    "deepnote_app_block_visible": false,
    "deepnote_cell_type": "text-cell-bullet",
    "formattedRanges": [],
    "is_collapsed": false
   },
   "source": [
    "- EMPLOY, Employment of parents and child's nursery\r"
   ]
  },
  {
   "block_group": "49611732a541451484e2e25873f89023",
   "cell_type": "markdown",
   "metadata": {
    "cell_id": "7f6d91331690449d88b9a8ff3c6b387e",
    "deepnote_app_block_visible": false,
    "deepnote_cell_type": "text-cell-bullet",
    "formattedRanges": [],
    "is_collapsed": false
   },
   "source": [
    "- parents, Parents' occupation\r"
   ]
  },
  {
   "block_group": "4dbc0693b8b34a90bc4a6811e0530e76",
   "cell_type": "markdown",
   "metadata": {
    "cell_id": "e82b9e98a67749ef94b3711fa385e072",
    "deepnote_app_block_visible": false,
    "deepnote_cell_type": "text-cell-bullet",
    "formattedRanges": [],
    "is_collapsed": false
   },
   "source": [
    "- has_nurs, Child's nursery\r"
   ]
  },
  {
   "block_group": "df8a1f0586e046b18e2e7e49279e72e4",
   "cell_type": "markdown",
   "metadata": {
    "cell_id": "0f68ab8af2b54d98bc17aec876e3ff44",
    "deepnote_app_block_visible": false,
    "deepnote_cell_type": "text-cell-bullet",
    "formattedRanges": [],
    "is_collapsed": false
   },
   "source": [
    "- STRUCT_FINAN, Family structure and financial standings\r"
   ]
  },
  {
   "block_group": "2f3a5df3a75842938c076c65463e7d33",
   "cell_type": "markdown",
   "metadata": {
    "cell_id": "576324bc84794ab99ba6dc6e9297b552",
    "deepnote_app_block_visible": false,
    "deepnote_cell_type": "text-cell-bullet",
    "formattedRanges": [],
    "is_collapsed": false
   },
   "source": [
    "- STRUCTURE, Family structure\r"
   ]
  },
  {
   "block_group": "fef169ee62dc4eb28cfd7c54c04eba4b",
   "cell_type": "markdown",
   "metadata": {
    "cell_id": "506e19828f7c45c7938e0fba9d5a98c9",
    "deepnote_app_block_visible": false,
    "deepnote_cell_type": "text-cell-bullet",
    "formattedRanges": [],
    "is_collapsed": false
   },
   "source": [
    "- form, Form of the family\r"
   ]
  },
  {
   "block_group": "f09832164e684f719285b9aecc629f79",
   "cell_type": "markdown",
   "metadata": {
    "cell_id": "aaa2f39af3a742b7b51aeae7438672a1",
    "deepnote_app_block_visible": false,
    "deepnote_cell_type": "text-cell-bullet",
    "formattedRanges": [],
    "is_collapsed": false
   },
   "source": [
    "- children, Number of children\r"
   ]
  },
  {
   "block_group": "25760afd6aef4b26b2a922708abfddb8",
   "cell_type": "markdown",
   "metadata": {
    "cell_id": "952e43f912794bdeba782e04fe3f408d",
    "deepnote_app_block_visible": false,
    "deepnote_cell_type": "text-cell-bullet",
    "formattedRanges": [],
    "is_collapsed": false
   },
   "source": [
    "- housing, Housing conditions\r"
   ]
  },
  {
   "block_group": "cb8940e07085466b846212d650006f62",
   "cell_type": "markdown",
   "metadata": {
    "cell_id": "13132e87daa2456cba5e352dfe74f528",
    "deepnote_app_block_visible": false,
    "deepnote_cell_type": "text-cell-bullet",
    "formattedRanges": [],
    "is_collapsed": false
   },
   "source": [
    "- finance, Financial standing of the family\r"
   ]
  },
  {
   "block_group": "62cb7dae42b6453681231a934584fe8a",
   "cell_type": "markdown",
   "metadata": {
    "cell_id": "b4b0ac6694bf47ab9d19b7e4a779332a",
    "deepnote_app_block_visible": false,
    "deepnote_cell_type": "text-cell-bullet",
    "formattedRanges": [],
    "is_collapsed": false
   },
   "source": [
    "- SOC_HEALTH, Social and health picture of the family\r"
   ]
  },
  {
   "block_group": "c7444247749c450b905fc3222da25da0",
   "cell_type": "markdown",
   "metadata": {
    "cell_id": "78e396dfd0e64e9bafe171a3737ec850",
    "deepnote_app_block_visible": false,
    "deepnote_cell_type": "text-cell-bullet",
    "formattedRanges": [],
    "is_collapsed": false
   },
   "source": [
    "- social, Social conditions\r"
   ]
  },
  {
   "block_group": "73ae935365cc40c9801bb574bfc6a594",
   "cell_type": "markdown",
   "metadata": {
    "cell_id": "26fb9e7aedcf456ba1cbf30063284218",
    "deepnote_app_block_visible": false,
    "deepnote_cell_type": "text-cell-bullet",
    "formattedRanges": [],
    "is_collapsed": false
   },
   "source": [
    "- health, Health conditions"
   ]
  },
  {
   "block_group": "8b1ca32e10d84d3f9475c23302908c50",
   "cell_type": "markdown",
   "metadata": {
    "cell_id": "f1d0459d95f04b5d84f6b40801420a71",
    "deepnote_app_block_visible": false,
    "deepnote_cell_type": "text-cell-p",
    "formattedRanges": [],
    "is_collapsed": false
   },
   "source": [
    "Setiap konsep dalam model asli dihubungkan dengan keturunan tingkat bawahnya melalui serangkaian contoh (untuk kumpulan contoh ini, lihat http://www-ai.ijs.si/BlazZupan/nursery.html). Basis Data Pembibitan berisi contoh-contoh yang informasi strukturalnya dihilangkan, yaitu menghubungkan langsung NURSERY dengan delapan atribut input: orang tua, has_nurs, bentuk, anak, perumahan, keuangan, sosial, kesehatan. Karena struktur konsep dasar yang diketahui, database ini mungkin berguna untuk menguji metode induksi konstruktif dan penemuan struktur."
   ]
  },
  {
   "block_group": "3bfaf319791c436f85a737676779f9cc",
   "cell_type": "markdown",
   "metadata": {
    "cell_id": "29bb5aa6f7234816b0fe6228395ee5c0",
    "deepnote_cell_type": "text-cell-h3",
    "formattedRanges": []
   },
   "source": [
    "### Penjelasan Fitur"
   ]
  },
  {
   "block_group": "abd5e6d9cf7c4dc989bda27f3a535333",
   "cell_type": "markdown",
   "metadata": {
    "cell_id": "eee5eac0639b4b19b7f41db6a0cdeb00",
    "deepnote_cell_type": "image",
    "deepnote_img_alignment": "left",
    "deepnote_img_src": "asset/image/variable_table.png",
    "deepnote_img_width": "75%"
   },
   "source": [
    "<img src=\"asset/image/variable_table.png\" width=\"75%\" align=\"left\" />"
   ]
  },
  {
   "block_group": "93327037413647c49f74af4c0d179f7d",
   "cell_type": "markdown",
   "metadata": {
    "cell_id": "0ca74dddae7c4794a70c081b79623f18",
    "deepnote_app_block_visible": false,
    "deepnote_cell_type": "text-cell-bullet",
    "formattedRanges": [],
    "is_collapsed": false
   },
   "source": [
    "- parents, Kriteria Pekerjaan Orang Tua"
   ]
  },
  {
   "block_group": "e070317f13b94a8c93abe676157906b0",
   "cell_type": "markdown",
   "metadata": {
    "cell_id": "79fa16d2276d428c84753e34afea3bf8",
    "deepnote_app_block_visible": false,
    "deepnote_cell_type": "text-cell-bullet",
    "formattedRanges": [],
    "is_collapsed": false
   },
   "source": [
    "- has_nurs, Jumlah Anak yang Pernah Dirawat"
   ]
  },
  {
   "block_group": "d3ee804879ba4fe38b6fb2f6f2d454f9",
   "cell_type": "markdown",
   "metadata": {
    "cell_id": "57f24597ed6346478325e1e957c95c4a",
    "deepnote_app_block_visible": false,
    "deepnote_cell_type": "text-cell-bullet",
    "formattedRanges": [],
    "is_collapsed": false
   },
   "source": [
    "- form, Kondisi Keluarga"
   ]
  },
  {
   "block_group": "eb9aeaa764d045ca9daea8b98ec9d0d5",
   "cell_type": "markdown",
   "metadata": {
    "cell_id": "5291234e90a24cc0a384eb3197e1cf16",
    "deepnote_app_block_visible": false,
    "deepnote_cell_type": "text-cell-bullet",
    "formattedRanges": [],
    "is_collapsed": false
   },
   "source": [
    "- children, Jumlah Anak dalam Keluarga "
   ]
  },
  {
   "block_group": "4f6b88fce12f4d26ad2b1be29890020e",
   "cell_type": "markdown",
   "metadata": {
    "cell_id": "0e85837812d84849a0ad988a936cfd09",
    "deepnote_app_block_visible": false,
    "deepnote_cell_type": "text-cell-bullet",
    "formattedRanges": [],
    "is_collapsed": false
   },
   "source": [
    "- housing, Keadaan Rumah"
   ]
  },
  {
   "block_group": "f57bc157916b462caad48fad856e5b6a",
   "cell_type": "markdown",
   "metadata": {
    "cell_id": "fed8c0c455d54c78852026f1a929c56c",
    "deepnote_app_block_visible": false,
    "deepnote_cell_type": "text-cell-bullet",
    "formattedRanges": [],
    "is_collapsed": false
   },
   "source": [
    "- finance, Keadaan Keuangan Keluarga"
   ]
  },
  {
   "block_group": "71624ae414fc49698d9e3c90f9575ea6",
   "cell_type": "markdown",
   "metadata": {
    "cell_id": "670a948e146d4dcbae45462164ae8b71",
    "deepnote_app_block_visible": false,
    "deepnote_cell_type": "text-cell-bullet",
    "formattedRanges": [],
    "is_collapsed": false
   },
   "source": [
    "- social, Keadaan Sosial "
   ]
  },
  {
   "block_group": "bfd59b7b434346938740a4f70c7042a6",
   "cell_type": "markdown",
   "metadata": {
    "cell_id": "a7441cb3f1854c4e87d240f7d88b8a4c",
    "deepnote_app_block_visible": false,
    "deepnote_cell_type": "text-cell-bullet",
    "formattedRanges": [],
    "is_collapsed": false
   },
   "source": [
    "- health, Keadaan Kesehatan"
   ]
  },
  {
   "block_group": "1561ebfae9594088802b8366cf64d07b",
   "cell_type": "markdown",
   "metadata": {
    "cell_id": "e1dba72bbc78445dbf0d7805f23e66df",
    "deepnote_app_block_visible": false,
    "deepnote_cell_type": "text-cell-bullet",
    "formattedRanges": [],
    "is_collapsed": false
   },
   "source": [
    "- class (Categorial), Kriteria Perawat"
   ]
  },
  {
   "block_group": "67d9cd4a5f224212ae62799ba4efaf07",
   "cell_type": "markdown",
   "metadata": {
    "cell_id": "d9ceda095f2c454784a3257bb4753fe8",
    "deepnote_cell_type": "text-cell-h2",
    "formattedRanges": []
   },
   "source": [
    "## Eksplorasi Data"
   ]
  },
  {
   "block_group": "6f9dbad8c3ae48de8f144dcb3cee1a26",
   "cell_type": "code",
   "content_dependencies": null,
   "execution_count": 3,
   "metadata": {
    "cell_id": "7ebfea7870c94e9fb8f0b9a5d784765f",
    "deepnote_cell_type": "code",
    "deepnote_to_be_reexecuted": false,
    "execution_millis": 205,
    "execution_start": 1719408989785,
    "source_hash": "6260af6c"
   },
   "outputs": [
    {
     "data": {
      "application/vnd.deepnote.dataframe.v3+json": {
       "column_count": 9,
       "columns": [
        {
         "dtype": "object",
         "name": "parents",
         "stats": {
          "categories": [
           {
            "count": 1,
            "name": "12960"
           },
           {
            "count": 1,
            "name": "3"
           },
           {
            "count": 2,
            "name": "2 others"
           }
          ],
          "nan_count": 0,
          "unique_count": 4
         }
        },
        {
         "dtype": "object",
         "name": "has_nurs",
         "stats": {
          "categories": [
           {
            "count": 1,
            "name": "12960"
           },
           {
            "count": 1,
            "name": "5"
           },
           {
            "count": 2,
            "name": "2 others"
           }
          ],
          "nan_count": 0,
          "unique_count": 4
         }
        },
        {
         "dtype": "object",
         "name": "form",
         "stats": {
          "categories": [
           {
            "count": 1,
            "name": "12960"
           },
           {
            "count": 1,
            "name": "4"
           },
           {
            "count": 2,
            "name": "2 others"
           }
          ],
          "nan_count": 0,
          "unique_count": 4
         }
        },
        {
         "dtype": "object",
         "name": "children",
         "stats": {
          "categories": [
           {
            "count": 1,
            "name": "12960"
           },
           {
            "count": 1,
            "name": "4"
           },
           {
            "count": 2,
            "name": "2 others"
           }
          ],
          "nan_count": 0,
          "unique_count": 4
         }
        },
        {
         "dtype": "object",
         "name": "housing",
         "stats": {
          "categories": [
           {
            "count": 1,
            "name": "12960"
           },
           {
            "count": 1,
            "name": "3"
           },
           {
            "count": 2,
            "name": "2 others"
           }
          ],
          "nan_count": 0,
          "unique_count": 4
         }
        },
        {
         "dtype": "object",
         "name": "finance",
         "stats": {
          "categories": [
           {
            "count": 1,
            "name": "12960"
           },
           {
            "count": 1,
            "name": "2"
           },
           {
            "count": 2,
            "name": "2 others"
           }
          ],
          "nan_count": 0,
          "unique_count": 4
         }
        },
        {
         "dtype": "object",
         "name": "social",
         "stats": {
          "categories": [
           {
            "count": 1,
            "name": "12960"
           },
           {
            "count": 1,
            "name": "3"
           },
           {
            "count": 2,
            "name": "2 others"
           }
          ],
          "nan_count": 0,
          "unique_count": 4
         }
        },
        {
         "dtype": "object",
         "name": "health",
         "stats": {
          "categories": [
           {
            "count": 1,
            "name": "12960"
           },
           {
            "count": 1,
            "name": "3"
           },
           {
            "count": 2,
            "name": "2 others"
           }
          ],
          "nan_count": 0,
          "unique_count": 4
         }
        },
        {
         "dtype": "object",
         "name": "final evaluation",
         "stats": {
          "categories": [
           {
            "count": 1,
            "name": "12960"
           },
           {
            "count": 1,
            "name": "5"
           },
           {
            "count": 2,
            "name": "2 others"
           }
          ],
          "nan_count": 0,
          "unique_count": 4
         }
        },
        {
         "dtype": "object",
         "name": "_deepnote_index_column"
        }
       ],
       "row_count": 4,
       "rows": [
        {
         "_deepnote_index_column": "count",
         "children": "12960",
         "final evaluation": "12960",
         "finance": "12960",
         "form": "12960",
         "has_nurs": "12960",
         "health": "12960",
         "housing": "12960",
         "parents": "12960",
         "social": "12960"
        },
        {
         "_deepnote_index_column": "unique",
         "children": "4",
         "final evaluation": "5",
         "finance": "2",
         "form": "4",
         "has_nurs": "5",
         "health": "3",
         "housing": "3",
         "parents": "3",
         "social": "3"
        },
        {
         "_deepnote_index_column": "top",
         "children": "1",
         "final evaluation": "not_recom",
         "finance": "convenient",
         "form": "complete",
         "has_nurs": "proper",
         "health": "recommended",
         "housing": "convenient",
         "parents": "usual",
         "social": "nonprob"
        },
        {
         "_deepnote_index_column": "freq",
         "children": "3240",
         "final evaluation": "4320",
         "finance": "6480",
         "form": "3240",
         "has_nurs": "2592",
         "health": "4320",
         "housing": "4320",
         "parents": "4320",
         "social": "4320"
        }
       ]
      },
      "text/html": [
       "<div>\n",
       "<style scoped>\n",
       "    .dataframe tbody tr th:only-of-type {\n",
       "        vertical-align: middle;\n",
       "    }\n",
       "\n",
       "    .dataframe tbody tr th {\n",
       "        vertical-align: top;\n",
       "    }\n",
       "\n",
       "    .dataframe thead th {\n",
       "        text-align: right;\n",
       "    }\n",
       "</style>\n",
       "<table border=\"1\" class=\"dataframe\">\n",
       "  <thead>\n",
       "    <tr style=\"text-align: right;\">\n",
       "      <th></th>\n",
       "      <th>parents</th>\n",
       "      <th>has_nurs</th>\n",
       "      <th>form</th>\n",
       "      <th>children</th>\n",
       "      <th>housing</th>\n",
       "      <th>finance</th>\n",
       "      <th>social</th>\n",
       "      <th>health</th>\n",
       "      <th>final evaluation</th>\n",
       "    </tr>\n",
       "  </thead>\n",
       "  <tbody>\n",
       "    <tr>\n",
       "      <th>count</th>\n",
       "      <td>12960</td>\n",
       "      <td>12960</td>\n",
       "      <td>12960</td>\n",
       "      <td>12960</td>\n",
       "      <td>12960</td>\n",
       "      <td>12960</td>\n",
       "      <td>12960</td>\n",
       "      <td>12960</td>\n",
       "      <td>12960</td>\n",
       "    </tr>\n",
       "    <tr>\n",
       "      <th>unique</th>\n",
       "      <td>3</td>\n",
       "      <td>5</td>\n",
       "      <td>4</td>\n",
       "      <td>4</td>\n",
       "      <td>3</td>\n",
       "      <td>2</td>\n",
       "      <td>3</td>\n",
       "      <td>3</td>\n",
       "      <td>5</td>\n",
       "    </tr>\n",
       "    <tr>\n",
       "      <th>top</th>\n",
       "      <td>usual</td>\n",
       "      <td>proper</td>\n",
       "      <td>complete</td>\n",
       "      <td>1</td>\n",
       "      <td>convenient</td>\n",
       "      <td>convenient</td>\n",
       "      <td>nonprob</td>\n",
       "      <td>recommended</td>\n",
       "      <td>not_recom</td>\n",
       "    </tr>\n",
       "    <tr>\n",
       "      <th>freq</th>\n",
       "      <td>4320</td>\n",
       "      <td>2592</td>\n",
       "      <td>3240</td>\n",
       "      <td>3240</td>\n",
       "      <td>4320</td>\n",
       "      <td>6480</td>\n",
       "      <td>4320</td>\n",
       "      <td>4320</td>\n",
       "      <td>4320</td>\n",
       "    </tr>\n",
       "  </tbody>\n",
       "</table>\n",
       "</div>"
      ],
      "text/plain": [
       "       parents has_nurs      form children     housing     finance   social  \\\n",
       "count    12960    12960     12960    12960       12960       12960    12960   \n",
       "unique       3        5         4        4           3           2        3   \n",
       "top      usual   proper  complete        1  convenient  convenient  nonprob   \n",
       "freq      4320     2592      3240     3240        4320        6480     4320   \n",
       "\n",
       "             health final evaluation  \n",
       "count         12960            12960  \n",
       "unique            3                5  \n",
       "top     recommended        not_recom  \n",
       "freq           4320             4320  "
      ]
     },
     "execution_count": 3,
     "metadata": {},
     "output_type": "execute_result"
    }
   ],
   "outputs_reference": "s3:deepnote-cell-outputs-production/02a51e92-1341-4e0d-9177-5077e67a19c2",
   "source": [
    "df[[\"parents\", \"has_nurs\", \"form\", \"children\", \"housing\", \"finance\", \"social\", \"health\", \"final evaluation\"]].describe()"
   ]
  },
  {
   "block_group": "96e51d515a8f4dab933b6c0edae676e4",
   "cell_type": "markdown",
   "metadata": {
    "cell_id": "be5a06d493c94e04b6a7202501947ba9",
    "deepnote_cell_type": "text-cell-p",
    "formattedRanges": []
   },
   "source": [
    "penjelasan"
   ]
  },
  {
   "block_group": "f77613e4915a476c86c1326f6843e3e8",
   "cell_type": "code",
   "content_dependencies": null,
   "execution_count": 4,
   "metadata": {
    "cell_id": "ae853251ac1340ffacaf287d2db7cf6c",
    "deepnote_cell_type": "code",
    "deepnote_to_be_reexecuted": false,
    "execution_millis": 376,
    "execution_start": 1719408989855,
    "source_hash": "f23138b6"
   },
   "outputs": [
    {
     "data": {
      "text/plain": [
       "parents\n",
       "great_pret     4320\n",
       "pretentious    4320\n",
       "usual          4320\n",
       "Name: count, dtype: int64"
      ]
     },
     "execution_count": 4,
     "metadata": {},
     "output_type": "execute_result"
    }
   ],
   "outputs_reference": "dbtable:cell_outputs/12364fda-08fa-4bdf-874c-2a11b7d629ae",
   "source": [
    "df.value_counts(\"parents\")"
   ]
  },
  {
   "block_group": "ccc64e6bd0df456fbec2058a08030baf",
   "cell_type": "code",
   "content_dependencies": null,
   "execution_count": 5,
   "metadata": {
    "cell_id": "cca754373c0c4b898f79eb361aae879c",
    "deepnote_cell_type": "code",
    "deepnote_to_be_reexecuted": false,
    "execution_millis": 376,
    "execution_start": 1719408989856,
    "source_hash": "be9a5940"
   },
   "outputs": [
    {
     "data": {
      "text/plain": [
       "has_nurs\n",
       "critical       2592\n",
       "improper       2592\n",
       "less_proper    2592\n",
       "proper         2592\n",
       "very_crit      2592\n",
       "Name: count, dtype: int64"
      ]
     },
     "execution_count": 5,
     "metadata": {},
     "output_type": "execute_result"
    }
   ],
   "outputs_reference": "dbtable:cell_outputs/748e966d-b9be-4181-866b-9ae2d5a9e860",
   "source": [
    "df.value_counts(\"has_nurs\")"
   ]
  },
  {
   "block_group": "a77c70d0c08a4b82a65cb4d8ee23fb90",
   "cell_type": "code",
   "content_dependencies": null,
   "execution_count": 6,
   "metadata": {
    "cell_id": "9c4d997fef9e4625a07936bf05c13a94",
    "deepnote_cell_type": "code",
    "deepnote_to_be_reexecuted": false,
    "execution_millis": 376,
    "execution_start": 1719408989857,
    "source_hash": "44d7a0f5"
   },
   "outputs": [
    {
     "data": {
      "text/plain": [
       "form\n",
       "complete      3240\n",
       "completed     3240\n",
       "foster        3240\n",
       "incomplete    3240\n",
       "Name: count, dtype: int64"
      ]
     },
     "execution_count": 6,
     "metadata": {},
     "output_type": "execute_result"
    }
   ],
   "outputs_reference": "dbtable:cell_outputs/760fa742-60e6-4465-a25a-16afafa921d4",
   "source": [
    "df.value_counts(\"form\")"
   ]
  },
  {
   "block_group": "bfdc568038984d1a932ae56565945fea",
   "cell_type": "code",
   "content_dependencies": null,
   "execution_count": 7,
   "metadata": {
    "cell_id": "84fee60602244e2086a6019b303628af",
    "deepnote_cell_type": "code",
    "deepnote_to_be_reexecuted": false,
    "execution_millis": 373,
    "execution_start": 1719408989860,
    "source_hash": "11ce3603"
   },
   "outputs": [
    {
     "data": {
      "text/plain": [
       "children\n",
       "1       3240\n",
       "2       3240\n",
       "3       3240\n",
       "more    3240\n",
       "Name: count, dtype: int64"
      ]
     },
     "execution_count": 7,
     "metadata": {},
     "output_type": "execute_result"
    }
   ],
   "outputs_reference": "dbtable:cell_outputs/5c1909d6-3888-4775-b30b-d795ccb83b35",
   "source": [
    "df.value_counts(\"children\")"
   ]
  },
  {
   "block_group": "3bb8b3ba954041678abcb801bf38ec45",
   "cell_type": "code",
   "content_dependencies": null,
   "execution_count": 8,
   "metadata": {
    "cell_id": "8cc6664879c9493ea8d9ef7ed981e027",
    "deepnote_cell_type": "code",
    "deepnote_to_be_reexecuted": false,
    "execution_millis": 373,
    "execution_start": 1719408989861,
    "source_hash": "9835672c"
   },
   "outputs": [
    {
     "data": {
      "text/plain": [
       "housing\n",
       "convenient    4320\n",
       "critical      4320\n",
       "less_conv     4320\n",
       "Name: count, dtype: int64"
      ]
     },
     "execution_count": 8,
     "metadata": {},
     "output_type": "execute_result"
    }
   ],
   "outputs_reference": "dbtable:cell_outputs/01edb05e-d156-4628-be29-1800abfdaf85",
   "source": [
    "df.value_counts(\"housing\")"
   ]
  },
  {
   "block_group": "f08a6719c38543d18d747262c23fea27",
   "cell_type": "code",
   "content_dependencies": null,
   "execution_count": 9,
   "metadata": {
    "cell_id": "00a1e18e5c8046c9968b8770a09fe060",
    "deepnote_cell_type": "code",
    "deepnote_to_be_reexecuted": false,
    "execution_millis": 368,
    "execution_start": 1719408989866,
    "source_hash": "260e7060"
   },
   "outputs": [
    {
     "data": {
      "text/plain": [
       "finance\n",
       "convenient    6480\n",
       "inconv        6480\n",
       "Name: count, dtype: int64"
      ]
     },
     "execution_count": 9,
     "metadata": {},
     "output_type": "execute_result"
    }
   ],
   "outputs_reference": "dbtable:cell_outputs/f8a70f10-1593-4db5-9f63-b50d92a480d8",
   "source": [
    "df.value_counts(\"finance\")"
   ]
  },
  {
   "block_group": "14e6580667ce42558ff8015fba048656",
   "cell_type": "code",
   "content_dependencies": null,
   "execution_count": 10,
   "metadata": {
    "cell_id": "b27b6bd0aa444d7f97bbcec0241ed012",
    "deepnote_cell_type": "code",
    "deepnote_to_be_reexecuted": false,
    "execution_millis": 322,
    "execution_start": 1719408989913,
    "source_hash": "e8b81b01"
   },
   "outputs": [
    {
     "data": {
      "text/plain": [
       "social\n",
       "nonprob          4320\n",
       "problematic      4320\n",
       "slightly_prob    4320\n",
       "Name: count, dtype: int64"
      ]
     },
     "execution_count": 10,
     "metadata": {},
     "output_type": "execute_result"
    }
   ],
   "outputs_reference": "dbtable:cell_outputs/85444b99-3ec5-4c98-aa6b-6c361c75ec10",
   "source": [
    "df.value_counts(\"social\")"
   ]
  },
  {
   "block_group": "50633ef9dd364f60b4939c2ac472a527",
   "cell_type": "code",
   "content_dependencies": null,
   "execution_count": 11,
   "metadata": {
    "cell_id": "457d3f15d59244a490d1cbcd7549838d",
    "deepnote_cell_type": "code",
    "deepnote_to_be_reexecuted": false,
    "execution_millis": 320,
    "execution_start": 1719408989915,
    "source_hash": "488705ca"
   },
   "outputs": [
    {
     "data": {
      "text/plain": [
       "health\n",
       "not_recom      4320\n",
       "priority       4320\n",
       "recommended    4320\n",
       "Name: count, dtype: int64"
      ]
     },
     "execution_count": 11,
     "metadata": {},
     "output_type": "execute_result"
    }
   ],
   "outputs_reference": "dbtable:cell_outputs/4bb6de77-f44f-4ed3-9212-b491724133e4",
   "source": [
    "df.value_counts(\"health\")"
   ]
  },
  {
   "block_group": "736c5a6de9fc4b66a3bb085cd3608a3e",
   "cell_type": "code",
   "content_dependencies": null,
   "execution_count": 12,
   "metadata": {
    "cell_id": "4a8ae845e3d9467a8a14739dd10da44b",
    "deepnote_cell_type": "code",
    "deepnote_to_be_reexecuted": false,
    "execution_millis": 318,
    "execution_start": 1719408989918,
    "source_hash": "d79643e6"
   },
   "outputs": [
    {
     "data": {
      "text/plain": [
       "final evaluation\n",
       "not_recom     4320\n",
       "priority      4266\n",
       "spec_prior    4044\n",
       "very_recom     328\n",
       "recommend        2\n",
       "Name: count, dtype: int64"
      ]
     },
     "execution_count": 12,
     "metadata": {},
     "output_type": "execute_result"
    }
   ],
   "outputs_reference": "dbtable:cell_outputs/5219f344-3f75-4c52-a630-d878da40553d",
   "source": [
    "df.value_counts(\"final evaluation\")"
   ]
  },
  {
   "block_group": "3a205a1239674118910c56f770a15727",
   "cell_type": "markdown",
   "metadata": {
    "cell_id": "78584d28efe843ddb390b8b2d61c1473",
    "deepnote_cell_type": "text-cell-p",
    "formattedRanges": []
   },
   "source": [
    "Dapat dilihat dari code di atas bahwa fitur-fitur yang ada sudah seimbang."
   ]
  },
  {
   "block_group": "85b0d362c9f64956ae3b7591fbc483d2",
   "cell_type": "markdown",
   "metadata": {
    "cell_id": "b56109f62fb44639bb12d1f65e59fba3",
    "deepnote_cell_type": "text-cell-p",
    "formattedRanges": []
   },
   "source": [
    "Berdasarkan code terakhir, dapat diperoleh informasi\r",
    " bahwa data Class atau variabel respon mempunyai\r",
    "nilai yang berbeda-beda di setiap kriteria. Terlihat\r",
    " bahwa kriteria not recom menjadi nilai yang paling\r",
    " banyak muncul daripada kriteria yang lain. Sedangkan\r",
    " kriteria recommend menjadi nilai yang paling\r",
    " sedikit daripada kriteria yang lain. Jarak antara paling\r",
    " banyak muncul dengan paling sedikit muncul cukup\r",
    " tinggi. Sehingga bisa dikatakan data cukup bervariasi.\r",
    " Pada kriteria recommended yang hanya mempunyai\r",
    " nilai 2 perlu diperhatikan, agar mengurangi kesalahan\r",
    " dalam melakukan analisis data. "
   ]
  },
  {
   "block_group": "ad3dfdb85f2644ecb162ff86ef4d9e27",
   "cell_type": "markdown",
   "metadata": {
    "cell_id": "f88deea9e54142f4bc69afed9a619952",
    "deepnote_cell_type": "text-cell-h2",
    "formattedRanges": []
   },
   "source": [
    "## Kualitas Data"
   ]
  },
  {
   "block_group": "f0bc9a1318304a51af8927c95eb19d49",
   "cell_type": "markdown",
   "metadata": {
    "cell_id": "df957a40c0fa412887994797475efec4",
    "deepnote_cell_type": "text-cell-h3",
    "formattedRanges": []
   },
   "source": [
    "### Missing Value"
   ]
  },
  {
   "block_group": "c5006381c08f487a84536500163bd9b9",
   "cell_type": "markdown",
   "metadata": {
    "cell_id": "d94fe27ba7d84ee2837f98891213f9a4",
    "deepnote_cell_type": "text-cell-p",
    "formattedRanges": []
   },
   "source": [
    "Missing value adalah informasi yang tidak tersedia untuk sebuah objek (kasus). Missing value terjadi karena informasi untuk sesuatu tentang objek tidak diberikan, sulit dicari, atau memang informasi tersebut tidak ada"
   ]
  },
  {
   "block_group": "2f264d2edfb04e1aabc2c07942c2f90b",
   "cell_type": "markdown",
   "metadata": {
    "cell_id": "5c6e3d70e08c4ddf92aeca19b0027af9",
    "deepnote_cell_type": "text-cell-p",
    "formattedRanges": []
   },
   "source": [
    "Kita akan mengecek untuk kualitas data, apakah data tersebut memiliki missing value atau tidak. "
   ]
  },
  {
   "block_group": "4d99a652dc2e4114bb0460d7ee36f21b",
   "cell_type": "code",
   "content_dependencies": null,
   "execution_count": 13,
   "metadata": {
    "cell_id": "35ff313f7a6a45608b7bc6608ff3f56d",
    "deepnote_cell_type": "code",
    "deepnote_to_be_reexecuted": false,
    "execution_millis": 265,
    "execution_start": 1719408989971,
    "source_hash": "f3dd26da"
   },
   "outputs": [
    {
     "data": {
      "text/plain": [
       "Id                  0\n",
       "parents             0\n",
       "has_nurs            0\n",
       "form                0\n",
       "children            0\n",
       "housing             0\n",
       "finance             0\n",
       "social              0\n",
       "health              0\n",
       "final evaluation    0\n",
       "dtype: int64"
      ]
     },
     "execution_count": 13,
     "metadata": {},
     "output_type": "execute_result"
    }
   ],
   "outputs_reference": "dbtable:cell_outputs/56a45f0b-fada-4ce9-8c00-59f256022e4a",
   "source": [
    "df.isnull().sum()"
   ]
  },
  {
   "block_group": "09c63dde905347beb1bc6c4301d8e296",
   "cell_type": "markdown",
   "metadata": {
    "cell_id": "18468758736b4ebfb30ae45d3639e3e3",
    "deepnote_cell_type": "text-cell-p",
    "formattedRanges": []
   },
   "source": [
    "Berdasarkan\r",
    " hasil output, diketahui bahwa tidak ada data yang\r",
    " mengalami missing value. "
   ]
  },
  {
   "block_group": "2685115280184ef3af20b27692d42ac9",
   "cell_type": "markdown",
   "metadata": {
    "cell_id": "ea931c26e61647b1bbaa88dd8a3c8deb",
    "deepnote_cell_type": "text-cell-h3",
    "formattedRanges": []
   },
   "source": [
    "### Outlier Data"
   ]
  },
  {
   "block_group": "c41b338e745e4d4191043420db419061",
   "cell_type": "markdown",
   "metadata": {
    "cell_id": "445a9cc039e2453ab2da787f587b79fe",
    "deepnote_cell_type": "text-cell-p",
    "formattedRanges": []
   },
   "source": [
    "Outlier adalah nilai yang jauh berbeda dari nilai lainnya dalam kumpulan data. Nilai ini muncul sebagai pengecualian dalam pola data yang ada."
   ]
  },
  {
   "block_group": "30d2b2f42f124ebf8243d81653ab6c1a",
   "cell_type": "markdown",
   "metadata": {
    "cell_id": "8d3d53364d2749659c278b0dce64a616",
    "deepnote_cell_type": "text-cell-p",
    "formattedRanges": []
   },
   "source": [
    "Nilai yang ada di outlier bisa jauh lebih tinggi maupun lebih rendah dibandingkan dengan nilai-nilai lain dalam dataset. Outlier bisa terjadi karena berbagai alasan, termasuk kesalahan pengukuran, kejadian langka, atau karena faktor lain yang tidak terduga."
   ]
  },
  {
   "block_group": "9787008731ed4dd985ab266179998903",
   "cell_type": "markdown",
   "metadata": {
    "cell_id": "61c6a19bf24246489feb1ac3982357ab",
    "deepnote_cell_type": "text-cell-p",
    "formattedRanges": []
   },
   "source": [
    "Mendeteksi outlier merupakan langkah penting dalam analisis data karena outlier memiliki dampak signifikan terhadap hasil analisis dan berpotensi menghasilkan kesimpulan yang tidak akurat."
   ]
  },
  {
   "block_group": "a60e3d405e574ab182dce708374f2527",
   "cell_type": "markdown",
   "metadata": {
    "cell_id": "4c61e6f37f1043e7b26c0d4e9225e869",
    "deepnote_cell_type": "text-cell-p",
    "formattedRanges": []
   },
   "source": [
    "Berikut beberapa alasan lain di balik pentingnya mendeteksi outlier:"
   ]
  },
  {
   "block_group": "d6a3b0a831ce480a821a1e94a8f1ee4a",
   "cell_type": "markdown",
   "metadata": {
    "cell_id": "7e583cf4326c46519c5514267e13d9f9",
    "deepnote_cell_type": "text-cell-p",
    "formattedRanges": []
   },
   "source": [
    "1. Menghindari distorsi analisis"
   ]
  },
  {
   "block_group": "a768871a0fa84383b2e8df94df3aee8f",
   "cell_type": "markdown",
   "metadata": {
    "cell_id": "ffaf8fa88ce54fa9ba4da91cafe4bbc7",
    "deepnote_cell_type": "text-cell-p",
    "formattedRanges": []
   },
   "source": [
    "2. Memahami data dengan tepat"
   ]
  },
  {
   "block_group": "4c498c5c5e504ff38d57012ad284b0a1",
   "cell_type": "markdown",
   "metadata": {
    "cell_id": "39c3a2ebc328442d822eb09df3296194",
    "deepnote_cell_type": "text-cell-p",
    "formattedRanges": []
   },
   "source": [
    "3. Memastikan analisis valid"
   ]
  },
  {
   "block_group": "4be789c163f942e881403fd32be29922",
   "cell_type": "markdown",
   "metadata": {
    "cell_id": "c04db5dbb3404815b757a76f35ca1a14",
    "deepnote_cell_type": "text-cell-p",
    "formattedRanges": []
   },
   "source": [
    "4. Mendeteksi jika ada kesalahan atau kecurangan"
   ]
  },
  {
   "block_group": "cf9091306f3043a2bfa19610646633d3",
   "cell_type": "markdown",
   "metadata": {
    "cell_id": "43b8fc84bb3344199fde0a64913c3799",
    "deepnote_cell_type": "text-cell-p",
    "formattedRanges": []
   },
   "source": [
    "Oleh karena itu, nantinya akan kita cek apakah ada data yang aneh atau tidak dengan menggunakan LOF (Local Outlier Factor)"
   ]
  },
  {
   "block_group": "252c842219b44b46999b75d57dd9975a",
   "cell_type": "markdown",
   "metadata": {
    "cell_id": "bae5c2ecadac45a79780b6a6fee1644b",
    "deepnote_cell_type": "text-cell-h1",
    "formattedRanges": []
   },
   "source": [
    "# DATA PREPROCESSING"
   ]
  },
  {
   "block_group": "2cbfb333bde34daaa328c8321da6f5c1",
   "cell_type": "markdown",
   "metadata": {
    "cell_id": "b2cbb438854a462c8b75b7a20880580a",
    "deepnote_app_block_visible": true,
    "deepnote_cell_type": "text-cell-p",
    "formattedRanges": [
     {
      "fromCodePoint": 34,
      "marks": {
       "italic": true
      },
      "toCodePoint": 35,
      "type": "marks"
     },
     {
      "fromCodePoint": 175,
      "marks": {
       "italic": true
      },
      "toCodePoint": 176,
      "type": "marks"
     }
    ]
   },
   "source": [
    "Pra-proses atau data preprocessing merupakan salah satu tahapan dalam melakukan mining data. Sebelum menuju ke tahap pemprosesan. Data mentah akan diolah terlebih dahulu. Data preprocessing atau praproses data biasanya dilakukan melalui cara eliminasi data yang tidak sesuai. Selain itu dalam proses ini data akan diubah dalam bentuk yang akan lebih dipahami oleh sistem. "
   ]
  },
  {
   "block_group": "03269fbd301d4843abe511e9088f5bd0",
   "cell_type": "markdown",
   "metadata": {
    "cell_id": "666e8289f7164dee873d03065db3ce80",
    "deepnote_app_block_visible": true,
    "deepnote_cell_type": "text-cell-p",
    "formattedRanges": [
     {
      "fromCodePoint": 287,
      "marks": {
       "italic": true
      },
      "toCodePoint": 288,
      "type": "marks"
     }
    ]
   },
   "source": [
    "Pengertian lain menyebutkan bahwa data preprocessing adalah tahapan untuk menghilangkan beberapa permasalahan yang bisa mengganggu saat pemrosesan data. Hal tersebut karena banyak data yang formatnya tidak konsisten. Data preprocessing merupakan teknik paling awal sebelum melakukan data mining. Namun terdapat beberapa proses juga dalam data preprocessing seperti membersihkan, mengintegrasikan, mentransformasikan dan mereduksi data."
   ]
  },
  {
   "block_group": "85dc5b81a49d421386f61b613f7f2af7",
   "cell_type": "markdown",
   "metadata": {
    "cell_id": "f2ba7d9335c345c588c9973026add0b1",
    "deepnote_app_block_visible": true,
    "deepnote_cell_type": "text-cell-p",
    "formattedRanges": []
   },
   "source": [
    "Berikut adalah tahapan dalam pra-proses data:"
   ]
  },
  {
   "block_group": "b812687dad1f4ce7972d23f091b0da03",
   "cell_type": "markdown",
   "metadata": {
    "cell_id": "07bbd0a9d1d04545b835cad30070d855",
    "deepnote_app_block_visible": true,
    "deepnote_cell_type": "text-cell-bullet",
    "formattedRanges": [
     {
      "fromCodePoint": 0,
      "marks": {
       "bold": true
      },
      "toCodePoint": 13,
      "type": "marks"
     },
     {
      "fromCodePoint": 62,
      "marks": {
       "italic": true
      },
      "toCodePoint": 63,
      "type": "marks"
     }
    ]
   },
   "source": [
    "- DATA CLEANING: Tahap pertama yang perlu dilakukan ketika akan preprocessing data adalah data cleaning atau membersihkan data. Artinya, data mentah yang telah diperoleh perlu diseleksi kembali. Kemudian, hapus atau hilangkan data-data yang tidak lengkap, tidak relevan, dan tidak akurat."
   ]
  },
  {
   "block_group": "834dcc49b5c1401199581486dbb76314",
   "cell_type": "markdown",
   "metadata": {
    "cell_id": "4f390bcb89f1443692772c246aab2bd4",
    "deepnote_app_block_visible": true,
    "deepnote_cell_type": "text-cell-bullet",
    "formattedRanges": [
     {
      "fromCodePoint": 0,
      "marks": {
       "bold": true
      },
      "toCodePoint": 16,
      "type": "marks"
     },
     {
      "fromCodePoint": 29,
      "marks": {
       "italic": true
      },
      "toCodePoint": 30,
      "type": "marks"
     }
    ]
   },
   "source": [
    "- DATA INTEGRATION: Karena data preprocessing akan menggabungkan beberapa data dalam suatu dataset, maka kita harus mengecek data-data yang datang dari berbagai sumber tersebut supaya memiliki format yang sama."
   ]
  },
  {
   "block_group": "3ef8fcad1c4c40e99247cba56c28cb3b",
   "cell_type": "markdown",
   "metadata": {
    "cell_id": "3dc7ef8a897940c8a881de409f2eef1c",
    "deepnote_app_block_visible": true,
    "deepnote_cell_type": "text-cell-bullet",
    "formattedRanges": [
     {
      "fromCodePoint": 0,
      "marks": {
       "bold": true
      },
      "toCodePoint": 17,
      "type": "marks"
     }
    ]
   },
   "source": [
    "- TRANSFORMASI DATA: Proses berikutnya yang harus dilakukan adalah transformasi data. Seperti yang telah dijelaskan di atas, data akan diambil dari berbagai sumber yang kemungkinan memiliki perbedaan format. Kita harus menyamakan seluruh data yang terkumpul supaya dapat mempermudah proses analisis data."
   ]
  },
  {
   "block_group": "a5ff989cafd345158e0cc843387abda2",
   "cell_type": "markdown",
   "metadata": {
    "cell_id": "16ffe9d42e7b426188d1ce6effbe75cc",
    "deepnote_app_block_visible": true,
    "deepnote_cell_type": "text-cell-bullet",
    "formattedRanges": [
     {
      "fromCodePoint": 0,
      "marks": {
       "bold": true
      },
      "toCodePoint": 15,
      "type": "marks"
     }
    ]
   },
   "source": [
    "- MENGURANGI DATA: Tahap terakhir yang perlu dilakukan adalah mengurangi jumlah data (data reduction). Maksudnya adalah kita harus mengurangi sampel data yang diambil, tetapi dengan catatan, tidak akan mengubah hasil analisis data. Ada tiga teknik yang bisa diterapkan saat melakukan pengurangan data, yakni dimensionality reduction (pengurangan dimensi), numerosity reduction (pengurangan jumlah), dan data compression (kompresi data)."
   ]
  },
  {
   "block_group": "bf6cc5a3907a44f88f4bbe4a7056fad8",
   "cell_type": "markdown",
   "metadata": {
    "cell_id": "af49279201644359be9dc5ed57cbd863",
    "deepnote_cell_type": "text-cell-h2",
    "formattedRanges": [
     {
      "fromCodePoint": 0,
      "marks": {
       "bold": true
      },
      "toCodePoint": 13,
      "type": "marks"
     }
    ]
   },
   "source": [
    "## DATA CLEANING"
   ]
  },
  {
   "block_group": "581a342bfda74817a28e71cae96502ea",
   "cell_type": "markdown",
   "metadata": {
    "cell_id": "42b3e92e75964b03b6beb087c0e68ded",
    "deepnote_cell_type": "text-cell-h3",
    "formattedRanges": [
     {
      "fromCodePoint": 0,
      "marks": {
       "bold": true
      },
      "toCodePoint": 13,
      "type": "marks"
     }
    ]
   },
   "source": [
    "### Seleksi Fitur"
   ]
  },
  {
   "block_group": "b7f69834967748a9ad74ed30e3217e85",
   "cell_type": "code",
   "content_dependencies": null,
   "execution_count": 14,
   "metadata": {
    "cell_id": "db329e30d8574c109b6bfe42afff2c3e",
    "deepnote_cell_type": "code",
    "deepnote_to_be_reexecuted": false,
    "execution_millis": 265,
    "execution_start": 1719408989972,
    "source_hash": "ca950bcd"
   },
   "outputs": [
    {
     "data": {
      "application/vnd.deepnote.dataframe.v3+json": {
       "column_count": 9,
       "columns": [
        {
         "dtype": "object",
         "name": "parents",
         "stats": {
          "categories": [
           {
            "count": 4320,
            "name": "usual"
           },
           {
            "count": 4320,
            "name": "pretentious"
           },
           {
            "count": 4320,
            "name": "great_pret"
           }
          ],
          "nan_count": 0,
          "unique_count": 3
         }
        },
        {
         "dtype": "object",
         "name": "has_nurs",
         "stats": {
          "categories": [
           {
            "count": 2592,
            "name": "proper"
           },
           {
            "count": 2592,
            "name": "less_proper"
           },
           {
            "count": 7776,
            "name": "3 others"
           }
          ],
          "nan_count": 0,
          "unique_count": 5
         }
        },
        {
         "dtype": "object",
         "name": "form",
         "stats": {
          "categories": [
           {
            "count": 3240,
            "name": "complete"
           },
           {
            "count": 3240,
            "name": "completed"
           },
           {
            "count": 6480,
            "name": "2 others"
           }
          ],
          "nan_count": 0,
          "unique_count": 4
         }
        },
        {
         "dtype": "object",
         "name": "children",
         "stats": {
          "categories": [
           {
            "count": 3240,
            "name": "1"
           },
           {
            "count": 3240,
            "name": "2"
           },
           {
            "count": 6480,
            "name": "2 others"
           }
          ],
          "nan_count": 0,
          "unique_count": 4
         }
        },
        {
         "dtype": "object",
         "name": "housing",
         "stats": {
          "categories": [
           {
            "count": 4320,
            "name": "convenient"
           },
           {
            "count": 4320,
            "name": "less_conv"
           },
           {
            "count": 4320,
            "name": "critical"
           }
          ],
          "nan_count": 0,
          "unique_count": 3
         }
        },
        {
         "dtype": "object",
         "name": "finance",
         "stats": {
          "categories": [
           {
            "count": 6480,
            "name": "convenient"
           },
           {
            "count": 6480,
            "name": "inconv"
           }
          ],
          "nan_count": 0,
          "unique_count": 2
         }
        },
        {
         "dtype": "object",
         "name": "social",
         "stats": {
          "categories": [
           {
            "count": 4320,
            "name": "nonprob"
           },
           {
            "count": 4320,
            "name": "slightly_prob"
           },
           {
            "count": 4320,
            "name": "problematic"
           }
          ],
          "nan_count": 0,
          "unique_count": 3
         }
        },
        {
         "dtype": "object",
         "name": "health"
        },
        {
         "dtype": "object",
         "name": "final evaluation"
        },
        {
         "dtype": "int64",
         "name": "_deepnote_index_column"
        }
       ],
       "row_count": 12960,
       "rows": [
        {
         "_deepnote_index_column": 0,
         "children": "1",
         "final evaluation": "recommend",
         "finance": "convenient",
         "form": "complete",
         "has_nurs": "proper",
         "health": "recommended",
         "housing": "convenient",
         "parents": "usual",
         "social": "nonprob"
        },
        {
         "_deepnote_index_column": 1,
         "children": "1",
         "final evaluation": "priority",
         "finance": "convenient",
         "form": "complete",
         "has_nurs": "proper",
         "health": "priority",
         "housing": "convenient",
         "parents": "usual",
         "social": "nonprob"
        },
        {
         "_deepnote_index_column": 2,
         "children": "1",
         "final evaluation": "not_recom",
         "finance": "convenient",
         "form": "complete",
         "has_nurs": "proper",
         "health": "not_recom",
         "housing": "convenient",
         "parents": "usual",
         "social": "nonprob"
        },
        {
         "_deepnote_index_column": 3,
         "children": "1",
         "final evaluation": "recommend",
         "finance": "convenient",
         "form": "complete",
         "has_nurs": "proper",
         "health": "recommended",
         "housing": "convenient",
         "parents": "usual",
         "social": "slightly_prob"
        },
        {
         "_deepnote_index_column": 4,
         "children": "1",
         "final evaluation": "priority",
         "finance": "convenient",
         "form": "complete",
         "has_nurs": "proper",
         "health": "priority",
         "housing": "convenient",
         "parents": "usual",
         "social": "slightly_prob"
        },
        {
         "_deepnote_index_column": 5,
         "children": "1",
         "final evaluation": "not_recom",
         "finance": "convenient",
         "form": "complete",
         "has_nurs": "proper",
         "health": "not_recom",
         "housing": "convenient",
         "parents": "usual",
         "social": "slightly_prob"
        },
        {
         "_deepnote_index_column": 6,
         "children": "1",
         "final evaluation": "priority",
         "finance": "convenient",
         "form": "complete",
         "has_nurs": "proper",
         "health": "recommended",
         "housing": "convenient",
         "parents": "usual",
         "social": "problematic"
        },
        {
         "_deepnote_index_column": 7,
         "children": "1",
         "final evaluation": "priority",
         "finance": "convenient",
         "form": "complete",
         "has_nurs": "proper",
         "health": "priority",
         "housing": "convenient",
         "parents": "usual",
         "social": "problematic"
        },
        {
         "_deepnote_index_column": 8,
         "children": "1",
         "final evaluation": "not_recom",
         "finance": "convenient",
         "form": "complete",
         "has_nurs": "proper",
         "health": "not_recom",
         "housing": "convenient",
         "parents": "usual",
         "social": "problematic"
        },
        {
         "_deepnote_index_column": 9,
         "children": "1",
         "final evaluation": "very_recom",
         "finance": "inconv",
         "form": "complete",
         "has_nurs": "proper",
         "health": "recommended",
         "housing": "convenient",
         "parents": "usual",
         "social": "nonprob"
        }
       ]
      },
      "text/html": [
       "<div>\n",
       "<style scoped>\n",
       "    .dataframe tbody tr th:only-of-type {\n",
       "        vertical-align: middle;\n",
       "    }\n",
       "\n",
       "    .dataframe tbody tr th {\n",
       "        vertical-align: top;\n",
       "    }\n",
       "\n",
       "    .dataframe thead th {\n",
       "        text-align: right;\n",
       "    }\n",
       "</style>\n",
       "<table border=\"1\" class=\"dataframe\">\n",
       "  <thead>\n",
       "    <tr style=\"text-align: right;\">\n",
       "      <th></th>\n",
       "      <th>parents</th>\n",
       "      <th>has_nurs</th>\n",
       "      <th>form</th>\n",
       "      <th>children</th>\n",
       "      <th>housing</th>\n",
       "      <th>finance</th>\n",
       "      <th>social</th>\n",
       "      <th>health</th>\n",
       "      <th>final evaluation</th>\n",
       "    </tr>\n",
       "  </thead>\n",
       "  <tbody>\n",
       "    <tr>\n",
       "      <th>0</th>\n",
       "      <td>usual</td>\n",
       "      <td>proper</td>\n",
       "      <td>complete</td>\n",
       "      <td>1</td>\n",
       "      <td>convenient</td>\n",
       "      <td>convenient</td>\n",
       "      <td>nonprob</td>\n",
       "      <td>recommended</td>\n",
       "      <td>recommend</td>\n",
       "    </tr>\n",
       "    <tr>\n",
       "      <th>1</th>\n",
       "      <td>usual</td>\n",
       "      <td>proper</td>\n",
       "      <td>complete</td>\n",
       "      <td>1</td>\n",
       "      <td>convenient</td>\n",
       "      <td>convenient</td>\n",
       "      <td>nonprob</td>\n",
       "      <td>priority</td>\n",
       "      <td>priority</td>\n",
       "    </tr>\n",
       "    <tr>\n",
       "      <th>2</th>\n",
       "      <td>usual</td>\n",
       "      <td>proper</td>\n",
       "      <td>complete</td>\n",
       "      <td>1</td>\n",
       "      <td>convenient</td>\n",
       "      <td>convenient</td>\n",
       "      <td>nonprob</td>\n",
       "      <td>not_recom</td>\n",
       "      <td>not_recom</td>\n",
       "    </tr>\n",
       "    <tr>\n",
       "      <th>3</th>\n",
       "      <td>usual</td>\n",
       "      <td>proper</td>\n",
       "      <td>complete</td>\n",
       "      <td>1</td>\n",
       "      <td>convenient</td>\n",
       "      <td>convenient</td>\n",
       "      <td>slightly_prob</td>\n",
       "      <td>recommended</td>\n",
       "      <td>recommend</td>\n",
       "    </tr>\n",
       "    <tr>\n",
       "      <th>4</th>\n",
       "      <td>usual</td>\n",
       "      <td>proper</td>\n",
       "      <td>complete</td>\n",
       "      <td>1</td>\n",
       "      <td>convenient</td>\n",
       "      <td>convenient</td>\n",
       "      <td>slightly_prob</td>\n",
       "      <td>priority</td>\n",
       "      <td>priority</td>\n",
       "    </tr>\n",
       "    <tr>\n",
       "      <th>...</th>\n",
       "      <td>...</td>\n",
       "      <td>...</td>\n",
       "      <td>...</td>\n",
       "      <td>...</td>\n",
       "      <td>...</td>\n",
       "      <td>...</td>\n",
       "      <td>...</td>\n",
       "      <td>...</td>\n",
       "      <td>...</td>\n",
       "    </tr>\n",
       "    <tr>\n",
       "      <th>12955</th>\n",
       "      <td>great_pret</td>\n",
       "      <td>very_crit</td>\n",
       "      <td>foster</td>\n",
       "      <td>more</td>\n",
       "      <td>critical</td>\n",
       "      <td>inconv</td>\n",
       "      <td>slightly_prob</td>\n",
       "      <td>priority</td>\n",
       "      <td>spec_prior</td>\n",
       "    </tr>\n",
       "    <tr>\n",
       "      <th>12956</th>\n",
       "      <td>great_pret</td>\n",
       "      <td>very_crit</td>\n",
       "      <td>foster</td>\n",
       "      <td>more</td>\n",
       "      <td>critical</td>\n",
       "      <td>inconv</td>\n",
       "      <td>slightly_prob</td>\n",
       "      <td>not_recom</td>\n",
       "      <td>not_recom</td>\n",
       "    </tr>\n",
       "    <tr>\n",
       "      <th>12957</th>\n",
       "      <td>great_pret</td>\n",
       "      <td>very_crit</td>\n",
       "      <td>foster</td>\n",
       "      <td>more</td>\n",
       "      <td>critical</td>\n",
       "      <td>inconv</td>\n",
       "      <td>problematic</td>\n",
       "      <td>recommended</td>\n",
       "      <td>spec_prior</td>\n",
       "    </tr>\n",
       "    <tr>\n",
       "      <th>12958</th>\n",
       "      <td>great_pret</td>\n",
       "      <td>very_crit</td>\n",
       "      <td>foster</td>\n",
       "      <td>more</td>\n",
       "      <td>critical</td>\n",
       "      <td>inconv</td>\n",
       "      <td>problematic</td>\n",
       "      <td>priority</td>\n",
       "      <td>spec_prior</td>\n",
       "    </tr>\n",
       "    <tr>\n",
       "      <th>12959</th>\n",
       "      <td>great_pret</td>\n",
       "      <td>very_crit</td>\n",
       "      <td>foster</td>\n",
       "      <td>more</td>\n",
       "      <td>critical</td>\n",
       "      <td>inconv</td>\n",
       "      <td>problematic</td>\n",
       "      <td>not_recom</td>\n",
       "      <td>not_recom</td>\n",
       "    </tr>\n",
       "  </tbody>\n",
       "</table>\n",
       "<p>12960 rows × 9 columns</p>\n",
       "</div>"
      ],
      "text/plain": [
       "          parents   has_nurs      form children     housing     finance  \\\n",
       "0           usual     proper  complete        1  convenient  convenient   \n",
       "1           usual     proper  complete        1  convenient  convenient   \n",
       "2           usual     proper  complete        1  convenient  convenient   \n",
       "3           usual     proper  complete        1  convenient  convenient   \n",
       "4           usual     proper  complete        1  convenient  convenient   \n",
       "...           ...        ...       ...      ...         ...         ...   \n",
       "12955  great_pret  very_crit    foster     more    critical      inconv   \n",
       "12956  great_pret  very_crit    foster     more    critical      inconv   \n",
       "12957  great_pret  very_crit    foster     more    critical      inconv   \n",
       "12958  great_pret  very_crit    foster     more    critical      inconv   \n",
       "12959  great_pret  very_crit    foster     more    critical      inconv   \n",
       "\n",
       "              social       health final evaluation  \n",
       "0            nonprob  recommended        recommend  \n",
       "1            nonprob     priority         priority  \n",
       "2            nonprob    not_recom        not_recom  \n",
       "3      slightly_prob  recommended        recommend  \n",
       "4      slightly_prob     priority         priority  \n",
       "...              ...          ...              ...  \n",
       "12955  slightly_prob     priority       spec_prior  \n",
       "12956  slightly_prob    not_recom        not_recom  \n",
       "12957    problematic  recommended       spec_prior  \n",
       "12958    problematic     priority       spec_prior  \n",
       "12959    problematic    not_recom        not_recom  \n",
       "\n",
       "[12960 rows x 9 columns]"
      ]
     },
     "execution_count": 14,
     "metadata": {},
     "output_type": "execute_result"
    }
   ],
   "outputs_reference": "s3:deepnote-cell-outputs-production/c0cef14f-abfa-4b63-b84b-bf2fa0722742",
   "source": [
    "df = df = df.drop(['Id'], axis=1)\n",
    "\n",
    "df"
   ]
  },
  {
   "block_group": "1ac50a76fb3f4aeea04973aa9fc92ff6",
   "cell_type": "markdown",
   "metadata": {
    "cell_id": "e25d1876f9f84885bbc85cbc80c4ec7d",
    "deepnote_cell_type": "text-cell-p",
    "formattedRanges": []
   },
   "source": [
    "Seleksi fitur ini dilakukan bertujuan untuknmenghapus kolom atau fitur yang tidak relevan atau tidak diperlukan dalam analisis atau komputasi lebih lanjut. Dalam kasus ini, kolom “Id” dihapus karena memang tidak dibutuhkan dalam proses pemodelan atau perhitungan saat imputer missing value nantinya. Adanya “Id” hanya digunakan pada proses data understanding yaitu untuk mengumpulkan data untuk mempermudah proses koomputasi lebih lanjut."
   ]
  },
  {
   "block_group": "8492b4c7df6d40228bf3e278f13716b2",
   "cell_type": "markdown",
   "metadata": {
    "cell_id": "6fddb43c0e5a43c7869fd8c8401f568c",
    "deepnote_cell_type": "text-cell-h3",
    "formattedRanges": [
     {
      "fromCodePoint": 0,
      "marks": {
       "bold": true
      },
      "toCodePoint": 18,
      "type": "marks"
     }
    ]
   },
   "source": [
    "### Merubah nama kolom"
   ]
  },
  {
   "block_group": "b30dab25579c4186a0d4f38d2d4d83d7",
   "cell_type": "code",
   "content_dependencies": null,
   "execution_count": 15,
   "metadata": {
    "cell_id": "1adb2637385945569266e83542a792bf",
    "deepnote_cell_type": "code",
    "deepnote_to_be_reexecuted": false,
    "execution_millis": 542,
    "execution_start": 1719408990065,
    "source_hash": "7d67ae1e"
   },
   "outputs": [
    {
     "data": {
      "application/vnd.deepnote.dataframe.v3+json": {
       "column_count": 9,
       "columns": [
        {
         "dtype": "object",
         "name": "Parents",
         "stats": {
          "categories": [
           {
            "count": 5,
            "name": "usual"
           }
          ],
          "nan_count": 0,
          "unique_count": 1
         }
        },
        {
         "dtype": "object",
         "name": "Has_nurs",
         "stats": {
          "categories": [
           {
            "count": 5,
            "name": "proper"
           }
          ],
          "nan_count": 0,
          "unique_count": 1
         }
        },
        {
         "dtype": "object",
         "name": "Form",
         "stats": {
          "categories": [
           {
            "count": 5,
            "name": "complete"
           }
          ],
          "nan_count": 0,
          "unique_count": 1
         }
        },
        {
         "dtype": "object",
         "name": "Children",
         "stats": {
          "categories": [
           {
            "count": 5,
            "name": "1"
           }
          ],
          "nan_count": 0,
          "unique_count": 1
         }
        },
        {
         "dtype": "object",
         "name": "Housing",
         "stats": {
          "categories": [
           {
            "count": 5,
            "name": "convenient"
           }
          ],
          "nan_count": 0,
          "unique_count": 1
         }
        },
        {
         "dtype": "object",
         "name": "Finance",
         "stats": {
          "categories": [
           {
            "count": 5,
            "name": "convenient"
           }
          ],
          "nan_count": 0,
          "unique_count": 1
         }
        },
        {
         "dtype": "object",
         "name": "Social",
         "stats": {
          "categories": [
           {
            "count": 3,
            "name": "nonprob"
           },
           {
            "count": 2,
            "name": "slightly_prob"
           }
          ],
          "nan_count": 0,
          "unique_count": 2
         }
        },
        {
         "dtype": "object",
         "name": "Health",
         "stats": {
          "categories": [
           {
            "count": 2,
            "name": "recommended"
           },
           {
            "count": 2,
            "name": "priority"
           },
           {
            "count": 1,
            "name": "not_recom"
           }
          ],
          "nan_count": 0,
          "unique_count": 3
         }
        },
        {
         "dtype": "object",
         "name": "Class",
         "stats": {
          "categories": [
           {
            "count": 2,
            "name": "recommend"
           },
           {
            "count": 2,
            "name": "priority"
           },
           {
            "count": 1,
            "name": "not_recom"
           }
          ],
          "nan_count": 0,
          "unique_count": 3
         }
        },
        {
         "dtype": "int64",
         "name": "_deepnote_index_column"
        }
       ],
       "row_count": 5,
       "rows": [
        {
         "Children": "1",
         "Class": "recommend",
         "Finance": "convenient",
         "Form": "complete",
         "Has_nurs": "proper",
         "Health": "recommended",
         "Housing": "convenient",
         "Parents": "usual",
         "Social": "nonprob",
         "_deepnote_index_column": 0
        },
        {
         "Children": "1",
         "Class": "priority",
         "Finance": "convenient",
         "Form": "complete",
         "Has_nurs": "proper",
         "Health": "priority",
         "Housing": "convenient",
         "Parents": "usual",
         "Social": "nonprob",
         "_deepnote_index_column": 1
        },
        {
         "Children": "1",
         "Class": "not_recom",
         "Finance": "convenient",
         "Form": "complete",
         "Has_nurs": "proper",
         "Health": "not_recom",
         "Housing": "convenient",
         "Parents": "usual",
         "Social": "nonprob",
         "_deepnote_index_column": 2
        },
        {
         "Children": "1",
         "Class": "recommend",
         "Finance": "convenient",
         "Form": "complete",
         "Has_nurs": "proper",
         "Health": "recommended",
         "Housing": "convenient",
         "Parents": "usual",
         "Social": "slightly_prob",
         "_deepnote_index_column": 3
        },
        {
         "Children": "1",
         "Class": "priority",
         "Finance": "convenient",
         "Form": "complete",
         "Has_nurs": "proper",
         "Health": "priority",
         "Housing": "convenient",
         "Parents": "usual",
         "Social": "slightly_prob",
         "_deepnote_index_column": 4
        }
       ]
      },
      "text/html": [
       "<div>\n",
       "<style scoped>\n",
       "    .dataframe tbody tr th:only-of-type {\n",
       "        vertical-align: middle;\n",
       "    }\n",
       "\n",
       "    .dataframe tbody tr th {\n",
       "        vertical-align: top;\n",
       "    }\n",
       "\n",
       "    .dataframe thead th {\n",
       "        text-align: right;\n",
       "    }\n",
       "</style>\n",
       "<table border=\"1\" class=\"dataframe\">\n",
       "  <thead>\n",
       "    <tr style=\"text-align: right;\">\n",
       "      <th></th>\n",
       "      <th>Parents</th>\n",
       "      <th>Has_nurs</th>\n",
       "      <th>Form</th>\n",
       "      <th>Children</th>\n",
       "      <th>Housing</th>\n",
       "      <th>Finance</th>\n",
       "      <th>Social</th>\n",
       "      <th>Health</th>\n",
       "      <th>Class</th>\n",
       "    </tr>\n",
       "  </thead>\n",
       "  <tbody>\n",
       "    <tr>\n",
       "      <th>0</th>\n",
       "      <td>usual</td>\n",
       "      <td>proper</td>\n",
       "      <td>complete</td>\n",
       "      <td>1</td>\n",
       "      <td>convenient</td>\n",
       "      <td>convenient</td>\n",
       "      <td>nonprob</td>\n",
       "      <td>recommended</td>\n",
       "      <td>recommend</td>\n",
       "    </tr>\n",
       "    <tr>\n",
       "      <th>1</th>\n",
       "      <td>usual</td>\n",
       "      <td>proper</td>\n",
       "      <td>complete</td>\n",
       "      <td>1</td>\n",
       "      <td>convenient</td>\n",
       "      <td>convenient</td>\n",
       "      <td>nonprob</td>\n",
       "      <td>priority</td>\n",
       "      <td>priority</td>\n",
       "    </tr>\n",
       "    <tr>\n",
       "      <th>2</th>\n",
       "      <td>usual</td>\n",
       "      <td>proper</td>\n",
       "      <td>complete</td>\n",
       "      <td>1</td>\n",
       "      <td>convenient</td>\n",
       "      <td>convenient</td>\n",
       "      <td>nonprob</td>\n",
       "      <td>not_recom</td>\n",
       "      <td>not_recom</td>\n",
       "    </tr>\n",
       "    <tr>\n",
       "      <th>3</th>\n",
       "      <td>usual</td>\n",
       "      <td>proper</td>\n",
       "      <td>complete</td>\n",
       "      <td>1</td>\n",
       "      <td>convenient</td>\n",
       "      <td>convenient</td>\n",
       "      <td>slightly_prob</td>\n",
       "      <td>recommended</td>\n",
       "      <td>recommend</td>\n",
       "    </tr>\n",
       "    <tr>\n",
       "      <th>4</th>\n",
       "      <td>usual</td>\n",
       "      <td>proper</td>\n",
       "      <td>complete</td>\n",
       "      <td>1</td>\n",
       "      <td>convenient</td>\n",
       "      <td>convenient</td>\n",
       "      <td>slightly_prob</td>\n",
       "      <td>priority</td>\n",
       "      <td>priority</td>\n",
       "    </tr>\n",
       "  </tbody>\n",
       "</table>\n",
       "</div>"
      ],
      "text/plain": [
       "  Parents Has_nurs      Form Children     Housing     Finance         Social  \\\n",
       "0   usual   proper  complete        1  convenient  convenient        nonprob   \n",
       "1   usual   proper  complete        1  convenient  convenient        nonprob   \n",
       "2   usual   proper  complete        1  convenient  convenient        nonprob   \n",
       "3   usual   proper  complete        1  convenient  convenient  slightly_prob   \n",
       "4   usual   proper  complete        1  convenient  convenient  slightly_prob   \n",
       "\n",
       "        Health      Class  \n",
       "0  recommended  recommend  \n",
       "1     priority   priority  \n",
       "2    not_recom  not_recom  \n",
       "3  recommended  recommend  \n",
       "4     priority   priority  "
      ]
     },
     "execution_count": 15,
     "metadata": {},
     "output_type": "execute_result"
    }
   ],
   "outputs_reference": "s3:deepnote-cell-outputs-production/aacdebeb-527e-4cb1-89f0-6e227cf0b896",
   "source": [
    "df = df.rename(columns={'parents' : 'Parents', 'has_nurs' : 'Has_nurs', 'form' : 'Form', 'children' : 'Children', 'housing' : 'Housing', 'finance' : 'Finance', 'social' : 'Social', 'health' : 'Health', 'final evaluation' : 'Class'})\n",
    "df.head(5)"
   ]
  },
  {
   "block_group": "e02b965e2fe64345a82e33eb57a1b825",
   "cell_type": "markdown",
   "metadata": {
    "cell_id": "4eeaac05e9a3474faf6ff330727fec28",
    "deepnote_cell_type": "text-cell-p",
    "formattedRanges": []
   },
   "source": [
    "Tahapan yang dapat dilakukan untuk menyesuaikan nama kolom antara lain sebagai berikut:"
   ]
  },
  {
   "block_group": "e4e3a370ce9c41bda8bae2dda935a057",
   "cell_type": "markdown",
   "metadata": {
    "cell_id": "bbfbe556ed2a4ee791de53f9f536633f",
    "deepnote_app_block_visible": false,
    "deepnote_cell_type": "text-cell-bullet",
    "formattedRanges": [
     {
      "fromCodePoint": 0,
      "marks": {
       "bold": true
      },
      "toCodePoint": 15,
      "type": "marks"
     }
    ],
    "is_collapsed": false
   },
   "source": [
    "- Renaming Kolom: Anda dapat menggunakan metode atau fungsi yang disediakan oleh pustaka analisis data (seperti Pandas di Python) untuk mengganti nama kolom. Misalnya, dalam Pandas, Anda dapat menggunakan metode .rename() untuk mengganti nama kolom."
   ]
  },
  {
   "block_group": "a48bac39fc20424f97ac12f9edcd0792",
   "cell_type": "markdown",
   "metadata": {
    "cell_id": "8395b40e9db04351b8032b9ba731651a",
    "deepnote_app_block_visible": false,
    "deepnote_cell_type": "text-cell-bullet",
    "formattedRanges": [
     {
      "fromCodePoint": 0,
      "marks": {
       "bold": true
      },
      "toCodePoint": 18,
      "type": "marks"
     }
    ],
    "is_collapsed": false
   },
   "source": [
    "- Singkat dan Jelas: Pastikan nama kolom singkat dan mudah dipahami. Hindari penggunaan kata-kata yang terlalu panjang atau ambigu."
   ]
  },
  {
   "block_group": "324be53fd2754c89866b4e3d9144619e",
   "cell_type": "markdown",
   "metadata": {
    "cell_id": "eb33015fbfa54763b0ecce6714755195",
    "deepnote_cell_type": "text-cell-h2",
    "formattedRanges": [
     {
      "fromCodePoint": 0,
      "marks": {
       "bold": true
      },
      "toCodePoint": 17,
      "type": "marks"
     }
    ]
   },
   "source": [
    "## TRANSFORMASI DATA"
   ]
  },
  {
   "block_group": "cd824809c5e84c229a280231130d8bad",
   "cell_type": "markdown",
   "metadata": {
    "cell_id": "aa7a698643084a3a98f2df53ffabc691",
    "deepnote_cell_type": "text-cell-p",
    "formattedRanges": []
   },
   "source": [
    "Tahapan Data Integration dan Data Reduction akan kita lewati karena tidak diperlukan. Jadi kita langsung ketahapan Transformasi Data. Tahapan ini diperlukan dikarenakan data yang kita pakai pada case ini merupakan data kategorial sehingga memerlukan transformasi agar memudahkan perhitungan yang ada nantinya. Data kategorik\r",
    " diubah kedalam bentuk dummy. Sehingga terlihat\r",
    " bahwa semua data dalam bentuk angka. Setelahnya\r",
    " bisa dilanjutkan ke analisis berikutnya. "
   ]
  },
  {
   "block_group": "b43f8de640f744a992cc74dffbdaf667",
   "cell_type": "markdown",
   "metadata": {
    "cell_id": "a4f13df60f874998b286150567ad3c6f",
    "deepnote_cell_type": "text-cell-h3",
    "formattedRanges": []
   },
   "source": [
    "### Encoder Fitur"
   ]
  },
  {
   "block_group": "6e952596706745209961b3667ca04c42",
   "cell_type": "code",
   "content_dependencies": null,
   "execution_count": 16,
   "metadata": {
    "cell_id": "e31c250b078149ecbcf3f3beed5d80ff",
    "deepnote_cell_type": "code",
    "deepnote_to_be_reexecuted": false,
    "execution_millis": 542,
    "execution_start": 1719408990065,
    "source_hash": "1d6f40e7"
   },
   "outputs": [
    {
     "data": {
      "application/vnd.deepnote.dataframe.v3+json": {
       "column_count": 9,
       "columns": [
        {
         "dtype": "int64",
         "name": "Parents",
         "stats": {
          "histogram": [
           {
            "bin_end": 0.2,
            "bin_start": 0,
            "count": 4320
           },
           {
            "bin_end": 0.4,
            "bin_start": 0.2,
            "count": 0
           },
           {
            "bin_end": 0.6000000000000001,
            "bin_start": 0.4,
            "count": 0
           },
           {
            "bin_end": 0.8,
            "bin_start": 0.6000000000000001,
            "count": 0
           },
           {
            "bin_end": 1,
            "bin_start": 0.8,
            "count": 0
           },
           {
            "bin_end": 1.2000000000000002,
            "bin_start": 1,
            "count": 4320
           },
           {
            "bin_end": 1.4000000000000001,
            "bin_start": 1.2000000000000002,
            "count": 0
           },
           {
            "bin_end": 1.6,
            "bin_start": 1.4000000000000001,
            "count": 0
           },
           {
            "bin_end": 1.8,
            "bin_start": 1.6,
            "count": 0
           },
           {
            "bin_end": 2,
            "bin_start": 1.8,
            "count": 4320
           }
          ],
          "max": "2",
          "min": "0",
          "nan_count": 0,
          "unique_count": 3
         }
        },
        {
         "dtype": "int64",
         "name": "Has_nurs",
         "stats": {
          "histogram": [
           {
            "bin_end": 0.4,
            "bin_start": 0,
            "count": 2592
           },
           {
            "bin_end": 0.8,
            "bin_start": 0.4,
            "count": 0
           },
           {
            "bin_end": 1.2000000000000002,
            "bin_start": 0.8,
            "count": 2592
           },
           {
            "bin_end": 1.6,
            "bin_start": 1.2000000000000002,
            "count": 0
           },
           {
            "bin_end": 2,
            "bin_start": 1.6,
            "count": 0
           },
           {
            "bin_end": 2.4000000000000004,
            "bin_start": 2,
            "count": 2592
           },
           {
            "bin_end": 2.8000000000000003,
            "bin_start": 2.4000000000000004,
            "count": 0
           },
           {
            "bin_end": 3.2,
            "bin_start": 2.8000000000000003,
            "count": 2592
           },
           {
            "bin_end": 3.6,
            "bin_start": 3.2,
            "count": 0
           },
           {
            "bin_end": 4,
            "bin_start": 3.6,
            "count": 2592
           }
          ],
          "max": "4",
          "min": "0",
          "nan_count": 0,
          "unique_count": 5
         }
        },
        {
         "dtype": "int64",
         "name": "Form",
         "stats": {
          "histogram": [
           {
            "bin_end": 0.3,
            "bin_start": 0,
            "count": 3240
           },
           {
            "bin_end": 0.6,
            "bin_start": 0.3,
            "count": 0
           },
           {
            "bin_end": 0.8999999999999999,
            "bin_start": 0.6,
            "count": 0
           },
           {
            "bin_end": 1.2,
            "bin_start": 0.8999999999999999,
            "count": 3240
           },
           {
            "bin_end": 1.5,
            "bin_start": 1.2,
            "count": 0
           },
           {
            "bin_end": 1.7999999999999998,
            "bin_start": 1.5,
            "count": 0
           },
           {
            "bin_end": 2.1,
            "bin_start": 1.7999999999999998,
            "count": 3240
           },
           {
            "bin_end": 2.4,
            "bin_start": 2.1,
            "count": 0
           },
           {
            "bin_end": 2.6999999999999997,
            "bin_start": 2.4,
            "count": 0
           },
           {
            "bin_end": 3,
            "bin_start": 2.6999999999999997,
            "count": 3240
           }
          ],
          "max": "3",
          "min": "0",
          "nan_count": 0,
          "unique_count": 4
         }
        },
        {
         "dtype": "int64",
         "name": "Children",
         "stats": {
          "histogram": [
           {
            "bin_end": 0.3,
            "bin_start": 0,
            "count": 3240
           },
           {
            "bin_end": 0.6,
            "bin_start": 0.3,
            "count": 0
           },
           {
            "bin_end": 0.8999999999999999,
            "bin_start": 0.6,
            "count": 0
           },
           {
            "bin_end": 1.2,
            "bin_start": 0.8999999999999999,
            "count": 3240
           },
           {
            "bin_end": 1.5,
            "bin_start": 1.2,
            "count": 0
           },
           {
            "bin_end": 1.7999999999999998,
            "bin_start": 1.5,
            "count": 0
           },
           {
            "bin_end": 2.1,
            "bin_start": 1.7999999999999998,
            "count": 3240
           },
           {
            "bin_end": 2.4,
            "bin_start": 2.1,
            "count": 0
           },
           {
            "bin_end": 2.6999999999999997,
            "bin_start": 2.4,
            "count": 0
           },
           {
            "bin_end": 3,
            "bin_start": 2.6999999999999997,
            "count": 3240
           }
          ],
          "max": "3",
          "min": "0",
          "nan_count": 0,
          "unique_count": 4
         }
        },
        {
         "dtype": "int64",
         "name": "Housing",
         "stats": {
          "histogram": [
           {
            "bin_end": 0.2,
            "bin_start": 0,
            "count": 4320
           },
           {
            "bin_end": 0.4,
            "bin_start": 0.2,
            "count": 0
           },
           {
            "bin_end": 0.6000000000000001,
            "bin_start": 0.4,
            "count": 0
           },
           {
            "bin_end": 0.8,
            "bin_start": 0.6000000000000001,
            "count": 0
           },
           {
            "bin_end": 1,
            "bin_start": 0.8,
            "count": 0
           },
           {
            "bin_end": 1.2000000000000002,
            "bin_start": 1,
            "count": 4320
           },
           {
            "bin_end": 1.4000000000000001,
            "bin_start": 1.2000000000000002,
            "count": 0
           },
           {
            "bin_end": 1.6,
            "bin_start": 1.4000000000000001,
            "count": 0
           },
           {
            "bin_end": 1.8,
            "bin_start": 1.6,
            "count": 0
           },
           {
            "bin_end": 2,
            "bin_start": 1.8,
            "count": 4320
           }
          ],
          "max": "2",
          "min": "0",
          "nan_count": 0,
          "unique_count": 3
         }
        },
        {
         "dtype": "int64",
         "name": "Finance",
         "stats": {
          "histogram": [
           {
            "bin_end": 0.1,
            "bin_start": 0,
            "count": 6480
           },
           {
            "bin_end": 0.2,
            "bin_start": 0.1,
            "count": 0
           },
           {
            "bin_end": 0.30000000000000004,
            "bin_start": 0.2,
            "count": 0
           },
           {
            "bin_end": 0.4,
            "bin_start": 0.30000000000000004,
            "count": 0
           },
           {
            "bin_end": 0.5,
            "bin_start": 0.4,
            "count": 0
           },
           {
            "bin_end": 0.6000000000000001,
            "bin_start": 0.5,
            "count": 0
           },
           {
            "bin_end": 0.7000000000000001,
            "bin_start": 0.6000000000000001,
            "count": 0
           },
           {
            "bin_end": 0.8,
            "bin_start": 0.7000000000000001,
            "count": 0
           },
           {
            "bin_end": 0.9,
            "bin_start": 0.8,
            "count": 0
           },
           {
            "bin_end": 1,
            "bin_start": 0.9,
            "count": 6480
           }
          ],
          "max": "1",
          "min": "0",
          "nan_count": 0,
          "unique_count": 2
         }
        },
        {
         "dtype": "int64",
         "name": "Social",
         "stats": {
          "histogram": [
           {
            "bin_end": 0.2,
            "bin_start": 0,
            "count": 4320
           },
           {
            "bin_end": 0.4,
            "bin_start": 0.2,
            "count": 0
           },
           {
            "bin_end": 0.6000000000000001,
            "bin_start": 0.4,
            "count": 0
           },
           {
            "bin_end": 0.8,
            "bin_start": 0.6000000000000001,
            "count": 0
           },
           {
            "bin_end": 1,
            "bin_start": 0.8,
            "count": 0
           },
           {
            "bin_end": 1.2000000000000002,
            "bin_start": 1,
            "count": 4320
           },
           {
            "bin_end": 1.4000000000000001,
            "bin_start": 1.2000000000000002,
            "count": 0
           },
           {
            "bin_end": 1.6,
            "bin_start": 1.4000000000000001,
            "count": 0
           },
           {
            "bin_end": 1.8,
            "bin_start": 1.6,
            "count": 0
           },
           {
            "bin_end": 2,
            "bin_start": 1.8,
            "count": 4320
           }
          ],
          "max": "2",
          "min": "0",
          "nan_count": 0,
          "unique_count": 3
         }
        },
        {
         "dtype": "int64",
         "name": "Health"
        },
        {
         "dtype": "object",
         "name": "Class"
        },
        {
         "dtype": "int64",
         "name": "_deepnote_index_column"
        }
       ],
       "row_count": 12960,
       "rows": [
        {
         "Children": 0,
         "Class": "recommend",
         "Finance": 0,
         "Form": 0,
         "Has_nurs": 3,
         "Health": 2,
         "Housing": 0,
         "Parents": 2,
         "Social": 0,
         "_deepnote_index_column": 0
        },
        {
         "Children": 0,
         "Class": "priority",
         "Finance": 0,
         "Form": 0,
         "Has_nurs": 3,
         "Health": 1,
         "Housing": 0,
         "Parents": 2,
         "Social": 0,
         "_deepnote_index_column": 1
        },
        {
         "Children": 0,
         "Class": "not_recom",
         "Finance": 0,
         "Form": 0,
         "Has_nurs": 3,
         "Health": 0,
         "Housing": 0,
         "Parents": 2,
         "Social": 0,
         "_deepnote_index_column": 2
        },
        {
         "Children": 0,
         "Class": "recommend",
         "Finance": 0,
         "Form": 0,
         "Has_nurs": 3,
         "Health": 2,
         "Housing": 0,
         "Parents": 2,
         "Social": 2,
         "_deepnote_index_column": 3
        },
        {
         "Children": 0,
         "Class": "priority",
         "Finance": 0,
         "Form": 0,
         "Has_nurs": 3,
         "Health": 1,
         "Housing": 0,
         "Parents": 2,
         "Social": 2,
         "_deepnote_index_column": 4
        },
        {
         "Children": 0,
         "Class": "not_recom",
         "Finance": 0,
         "Form": 0,
         "Has_nurs": 3,
         "Health": 0,
         "Housing": 0,
         "Parents": 2,
         "Social": 2,
         "_deepnote_index_column": 5
        },
        {
         "Children": 0,
         "Class": "priority",
         "Finance": 0,
         "Form": 0,
         "Has_nurs": 3,
         "Health": 2,
         "Housing": 0,
         "Parents": 2,
         "Social": 1,
         "_deepnote_index_column": 6
        },
        {
         "Children": 0,
         "Class": "priority",
         "Finance": 0,
         "Form": 0,
         "Has_nurs": 3,
         "Health": 1,
         "Housing": 0,
         "Parents": 2,
         "Social": 1,
         "_deepnote_index_column": 7
        },
        {
         "Children": 0,
         "Class": "not_recom",
         "Finance": 0,
         "Form": 0,
         "Has_nurs": 3,
         "Health": 0,
         "Housing": 0,
         "Parents": 2,
         "Social": 1,
         "_deepnote_index_column": 8
        },
        {
         "Children": 0,
         "Class": "very_recom",
         "Finance": 1,
         "Form": 0,
         "Has_nurs": 3,
         "Health": 2,
         "Housing": 0,
         "Parents": 2,
         "Social": 0,
         "_deepnote_index_column": 9
        }
       ]
      },
      "text/html": [
       "<div>\n",
       "<style scoped>\n",
       "    .dataframe tbody tr th:only-of-type {\n",
       "        vertical-align: middle;\n",
       "    }\n",
       "\n",
       "    .dataframe tbody tr th {\n",
       "        vertical-align: top;\n",
       "    }\n",
       "\n",
       "    .dataframe thead th {\n",
       "        text-align: right;\n",
       "    }\n",
       "</style>\n",
       "<table border=\"1\" class=\"dataframe\">\n",
       "  <thead>\n",
       "    <tr style=\"text-align: right;\">\n",
       "      <th></th>\n",
       "      <th>Parents</th>\n",
       "      <th>Has_nurs</th>\n",
       "      <th>Form</th>\n",
       "      <th>Children</th>\n",
       "      <th>Housing</th>\n",
       "      <th>Finance</th>\n",
       "      <th>Social</th>\n",
       "      <th>Health</th>\n",
       "      <th>Class</th>\n",
       "    </tr>\n",
       "  </thead>\n",
       "  <tbody>\n",
       "    <tr>\n",
       "      <th>0</th>\n",
       "      <td>2</td>\n",
       "      <td>3</td>\n",
       "      <td>0</td>\n",
       "      <td>0</td>\n",
       "      <td>0</td>\n",
       "      <td>0</td>\n",
       "      <td>0</td>\n",
       "      <td>2</td>\n",
       "      <td>recommend</td>\n",
       "    </tr>\n",
       "    <tr>\n",
       "      <th>1</th>\n",
       "      <td>2</td>\n",
       "      <td>3</td>\n",
       "      <td>0</td>\n",
       "      <td>0</td>\n",
       "      <td>0</td>\n",
       "      <td>0</td>\n",
       "      <td>0</td>\n",
       "      <td>1</td>\n",
       "      <td>priority</td>\n",
       "    </tr>\n",
       "    <tr>\n",
       "      <th>2</th>\n",
       "      <td>2</td>\n",
       "      <td>3</td>\n",
       "      <td>0</td>\n",
       "      <td>0</td>\n",
       "      <td>0</td>\n",
       "      <td>0</td>\n",
       "      <td>0</td>\n",
       "      <td>0</td>\n",
       "      <td>not_recom</td>\n",
       "    </tr>\n",
       "    <tr>\n",
       "      <th>3</th>\n",
       "      <td>2</td>\n",
       "      <td>3</td>\n",
       "      <td>0</td>\n",
       "      <td>0</td>\n",
       "      <td>0</td>\n",
       "      <td>0</td>\n",
       "      <td>2</td>\n",
       "      <td>2</td>\n",
       "      <td>recommend</td>\n",
       "    </tr>\n",
       "    <tr>\n",
       "      <th>4</th>\n",
       "      <td>2</td>\n",
       "      <td>3</td>\n",
       "      <td>0</td>\n",
       "      <td>0</td>\n",
       "      <td>0</td>\n",
       "      <td>0</td>\n",
       "      <td>2</td>\n",
       "      <td>1</td>\n",
       "      <td>priority</td>\n",
       "    </tr>\n",
       "    <tr>\n",
       "      <th>...</th>\n",
       "      <td>...</td>\n",
       "      <td>...</td>\n",
       "      <td>...</td>\n",
       "      <td>...</td>\n",
       "      <td>...</td>\n",
       "      <td>...</td>\n",
       "      <td>...</td>\n",
       "      <td>...</td>\n",
       "      <td>...</td>\n",
       "    </tr>\n",
       "    <tr>\n",
       "      <th>12955</th>\n",
       "      <td>0</td>\n",
       "      <td>4</td>\n",
       "      <td>2</td>\n",
       "      <td>3</td>\n",
       "      <td>1</td>\n",
       "      <td>1</td>\n",
       "      <td>2</td>\n",
       "      <td>1</td>\n",
       "      <td>spec_prior</td>\n",
       "    </tr>\n",
       "    <tr>\n",
       "      <th>12956</th>\n",
       "      <td>0</td>\n",
       "      <td>4</td>\n",
       "      <td>2</td>\n",
       "      <td>3</td>\n",
       "      <td>1</td>\n",
       "      <td>1</td>\n",
       "      <td>2</td>\n",
       "      <td>0</td>\n",
       "      <td>not_recom</td>\n",
       "    </tr>\n",
       "    <tr>\n",
       "      <th>12957</th>\n",
       "      <td>0</td>\n",
       "      <td>4</td>\n",
       "      <td>2</td>\n",
       "      <td>3</td>\n",
       "      <td>1</td>\n",
       "      <td>1</td>\n",
       "      <td>1</td>\n",
       "      <td>2</td>\n",
       "      <td>spec_prior</td>\n",
       "    </tr>\n",
       "    <tr>\n",
       "      <th>12958</th>\n",
       "      <td>0</td>\n",
       "      <td>4</td>\n",
       "      <td>2</td>\n",
       "      <td>3</td>\n",
       "      <td>1</td>\n",
       "      <td>1</td>\n",
       "      <td>1</td>\n",
       "      <td>1</td>\n",
       "      <td>spec_prior</td>\n",
       "    </tr>\n",
       "    <tr>\n",
       "      <th>12959</th>\n",
       "      <td>0</td>\n",
       "      <td>4</td>\n",
       "      <td>2</td>\n",
       "      <td>3</td>\n",
       "      <td>1</td>\n",
       "      <td>1</td>\n",
       "      <td>1</td>\n",
       "      <td>0</td>\n",
       "      <td>not_recom</td>\n",
       "    </tr>\n",
       "  </tbody>\n",
       "</table>\n",
       "<p>12960 rows × 9 columns</p>\n",
       "</div>"
      ],
      "text/plain": [
       "       Parents  Has_nurs  Form  Children  Housing  Finance  Social  Health  \\\n",
       "0            2         3     0         0        0        0       0       2   \n",
       "1            2         3     0         0        0        0       0       1   \n",
       "2            2         3     0         0        0        0       0       0   \n",
       "3            2         3     0         0        0        0       2       2   \n",
       "4            2         3     0         0        0        0       2       1   \n",
       "...        ...       ...   ...       ...      ...      ...     ...     ...   \n",
       "12955        0         4     2         3        1        1       2       1   \n",
       "12956        0         4     2         3        1        1       2       0   \n",
       "12957        0         4     2         3        1        1       1       2   \n",
       "12958        0         4     2         3        1        1       1       1   \n",
       "12959        0         4     2         3        1        1       1       0   \n",
       "\n",
       "            Class  \n",
       "0       recommend  \n",
       "1        priority  \n",
       "2       not_recom  \n",
       "3       recommend  \n",
       "4        priority  \n",
       "...           ...  \n",
       "12955  spec_prior  \n",
       "12956   not_recom  \n",
       "12957  spec_prior  \n",
       "12958  spec_prior  \n",
       "12959   not_recom  \n",
       "\n",
       "[12960 rows x 9 columns]"
      ]
     },
     "execution_count": 16,
     "metadata": {},
     "output_type": "execute_result"
    }
   ],
   "outputs_reference": "s3:deepnote-cell-outputs-production/d95eb891-d34b-4660-9e89-62b7c3976aca",
   "source": [
    "le = LabelEncoder()\n",
    "\n",
    "df['Parents'] = le.fit_transform(df['Parents'])\n",
    "df['Has_nurs'] = le.fit_transform(df['Has_nurs'])\n",
    "df['Form'] = le.fit_transform(df['Form'])\n",
    "df['Children'] = le.fit_transform(df['Children'])\n",
    "df['Housing'] = le.fit_transform(df['Housing'])\n",
    "df['Finance'] = le.fit_transform(df['Finance'])\n",
    "df['Social'] = le.fit_transform(df['Social'])\n",
    "df['Health'] = le.fit_transform(df['Health'])\n",
    "\n",
    "df"
   ]
  },
  {
   "block_group": "a950ad6c79ad4ae19760c25c2d5b8e6e",
   "cell_type": "markdown",
   "metadata": {
    "cell_id": "f0ddb359c5f54eb0afdfb5389d708852",
    "deepnote_cell_type": "text-cell-h2",
    "formattedRanges": [
     {
      "fromCodePoint": 33,
      "marks": {
       "italic": true
      },
      "toCodePoint": 53,
      "type": "marks"
     }
    ]
   },
   "source": [
    "## Deteksi Outlier Menggunakan LOF (Local Outlier Factor)"
   ]
  },
  {
   "block_group": "c12fd9781edf416ea581e052eef26239",
   "cell_type": "markdown",
   "metadata": {
    "cell_id": "1058280095f443d1a2564b90d49ef90a",
    "deepnote_cell_type": "text-cell-p",
    "formattedRanges": [
     {
      "fromCodePoint": 0,
      "marks": {
       "bold": true
      },
      "toCodePoint": 27,
      "type": "marks"
     }
    ]
   },
   "source": [
    "Konsep Local Outlier Factor"
   ]
  },
  {
   "block_group": "f90d8d792bfc40d5a271aa841f029c3e",
   "cell_type": "markdown",
   "metadata": {
    "cell_id": "7b0758123dc84b06852228a66eff0d4d",
    "deepnote_app_block_visible": true,
    "deepnote_cell_type": "text-cell-p",
    "formattedRanges": [
     {
      "fromCodePoint": 0,
      "marks": {
       "bold": true
      },
      "toCodePoint": 15,
      "type": "marks"
     }
    ]
   },
   "source": [
    "Pengertian LOF adalah metode deteksi anomali tanpa pengawasan yang menghitung deviasi kepadatan lokal dari titik data tertentu terhadap titik data tetangganya. Ini menganggap sampel yang memiliki kepadatan jauh lebih rendah daripada sampel tetangganya sebagai outlier."
   ]
  },
  {
   "block_group": "bf09a3fcc0ed4befb36adad911bf3dfd",
   "cell_type": "markdown",
   "metadata": {
    "cell_id": "b04408a85bfb46c582a368ef5ea7d340",
    "deepnote_app_block_visible": true,
    "deepnote_cell_type": "text-cell-p",
    "formattedRanges": []
   },
   "source": [
    "LOF suatu titik didasarkan pada rasio kepadatan lokal daerah sekitar titik dan kepadatan lokal tetangganya. Ini mempertimbangkan kepadatan relatif titik data."
   ]
  },
  {
   "block_group": "73462a5d1c374a1fa50f598ffa546bcc",
   "cell_type": "markdown",
   "metadata": {
    "cell_id": "5113db02151d499089503348344d8366",
    "deepnote_app_block_visible": true,
    "deepnote_cell_type": "text-cell-p",
    "formattedRanges": []
   },
   "source": [
    "Dengan kata sederhana, LOF membandingkan kepadatan lokal suatu titik dengan kepadatan lokal k-tetangga terdekatnya dan memberikan skor sebagai hasil akhir."
   ]
  },
  {
   "block_group": "a44fdc1ee67b4fe490a0d147b0a97b56",
   "cell_type": "markdown",
   "metadata": {
    "cell_id": "78b503db4e1044e0b55bee02bb7345dc",
    "deepnote_app_block_visible": true,
    "deepnote_cell_type": "text-cell-p",
    "formattedRanges": []
   },
   "source": [
    "Berikut adalah langkah-langkah utama dalam menghitung LOF:"
   ]
  },
  {
   "block_group": "be58e37d3b334770aabd99a834b4222f",
   "cell_type": "markdown",
   "metadata": {
    "cell_id": "831cccd1f24847179eb06625678bcb2c",
    "deepnote_app_block_visible": true,
    "deepnote_cell_type": "text-cell-p",
    "formattedRanges": [
     {
      "fromCodePoint": 3,
      "marks": {
       "bold": true
      },
      "toCodePoint": 29,
      "type": "marks"
     }
    ]
   },
   "source": [
    "1. K-DISTANCE DAN K-NEIGHBOR: K-jarak adalah jarak antara suatu titik, dan merupakan tetangga terdekat Kᵗʰ. Tetangga K yang dilambangkan dengan Nₖ(A) mencakup himpunan titik yang terletak di dalam atau pada lingkaran berjari-jari jarak K. K-tetangga bisa lebih dari atau sama dengan nilai K. Bagaimana mungkin?"
   ]
  },
  {
   "block_group": "27cee0d959fa4ad2b400c0c1161fc110",
   "cell_type": "markdown",
   "metadata": {
    "cell_id": "d5e4d00865b1492cb0e6e57c3b67728a",
    "deepnote_app_block_visible": true,
    "deepnote_cell_type": "text-cell-p",
    "formattedRanges": []
   },
   "source": [
    "Kita akan melihat contohnya. Katakanlah kita mempunyai empat titik A, B, C, dan D (ditunjukkan di bawah)."
   ]
  },
  {
   "block_group": "a11cfb03b7fd4a34bb4e5111be791211",
   "cell_type": "markdown",
   "metadata": {
    "cell_id": "6c758ba7ab3845ccbe8904177513afb1",
    "deepnote_cell_type": "image",
    "deepnote_img_src": "asset/image/K-jarak A dengan K=2-20240625-134317.webp"
   },
   "source": [
    "<img src=\"asset/image/K-jarak A dengan K=2-20240625-134317.webp\" width=\"\" align=\"\" />"
   ]
  },
  {
   "block_group": "8b0d05dee8884c9c9100aa8278caac40",
   "cell_type": "markdown",
   "metadata": {
    "cell_id": "cfd39af61c034ce79d4de3661df3f6e9",
    "deepnote_app_block_visible": true,
    "deepnote_cell_type": "text-cell-p",
    "formattedRanges": []
   },
   "source": [
    "Jika K=2, K-tetangga A adalah C, B, dan D. Di sini, nilai K=2 tetapi ||N₂(A)|| = 3. Oleh karena itu, ||Nₖ(titik)|| akan selalu lebih besar atau sama dengan K."
   ]
  },
  {
   "block_group": "848af4d57c8e4e0cb6ddeba905276902",
   "cell_type": "markdown",
   "metadata": {
    "cell_id": "965bdff4f23d427ba434c7f76a8abbca",
    "deepnote_app_block_visible": true,
    "deepnote_cell_type": "text-cell-p",
    "formattedRanges": [
     {
      "fromCodePoint": 0,
      "marks": {
       "bold": true
      },
      "toCodePoint": 32,
      "type": "marks"
     }
    ]
   },
   "source": [
    "2. KEPADATAN REACHABILITY (RD): "
   ]
  },
  {
   "block_group": "94c56a45be7a4ba9b1bd627688422255",
   "cell_type": "markdown",
   "metadata": {
    "cell_id": "d89ee4c51c48403d842008b9519bd44f",
    "deepnote_app_block_visible": true,
    "deepnote_cell_type": "markdown"
   },
   "source": [
    "$$\n",
    "RD(\\text Xi, \\text Xj) = max (K-distance (Xj), distance (Xi,Xj))\n",
    "$$"
   ]
  },
  {
   "block_group": "c9a40d33542b4c9ab8b57103a06b3630",
   "cell_type": "markdown",
   "metadata": {
    "cell_id": "6a6217c573ff4bccba22755c2b665288",
    "deepnote_app_block_visible": true,
    "deepnote_cell_type": "text-cell-p",
    "formattedRanges": []
   },
   "source": [
    "Ini didefinisikan sebagai jarak K maksimum Xj dan jarak antara Xi dan Xj. Ukuran jarak bersifat khusus untuk masalah (Euclidean, Manhattan, dll.)"
   ]
  },
  {
   "block_group": "a1952526c47c4ff2bde9e28d10265fb5",
   "cell_type": "markdown",
   "metadata": {
    "cell_id": "0be6368217e94fffad976a976c0cf6e7",
    "deepnote_cell_type": "image",
    "deepnote_img_src": "asset/image/Ilustrasi jarak.webp"
   },
   "source": [
    "<img src=\"asset/image/Ilustrasi jarak.webp\" width=\"\" align=\"\" />"
   ]
  },
  {
   "block_group": "48b095667afe4b0ead21331ce86b84f7",
   "cell_type": "markdown",
   "metadata": {
    "cell_id": "9bebe654a4dd4e49839fad775872e310",
    "deepnote_app_block_visible": true,
    "deepnote_cell_type": "text-cell-p",
    "formattedRanges": []
   },
   "source": [
    "Dalam istilah awam, jika titik Xi terletak di dalam K-tetangga Xj, maka jarak jangkauannya adalah K-jarak Xj (garis biru), jika tidak, jarak jangkauannya adalah jarak antara Xi dan Xj (garis oranye)."
   ]
  },
  {
   "block_group": "a79576e519ea42aa9aa69f5d1dc5d992",
   "cell_type": "markdown",
   "metadata": {
    "cell_id": "6783d1b526524bee8eb01a7ce676a8f4",
    "deepnote_app_block_visible": true,
    "deepnote_cell_type": "text-cell-p",
    "formattedRanges": [
     {
      "fromCodePoint": 0,
      "marks": {
       "bold": true
      },
      "toCodePoint": 39,
      "type": "marks"
     }
    ]
   },
   "source": [
    "4. KEPADATAN REACHABILITY LOKAL (LRD): "
   ]
  },
  {
   "block_group": "1fbdd112b9ff4db28771cd9d0e67cdc6",
   "cell_type": "markdown",
   "metadata": {
    "cell_id": "5559b0be129a41cdac3d1e01551f14d7",
    "deepnote_app_block_visible": true,
    "deepnote_cell_type": "markdown"
   },
   "source": [
    "$$\n",
    "\\text{LRD}_k(A) = \\frac{1}{\\sum \\text{X}_j \\in \\mathcal{N}_k(A) \\frac{RD(A,Xj)}{\\parallel\\ N_k(A) \\parallel\\ } }\n",
    "$$"
   ]
  },
  {
   "block_group": "987b37dda4ff4e1fa32345665a52aeb5",
   "cell_type": "markdown",
   "metadata": {
    "cell_id": "8cdf6f7bf6524cffb38e2933052e5924",
    "deepnote_app_block_visible": true,
    "deepnote_cell_type": "text-cell-p",
    "formattedRanges": []
   },
   "source": [
    "LRD merupakan kebalikan dari rata-rata jarak jangkauan A dari tetangganya. Secara intuitif berdasarkan rumus LRD, semakin besar jarak jangkauan rata-rata (yaitu, tetangga jauh dari titik tersebut), maka semakin sedikit kepadatan titik yang ada di sekitar titik tertentu. Ini menunjukkan seberapa jauh suatu titik dari kelompok titik terdekat.Nilai LRD yang rendah menunjukkan bahwa cluster terdekat berada jauh dari titik."
   ]
  },
  {
   "block_group": "a30ecec459b04b7288319361bdf04479",
   "cell_type": "markdown",
   "metadata": {
    "cell_id": "1c36c64082bb4de9b9151d9e0d55a28a",
    "deepnote_app_block_visible": true,
    "deepnote_cell_type": "text-cell-p",
    "formattedRanges": [
     {
      "fromCodePoint": 0,
      "marks": {
       "bold": true
      },
      "toCodePoint": 29,
      "type": "marks"
     }
    ]
   },
   "source": [
    "5. FAKTOR OUTLIER LOKAL (LOF)"
   ]
  },
  {
   "block_group": "3a16f47df83d4e768f9f2b586d207b0d",
   "cell_type": "markdown",
   "metadata": {
    "cell_id": "c76e02ad2a964dab9465f8dd442bbe19",
    "deepnote_app_block_visible": true,
    "deepnote_cell_type": "markdown"
   },
   "source": [
    "$$\n",
    "LOF_k(A) = \\frac {\\sum X_j \\in N_k(A) LRD_k(X_j)} {\\parallel\\ N_k(A) \\parallel\\ } \\times \\frac{1}{LRD_k(A)}\n",
    "$$"
   ]
  },
  {
   "block_group": "caa8239db9744449bdc75d23b6d70fab",
   "cell_type": "markdown",
   "metadata": {
    "cell_id": "44ac9478ba034955876d22f4bec3276f",
    "deepnote_app_block_visible": true,
    "deepnote_cell_type": "text-cell-p",
    "formattedRanges": []
   },
   "source": [
    "LRD tiap titik digunakan untuk membandingkan dengan rata-rata LRD K tetangganya. LOF adalah perbandingan rata-rata LRD K tetangga A terhadap LRD A."
   ]
  },
  {
   "block_group": "39bc2d45815445099c1cd502ed5bc4d0",
   "cell_type": "markdown",
   "metadata": {
    "cell_id": "8b9ddf42e94d4e64bbaa0c51640fee71",
    "deepnote_app_block_visible": true,
    "deepnote_cell_type": "text-cell-p",
    "formattedRanges": []
   },
   "source": [
    "Secara intuitif, jika suatu titik bukan merupakan pencilan (inlier), rasio rata-rata LRD tetangganya kira-kira sama dengan LRD suatu titik (karena kepadatan suatu titik dan tetangganya kira-kira sama). Dalam hal ini, LOF hampir sama dengan 1. Sebaliknya, jika suatu titik merupakan outlier, LRD suatu titik lebih kecil dari rata-rata LRD tetangganya. Maka nilai LOF akan tinggi."
   ]
  },
  {
   "block_group": "78ee49f144d74a5b9f7821deba48225e",
   "cell_type": "markdown",
   "metadata": {
    "cell_id": "ab49c432a43149299d58007aee0c2634",
    "deepnote_app_block_visible": true,
    "deepnote_cell_type": "text-cell-p",
    "formattedRanges": []
   },
   "source": [
    "Umumnya jika LOF > 1 maka dianggap outlier, namun hal tersebut tidak selalu benar. Katakanlah kita mengetahui bahwa kita hanya memiliki satu outlier dalam data, lalu kita ambil nilai LOF maksimum di antara semua nilai LOF, dan titik yang sesuai dengan nilai LOF maksimum akan dianggap sebagai outlier."
   ]
  },
  {
   "block_group": "f6723a52f0b345a995879458626464bf",
   "cell_type": "markdown",
   "metadata": {
    "cell_id": "0cf13a1a22264bfbbb476acbc6e7d3a7",
    "deepnote_cell_type": "text-cell-p",
    "formattedRanges": [
     {
      "fromCodePoint": 0,
      "marks": {
       "bold": true
      },
      "toCodePoint": 14,
      "type": "marks"
     }
    ]
   },
   "source": [
    "Check Outliers"
   ]
  },
  {
   "block_group": "8a657613974d435cb6338ff03eaca6f8",
   "cell_type": "code",
   "content_dependencies": null,
   "execution_count": 17,
   "metadata": {
    "cell_id": "cf69c27827bb4a15a364f73afb8cdac8",
    "deepnote_cell_type": "code",
    "deepnote_to_be_reexecuted": false,
    "execution_millis": 509,
    "execution_start": 1719408990099,
    "source_hash": "f5ddd6b3"
   },
   "outputs": [
    {
     "name": "stdout",
     "output_type": "stream",
     "text": [
      "Index predicted table: Index([], dtype='int64')\n"
     ]
    }
   ],
   "outputs_reference": "dbtable:cell_outputs/64b85523-9a6a-4638-a342-2570c943bdee",
   "source": [
    "lof = LocalOutlierFactor(n_neighbors=5, p=2)\n",
    "\n",
    "lof_predict = lof.fit_predict(df.drop(['Class'], axis=1))\n",
    "\n",
    "outlier = df.index[lof_predict == -1]\n",
    "\n",
    "print(\"Index predicted table:\", df.index[lof_predict == -1])"
   ]
  },
  {
   "block_group": "1fc0a8f977d14935b95236cef520f521",
   "cell_type": "markdown",
   "metadata": {
    "cell_id": "09ba699d1d9a403bbd44e71f1dea0ad1",
    "deepnote_cell_type": "text-cell-p",
    "formattedRanges": []
   },
   "source": [
    "Berdasarkan\r",
    " hasil output, diketahui bahwa tidak ada data yang aneh, atau outlier data."
   ]
  },
  {
   "block_group": "f53bdce343cf4f71b8c90832d87922ef",
   "cell_type": "markdown",
   "metadata": {
    "cell_id": "5f99dacd078e4c44bd381dfe6536254d",
    "deepnote_cell_type": "text-cell-h1",
    "formattedRanges": []
   },
   "source": [
    "# DATA MODELING"
   ]
  },
  {
   "block_group": "17a4daabdaf0430a89414bc93b3a4541",
   "cell_type": "markdown",
   "metadata": {
    "cell_id": "6a4674891b724f959064b899042a3944",
    "deepnote_cell_type": "text-cell-p",
    "formattedRanges": [
     {
      "fromCodePoint": 0,
      "marks": {
       "bold": true
      },
      "toCodePoint": 30,
      "type": "marks"
     }
    ]
   },
   "source": [
    "Membagi data (fitur dan class)"
   ]
  },
  {
   "block_group": "ef04653c6d644ce988ec59caec55f4d0",
   "cell_type": "markdown",
   "metadata": {
    "cell_id": "aac247113d0a46ecbffc397b849f0a0c",
    "deepnote_cell_type": "text-cell-p",
    "formattedRanges": []
   },
   "source": [
    "Pada klasifikasi naive bayes gaussian kita memerlukan data train dan data test. Data train merupakan bagian dalam kumpulan dataset yang disediakan untuk menjadi bahan pembelajaran model agar model dapat menggeneralisasi (menemukan pola) data sehingga nantinya dapat digunakan untuk memprediksi data baru. Sedangkan data test adalah bagian dari kumpulan data set yang akan digunakan untuk mengetest dengan acuan prediksi dari data train yang digunakan. Untuk pembagian data nya sendiri adalah 20% menjadi data Test dan 80% menjadi data Train. Pada kode berikut random state dimulai dari 20."
   ]
  },
  {
   "block_group": "b0095f0768aa43ef85621c7a61dc7753",
   "cell_type": "code",
   "content_dependencies": null,
   "execution_count": 18,
   "metadata": {
    "cell_id": "0bac71831b9d442bb67e8cc1c23646bd",
    "deepnote_cell_type": "code",
    "deepnote_to_be_reexecuted": false,
    "execution_millis": 562,
    "execution_start": 1719408990360,
    "source_hash": "7073a14d"
   },
   "outputs": [],
   "outputs_reference": null,
   "source": [
    "x = df.drop(['Class'], axis=1)\n",
    "y = df['Class']\n",
    "\n",
    "x_train, x_test, y_train, y_test = train_test_split(x, y, test_size=0.2, random_state=42)"
   ]
  },
  {
   "block_group": "67ad135f27ec418a89f4588b4520bbbb",
   "cell_type": "markdown",
   "metadata": {
    "cell_id": "2785b85da9af4a26bbf526652e83a196",
    "deepnote_cell_type": "text-cell-p",
    "formattedRanges": [
     {
      "fromCodePoint": 0,
      "marks": {
       "bold": true
      },
      "toCodePoint": 24,
      "type": "marks"
     }
    ]
   },
   "source": [
    "Menampilkan x_train data"
   ]
  },
  {
   "block_group": "67559165e0334fa995ea50930de97bdb",
   "cell_type": "code",
   "content_dependencies": null,
   "execution_count": 19,
   "metadata": {
    "cell_id": "7212a5dadd30406dad980de357b03b84",
    "deepnote_cell_type": "code",
    "deepnote_to_be_reexecuted": false,
    "execution_millis": 562,
    "execution_start": 1719408990360,
    "source_hash": "e396a278"
   },
   "outputs": [
    {
     "data": {
      "application/vnd.deepnote.dataframe.v3+json": {
       "column_count": 8,
       "columns": [
        {
         "dtype": "int64",
         "name": "Parents",
         "stats": {
          "histogram": [
           {
            "bin_end": 0.2,
            "bin_start": 0,
            "count": 3479
           },
           {
            "bin_end": 0.4,
            "bin_start": 0.2,
            "count": 0
           },
           {
            "bin_end": 0.6000000000000001,
            "bin_start": 0.4,
            "count": 0
           },
           {
            "bin_end": 0.8,
            "bin_start": 0.6000000000000001,
            "count": 0
           },
           {
            "bin_end": 1,
            "bin_start": 0.8,
            "count": 0
           },
           {
            "bin_end": 1.2000000000000002,
            "bin_start": 1,
            "count": 3465
           },
           {
            "bin_end": 1.4000000000000001,
            "bin_start": 1.2000000000000002,
            "count": 0
           },
           {
            "bin_end": 1.6,
            "bin_start": 1.4000000000000001,
            "count": 0
           },
           {
            "bin_end": 1.8,
            "bin_start": 1.6,
            "count": 0
           },
           {
            "bin_end": 2,
            "bin_start": 1.8,
            "count": 3424
           }
          ],
          "max": "2",
          "min": "0",
          "nan_count": 0,
          "unique_count": 3
         }
        },
        {
         "dtype": "int64",
         "name": "Has_nurs",
         "stats": {
          "histogram": [
           {
            "bin_end": 0.4,
            "bin_start": 0,
            "count": 2078
           },
           {
            "bin_end": 0.8,
            "bin_start": 0.4,
            "count": 0
           },
           {
            "bin_end": 1.2000000000000002,
            "bin_start": 0.8,
            "count": 2080
           },
           {
            "bin_end": 1.6,
            "bin_start": 1.2000000000000002,
            "count": 0
           },
           {
            "bin_end": 2,
            "bin_start": 1.6,
            "count": 0
           },
           {
            "bin_end": 2.4000000000000004,
            "bin_start": 2,
            "count": 2092
           },
           {
            "bin_end": 2.8000000000000003,
            "bin_start": 2.4000000000000004,
            "count": 0
           },
           {
            "bin_end": 3.2,
            "bin_start": 2.8000000000000003,
            "count": 2055
           },
           {
            "bin_end": 3.6,
            "bin_start": 3.2,
            "count": 0
           },
           {
            "bin_end": 4,
            "bin_start": 3.6,
            "count": 2063
           }
          ],
          "max": "4",
          "min": "0",
          "nan_count": 0,
          "unique_count": 5
         }
        },
        {
         "dtype": "int64",
         "name": "Form",
         "stats": {
          "histogram": [
           {
            "bin_end": 0.3,
            "bin_start": 0,
            "count": 2630
           },
           {
            "bin_end": 0.6,
            "bin_start": 0.3,
            "count": 0
           },
           {
            "bin_end": 0.8999999999999999,
            "bin_start": 0.6,
            "count": 0
           },
           {
            "bin_end": 1.2,
            "bin_start": 0.8999999999999999,
            "count": 2586
           },
           {
            "bin_end": 1.5,
            "bin_start": 1.2,
            "count": 0
           },
           {
            "bin_end": 1.7999999999999998,
            "bin_start": 1.5,
            "count": 0
           },
           {
            "bin_end": 2.1,
            "bin_start": 1.7999999999999998,
            "count": 2580
           },
           {
            "bin_end": 2.4,
            "bin_start": 2.1,
            "count": 0
           },
           {
            "bin_end": 2.6999999999999997,
            "bin_start": 2.4,
            "count": 0
           },
           {
            "bin_end": 3,
            "bin_start": 2.6999999999999997,
            "count": 2572
           }
          ],
          "max": "3",
          "min": "0",
          "nan_count": 0,
          "unique_count": 4
         }
        },
        {
         "dtype": "int64",
         "name": "Children",
         "stats": {
          "histogram": [
           {
            "bin_end": 0.3,
            "bin_start": 0,
            "count": 2586
           },
           {
            "bin_end": 0.6,
            "bin_start": 0.3,
            "count": 0
           },
           {
            "bin_end": 0.8999999999999999,
            "bin_start": 0.6,
            "count": 0
           },
           {
            "bin_end": 1.2,
            "bin_start": 0.8999999999999999,
            "count": 2598
           },
           {
            "bin_end": 1.5,
            "bin_start": 1.2,
            "count": 0
           },
           {
            "bin_end": 1.7999999999999998,
            "bin_start": 1.5,
            "count": 0
           },
           {
            "bin_end": 2.1,
            "bin_start": 1.7999999999999998,
            "count": 2590
           },
           {
            "bin_end": 2.4,
            "bin_start": 2.1,
            "count": 0
           },
           {
            "bin_end": 2.6999999999999997,
            "bin_start": 2.4,
            "count": 0
           },
           {
            "bin_end": 3,
            "bin_start": 2.6999999999999997,
            "count": 2594
           }
          ],
          "max": "3",
          "min": "0",
          "nan_count": 0,
          "unique_count": 4
         }
        },
        {
         "dtype": "int64",
         "name": "Housing",
         "stats": {
          "histogram": [
           {
            "bin_end": 0.2,
            "bin_start": 0,
            "count": 3443
           },
           {
            "bin_end": 0.4,
            "bin_start": 0.2,
            "count": 0
           },
           {
            "bin_end": 0.6000000000000001,
            "bin_start": 0.4,
            "count": 0
           },
           {
            "bin_end": 0.8,
            "bin_start": 0.6000000000000001,
            "count": 0
           },
           {
            "bin_end": 1,
            "bin_start": 0.8,
            "count": 0
           },
           {
            "bin_end": 1.2000000000000002,
            "bin_start": 1,
            "count": 3451
           },
           {
            "bin_end": 1.4000000000000001,
            "bin_start": 1.2000000000000002,
            "count": 0
           },
           {
            "bin_end": 1.6,
            "bin_start": 1.4000000000000001,
            "count": 0
           },
           {
            "bin_end": 1.8,
            "bin_start": 1.6,
            "count": 0
           },
           {
            "bin_end": 2,
            "bin_start": 1.8,
            "count": 3474
           }
          ],
          "max": "2",
          "min": "0",
          "nan_count": 0,
          "unique_count": 3
         }
        },
        {
         "dtype": "int64",
         "name": "Finance",
         "stats": {
          "histogram": [
           {
            "bin_end": 0.1,
            "bin_start": 0,
            "count": 5192
           },
           {
            "bin_end": 0.2,
            "bin_start": 0.1,
            "count": 0
           },
           {
            "bin_end": 0.30000000000000004,
            "bin_start": 0.2,
            "count": 0
           },
           {
            "bin_end": 0.4,
            "bin_start": 0.30000000000000004,
            "count": 0
           },
           {
            "bin_end": 0.5,
            "bin_start": 0.4,
            "count": 0
           },
           {
            "bin_end": 0.6000000000000001,
            "bin_start": 0.5,
            "count": 0
           },
           {
            "bin_end": 0.7000000000000001,
            "bin_start": 0.6000000000000001,
            "count": 0
           },
           {
            "bin_end": 0.8,
            "bin_start": 0.7000000000000001,
            "count": 0
           },
           {
            "bin_end": 0.9,
            "bin_start": 0.8,
            "count": 0
           },
           {
            "bin_end": 1,
            "bin_start": 0.9,
            "count": 5176
           }
          ],
          "max": "1",
          "min": "0",
          "nan_count": 0,
          "unique_count": 2
         }
        },
        {
         "dtype": "int64",
         "name": "Social",
         "stats": {
          "histogram": [
           {
            "bin_end": 0.2,
            "bin_start": 0,
            "count": 3461
           },
           {
            "bin_end": 0.4,
            "bin_start": 0.2,
            "count": 0
           },
           {
            "bin_end": 0.6000000000000001,
            "bin_start": 0.4,
            "count": 0
           },
           {
            "bin_end": 0.8,
            "bin_start": 0.6000000000000001,
            "count": 0
           },
           {
            "bin_end": 1,
            "bin_start": 0.8,
            "count": 0
           },
           {
            "bin_end": 1.2000000000000002,
            "bin_start": 1,
            "count": 3462
           },
           {
            "bin_end": 1.4000000000000001,
            "bin_start": 1.2000000000000002,
            "count": 0
           },
           {
            "bin_end": 1.6,
            "bin_start": 1.4000000000000001,
            "count": 0
           },
           {
            "bin_end": 1.8,
            "bin_start": 1.6,
            "count": 0
           },
           {
            "bin_end": 2,
            "bin_start": 1.8,
            "count": 3445
           }
          ],
          "max": "2",
          "min": "0",
          "nan_count": 0,
          "unique_count": 3
         }
        },
        {
         "dtype": "int64",
         "name": "Health",
         "stats": {
          "histogram": [
           {
            "bin_end": 0.2,
            "bin_start": 0,
            "count": 3450
           },
           {
            "bin_end": 0.4,
            "bin_start": 0.2,
            "count": 0
           },
           {
            "bin_end": 0.6000000000000001,
            "bin_start": 0.4,
            "count": 0
           },
           {
            "bin_end": 0.8,
            "bin_start": 0.6000000000000001,
            "count": 0
           },
           {
            "bin_end": 1,
            "bin_start": 0.8,
            "count": 0
           },
           {
            "bin_end": 1.2000000000000002,
            "bin_start": 1,
            "count": 3447
           },
           {
            "bin_end": 1.4000000000000001,
            "bin_start": 1.2000000000000002,
            "count": 0
           },
           {
            "bin_end": 1.6,
            "bin_start": 1.4000000000000001,
            "count": 0
           },
           {
            "bin_end": 1.8,
            "bin_start": 1.6,
            "count": 0
           },
           {
            "bin_end": 2,
            "bin_start": 1.8,
            "count": 3471
           }
          ],
          "max": "2",
          "min": "0",
          "nan_count": 0,
          "unique_count": 3
         }
        },
        {
         "dtype": "int64",
         "name": "_deepnote_index_column"
        }
       ],
       "row_count": 10368,
       "rows": [
        {
         "Children": 1,
         "Finance": 0,
         "Form": 2,
         "Has_nurs": 0,
         "Health": 1,
         "Housing": 1,
         "Parents": 2,
         "Social": 2,
         "_deepnote_index_column": 3334
        },
        {
         "Children": 3,
         "Finance": 0,
         "Form": 3,
         "Has_nurs": 4,
         "Health": 0,
         "Housing": 0,
         "Parents": 0,
         "Social": 0,
         "_deepnote_index_column": 12692
        },
        {
         "Children": 2,
         "Finance": 0,
         "Form": 3,
         "Has_nurs": 0,
         "Health": 2,
         "Housing": 1,
         "Parents": 1,
         "Social": 0,
         "_deepnote_index_column": 7488
        },
        {
         "Children": 1,
         "Finance": 0,
         "Form": 1,
         "Has_nurs": 0,
         "Health": 2,
         "Housing": 1,
         "Parents": 2,
         "Social": 2,
         "_deepnote_index_column": 2901
        },
        {
         "Children": 2,
         "Finance": 1,
         "Form": 0,
         "Has_nurs": 4,
         "Health": 1,
         "Housing": 1,
         "Parents": 2,
         "Social": 1,
         "_deepnote_index_column": 3616
        },
        {
         "Children": 1,
         "Finance": 0,
         "Form": 0,
         "Has_nurs": 1,
         "Health": 1,
         "Housing": 2,
         "Parents": 1,
         "Social": 1,
         "_deepnote_index_column": 6127
        },
        {
         "Children": 3,
         "Finance": 0,
         "Form": 0,
         "Has_nurs": 4,
         "Health": 1,
         "Housing": 1,
         "Parents": 1,
         "Social": 1,
         "_deepnote_index_column": 7981
        },
        {
         "Children": 3,
         "Finance": 1,
         "Form": 0,
         "Has_nurs": 1,
         "Health": 0,
         "Housing": 0,
         "Parents": 2,
         "Social": 2,
         "_deepnote_index_column": 1904
        },
        {
         "Children": 0,
         "Finance": 1,
         "Form": 3,
         "Has_nurs": 1,
         "Health": 0,
         "Housing": 2,
         "Parents": 1,
         "Social": 1,
         "_deepnote_index_column": 6515
        },
        {
         "Children": 2,
         "Finance": 1,
         "Form": 2,
         "Has_nurs": 3,
         "Health": 1,
         "Housing": 1,
         "Parents": 1,
         "Social": 2,
         "_deepnote_index_column": 5125
        }
       ]
      },
      "text/html": [
       "<div>\n",
       "<style scoped>\n",
       "    .dataframe tbody tr th:only-of-type {\n",
       "        vertical-align: middle;\n",
       "    }\n",
       "\n",
       "    .dataframe tbody tr th {\n",
       "        vertical-align: top;\n",
       "    }\n",
       "\n",
       "    .dataframe thead th {\n",
       "        text-align: right;\n",
       "    }\n",
       "</style>\n",
       "<table border=\"1\" class=\"dataframe\">\n",
       "  <thead>\n",
       "    <tr style=\"text-align: right;\">\n",
       "      <th></th>\n",
       "      <th>Parents</th>\n",
       "      <th>Has_nurs</th>\n",
       "      <th>Form</th>\n",
       "      <th>Children</th>\n",
       "      <th>Housing</th>\n",
       "      <th>Finance</th>\n",
       "      <th>Social</th>\n",
       "      <th>Health</th>\n",
       "    </tr>\n",
       "  </thead>\n",
       "  <tbody>\n",
       "    <tr>\n",
       "      <th>3334</th>\n",
       "      <td>2</td>\n",
       "      <td>0</td>\n",
       "      <td>2</td>\n",
       "      <td>1</td>\n",
       "      <td>1</td>\n",
       "      <td>0</td>\n",
       "      <td>2</td>\n",
       "      <td>1</td>\n",
       "    </tr>\n",
       "    <tr>\n",
       "      <th>12692</th>\n",
       "      <td>0</td>\n",
       "      <td>4</td>\n",
       "      <td>3</td>\n",
       "      <td>3</td>\n",
       "      <td>0</td>\n",
       "      <td>0</td>\n",
       "      <td>0</td>\n",
       "      <td>0</td>\n",
       "    </tr>\n",
       "    <tr>\n",
       "      <th>7488</th>\n",
       "      <td>1</td>\n",
       "      <td>0</td>\n",
       "      <td>3</td>\n",
       "      <td>2</td>\n",
       "      <td>1</td>\n",
       "      <td>0</td>\n",
       "      <td>0</td>\n",
       "      <td>2</td>\n",
       "    </tr>\n",
       "    <tr>\n",
       "      <th>2901</th>\n",
       "      <td>2</td>\n",
       "      <td>0</td>\n",
       "      <td>1</td>\n",
       "      <td>1</td>\n",
       "      <td>1</td>\n",
       "      <td>0</td>\n",
       "      <td>2</td>\n",
       "      <td>2</td>\n",
       "    </tr>\n",
       "    <tr>\n",
       "      <th>3616</th>\n",
       "      <td>2</td>\n",
       "      <td>4</td>\n",
       "      <td>0</td>\n",
       "      <td>2</td>\n",
       "      <td>1</td>\n",
       "      <td>1</td>\n",
       "      <td>1</td>\n",
       "      <td>1</td>\n",
       "    </tr>\n",
       "    <tr>\n",
       "      <th>...</th>\n",
       "      <td>...</td>\n",
       "      <td>...</td>\n",
       "      <td>...</td>\n",
       "      <td>...</td>\n",
       "      <td>...</td>\n",
       "      <td>...</td>\n",
       "      <td>...</td>\n",
       "      <td>...</td>\n",
       "    </tr>\n",
       "    <tr>\n",
       "      <th>11964</th>\n",
       "      <td>0</td>\n",
       "      <td>0</td>\n",
       "      <td>2</td>\n",
       "      <td>1</td>\n",
       "      <td>2</td>\n",
       "      <td>1</td>\n",
       "      <td>2</td>\n",
       "      <td>2</td>\n",
       "    </tr>\n",
       "    <tr>\n",
       "      <th>5191</th>\n",
       "      <td>1</td>\n",
       "      <td>2</td>\n",
       "      <td>0</td>\n",
       "      <td>0</td>\n",
       "      <td>0</td>\n",
       "      <td>0</td>\n",
       "      <td>1</td>\n",
       "      <td>1</td>\n",
       "    </tr>\n",
       "    <tr>\n",
       "      <th>5390</th>\n",
       "      <td>1</td>\n",
       "      <td>2</td>\n",
       "      <td>0</td>\n",
       "      <td>3</td>\n",
       "      <td>1</td>\n",
       "      <td>0</td>\n",
       "      <td>1</td>\n",
       "      <td>0</td>\n",
       "    </tr>\n",
       "    <tr>\n",
       "      <th>860</th>\n",
       "      <td>2</td>\n",
       "      <td>3</td>\n",
       "      <td>2</td>\n",
       "      <td>3</td>\n",
       "      <td>1</td>\n",
       "      <td>1</td>\n",
       "      <td>2</td>\n",
       "      <td>0</td>\n",
       "    </tr>\n",
       "    <tr>\n",
       "      <th>7270</th>\n",
       "      <td>1</td>\n",
       "      <td>0</td>\n",
       "      <td>1</td>\n",
       "      <td>2</td>\n",
       "      <td>2</td>\n",
       "      <td>1</td>\n",
       "      <td>1</td>\n",
       "      <td>1</td>\n",
       "    </tr>\n",
       "  </tbody>\n",
       "</table>\n",
       "<p>10368 rows × 8 columns</p>\n",
       "</div>"
      ],
      "text/plain": [
       "       Parents  Has_nurs  Form  Children  Housing  Finance  Social  Health\n",
       "3334         2         0     2         1        1        0       2       1\n",
       "12692        0         4     3         3        0        0       0       0\n",
       "7488         1         0     3         2        1        0       0       2\n",
       "2901         2         0     1         1        1        0       2       2\n",
       "3616         2         4     0         2        1        1       1       1\n",
       "...        ...       ...   ...       ...      ...      ...     ...     ...\n",
       "11964        0         0     2         1        2        1       2       2\n",
       "5191         1         2     0         0        0        0       1       1\n",
       "5390         1         2     0         3        1        0       1       0\n",
       "860          2         3     2         3        1        1       2       0\n",
       "7270         1         0     1         2        2        1       1       1\n",
       "\n",
       "[10368 rows x 8 columns]"
      ]
     },
     "execution_count": 19,
     "metadata": {},
     "output_type": "execute_result"
    }
   ],
   "outputs_reference": "s3:deepnote-cell-outputs-production/7fea9572-c731-49b4-8ad8-10981ca24035",
   "source": [
    "x_train"
   ]
  },
  {
   "block_group": "efd9f25cc6d5404e9c83f8c9273f00d5",
   "cell_type": "markdown",
   "metadata": {
    "cell_id": "852c26b30cd1489d84fbb9a2ed301003",
    "deepnote_cell_type": "text-cell-p",
    "formattedRanges": [
     {
      "fromCodePoint": 0,
      "marks": {
       "bold": true
      },
      "toCodePoint": 23,
      "type": "marks"
     }
    ]
   },
   "source": [
    "Menampilkan x_test data"
   ]
  },
  {
   "block_group": "09cb3afb33e643f5aa68d46263c2caf3",
   "cell_type": "code",
   "content_dependencies": null,
   "execution_count": 20,
   "metadata": {
    "cell_id": "96168ddc5c9242af9d137ccce2f17081",
    "deepnote_cell_type": "code",
    "deepnote_to_be_reexecuted": false,
    "execution_millis": 483,
    "execution_start": 1719408990439,
    "source_hash": "4ea9727a"
   },
   "outputs": [
    {
     "data": {
      "application/vnd.deepnote.dataframe.v3+json": {
       "column_count": 8,
       "columns": [
        {
         "dtype": "int64",
         "name": "Parents",
         "stats": {
          "histogram": [
           {
            "bin_end": 0.2,
            "bin_start": 0,
            "count": 841
           },
           {
            "bin_end": 0.4,
            "bin_start": 0.2,
            "count": 0
           },
           {
            "bin_end": 0.6000000000000001,
            "bin_start": 0.4,
            "count": 0
           },
           {
            "bin_end": 0.8,
            "bin_start": 0.6000000000000001,
            "count": 0
           },
           {
            "bin_end": 1,
            "bin_start": 0.8,
            "count": 0
           },
           {
            "bin_end": 1.2000000000000002,
            "bin_start": 1,
            "count": 855
           },
           {
            "bin_end": 1.4000000000000001,
            "bin_start": 1.2000000000000002,
            "count": 0
           },
           {
            "bin_end": 1.6,
            "bin_start": 1.4000000000000001,
            "count": 0
           },
           {
            "bin_end": 1.8,
            "bin_start": 1.6,
            "count": 0
           },
           {
            "bin_end": 2,
            "bin_start": 1.8,
            "count": 896
           }
          ],
          "max": "2",
          "min": "0",
          "nan_count": 0,
          "unique_count": 3
         }
        },
        {
         "dtype": "int64",
         "name": "Has_nurs",
         "stats": {
          "histogram": [
           {
            "bin_end": 0.4,
            "bin_start": 0,
            "count": 514
           },
           {
            "bin_end": 0.8,
            "bin_start": 0.4,
            "count": 0
           },
           {
            "bin_end": 1.2000000000000002,
            "bin_start": 0.8,
            "count": 512
           },
           {
            "bin_end": 1.6,
            "bin_start": 1.2000000000000002,
            "count": 0
           },
           {
            "bin_end": 2,
            "bin_start": 1.6,
            "count": 0
           },
           {
            "bin_end": 2.4000000000000004,
            "bin_start": 2,
            "count": 500
           },
           {
            "bin_end": 2.8000000000000003,
            "bin_start": 2.4000000000000004,
            "count": 0
           },
           {
            "bin_end": 3.2,
            "bin_start": 2.8000000000000003,
            "count": 537
           },
           {
            "bin_end": 3.6,
            "bin_start": 3.2,
            "count": 0
           },
           {
            "bin_end": 4,
            "bin_start": 3.6,
            "count": 529
           }
          ],
          "max": "4",
          "min": "0",
          "nan_count": 0,
          "unique_count": 5
         }
        },
        {
         "dtype": "int64",
         "name": "Form",
         "stats": {
          "histogram": [
           {
            "bin_end": 0.3,
            "bin_start": 0,
            "count": 610
           },
           {
            "bin_end": 0.6,
            "bin_start": 0.3,
            "count": 0
           },
           {
            "bin_end": 0.8999999999999999,
            "bin_start": 0.6,
            "count": 0
           },
           {
            "bin_end": 1.2,
            "bin_start": 0.8999999999999999,
            "count": 654
           },
           {
            "bin_end": 1.5,
            "bin_start": 1.2,
            "count": 0
           },
           {
            "bin_end": 1.7999999999999998,
            "bin_start": 1.5,
            "count": 0
           },
           {
            "bin_end": 2.1,
            "bin_start": 1.7999999999999998,
            "count": 660
           },
           {
            "bin_end": 2.4,
            "bin_start": 2.1,
            "count": 0
           },
           {
            "bin_end": 2.6999999999999997,
            "bin_start": 2.4,
            "count": 0
           },
           {
            "bin_end": 3,
            "bin_start": 2.6999999999999997,
            "count": 668
           }
          ],
          "max": "3",
          "min": "0",
          "nan_count": 0,
          "unique_count": 4
         }
        },
        {
         "dtype": "int64",
         "name": "Children",
         "stats": {
          "histogram": [
           {
            "bin_end": 0.3,
            "bin_start": 0,
            "count": 654
           },
           {
            "bin_end": 0.6,
            "bin_start": 0.3,
            "count": 0
           },
           {
            "bin_end": 0.8999999999999999,
            "bin_start": 0.6,
            "count": 0
           },
           {
            "bin_end": 1.2,
            "bin_start": 0.8999999999999999,
            "count": 642
           },
           {
            "bin_end": 1.5,
            "bin_start": 1.2,
            "count": 0
           },
           {
            "bin_end": 1.7999999999999998,
            "bin_start": 1.5,
            "count": 0
           },
           {
            "bin_end": 2.1,
            "bin_start": 1.7999999999999998,
            "count": 650
           },
           {
            "bin_end": 2.4,
            "bin_start": 2.1,
            "count": 0
           },
           {
            "bin_end": 2.6999999999999997,
            "bin_start": 2.4,
            "count": 0
           },
           {
            "bin_end": 3,
            "bin_start": 2.6999999999999997,
            "count": 646
           }
          ],
          "max": "3",
          "min": "0",
          "nan_count": 0,
          "unique_count": 4
         }
        },
        {
         "dtype": "int64",
         "name": "Housing",
         "stats": {
          "histogram": [
           {
            "bin_end": 0.2,
            "bin_start": 0,
            "count": 877
           },
           {
            "bin_end": 0.4,
            "bin_start": 0.2,
            "count": 0
           },
           {
            "bin_end": 0.6000000000000001,
            "bin_start": 0.4,
            "count": 0
           },
           {
            "bin_end": 0.8,
            "bin_start": 0.6000000000000001,
            "count": 0
           },
           {
            "bin_end": 1,
            "bin_start": 0.8,
            "count": 0
           },
           {
            "bin_end": 1.2000000000000002,
            "bin_start": 1,
            "count": 869
           },
           {
            "bin_end": 1.4000000000000001,
            "bin_start": 1.2000000000000002,
            "count": 0
           },
           {
            "bin_end": 1.6,
            "bin_start": 1.4000000000000001,
            "count": 0
           },
           {
            "bin_end": 1.8,
            "bin_start": 1.6,
            "count": 0
           },
           {
            "bin_end": 2,
            "bin_start": 1.8,
            "count": 846
           }
          ],
          "max": "2",
          "min": "0",
          "nan_count": 0,
          "unique_count": 3
         }
        },
        {
         "dtype": "int64",
         "name": "Finance",
         "stats": {
          "histogram": [
           {
            "bin_end": 0.1,
            "bin_start": 0,
            "count": 1288
           },
           {
            "bin_end": 0.2,
            "bin_start": 0.1,
            "count": 0
           },
           {
            "bin_end": 0.30000000000000004,
            "bin_start": 0.2,
            "count": 0
           },
           {
            "bin_end": 0.4,
            "bin_start": 0.30000000000000004,
            "count": 0
           },
           {
            "bin_end": 0.5,
            "bin_start": 0.4,
            "count": 0
           },
           {
            "bin_end": 0.6000000000000001,
            "bin_start": 0.5,
            "count": 0
           },
           {
            "bin_end": 0.7000000000000001,
            "bin_start": 0.6000000000000001,
            "count": 0
           },
           {
            "bin_end": 0.8,
            "bin_start": 0.7000000000000001,
            "count": 0
           },
           {
            "bin_end": 0.9,
            "bin_start": 0.8,
            "count": 0
           },
           {
            "bin_end": 1,
            "bin_start": 0.9,
            "count": 1304
           }
          ],
          "max": "1",
          "min": "0",
          "nan_count": 0,
          "unique_count": 2
         }
        },
        {
         "dtype": "int64",
         "name": "Social",
         "stats": {
          "histogram": [
           {
            "bin_end": 0.2,
            "bin_start": 0,
            "count": 859
           },
           {
            "bin_end": 0.4,
            "bin_start": 0.2,
            "count": 0
           },
           {
            "bin_end": 0.6000000000000001,
            "bin_start": 0.4,
            "count": 0
           },
           {
            "bin_end": 0.8,
            "bin_start": 0.6000000000000001,
            "count": 0
           },
           {
            "bin_end": 1,
            "bin_start": 0.8,
            "count": 0
           },
           {
            "bin_end": 1.2000000000000002,
            "bin_start": 1,
            "count": 858
           },
           {
            "bin_end": 1.4000000000000001,
            "bin_start": 1.2000000000000002,
            "count": 0
           },
           {
            "bin_end": 1.6,
            "bin_start": 1.4000000000000001,
            "count": 0
           },
           {
            "bin_end": 1.8,
            "bin_start": 1.6,
            "count": 0
           },
           {
            "bin_end": 2,
            "bin_start": 1.8,
            "count": 875
           }
          ],
          "max": "2",
          "min": "0",
          "nan_count": 0,
          "unique_count": 3
         }
        },
        {
         "dtype": "int64",
         "name": "Health",
         "stats": {
          "histogram": [
           {
            "bin_end": 0.2,
            "bin_start": 0,
            "count": 870
           },
           {
            "bin_end": 0.4,
            "bin_start": 0.2,
            "count": 0
           },
           {
            "bin_end": 0.6000000000000001,
            "bin_start": 0.4,
            "count": 0
           },
           {
            "bin_end": 0.8,
            "bin_start": 0.6000000000000001,
            "count": 0
           },
           {
            "bin_end": 1,
            "bin_start": 0.8,
            "count": 0
           },
           {
            "bin_end": 1.2000000000000002,
            "bin_start": 1,
            "count": 873
           },
           {
            "bin_end": 1.4000000000000001,
            "bin_start": 1.2000000000000002,
            "count": 0
           },
           {
            "bin_end": 1.6,
            "bin_start": 1.4000000000000001,
            "count": 0
           },
           {
            "bin_end": 1.8,
            "bin_start": 1.6,
            "count": 0
           },
           {
            "bin_end": 2,
            "bin_start": 1.8,
            "count": 849
           }
          ],
          "max": "2",
          "min": "0",
          "nan_count": 0,
          "unique_count": 3
         }
        },
        {
         "dtype": "int64",
         "name": "_deepnote_index_column"
        }
       ],
       "row_count": 2592,
       "rows": [
        {
         "Children": 2,
         "Finance": 1,
         "Form": 1,
         "Has_nurs": 1,
         "Health": 0,
         "Housing": 2,
         "Parents": 1,
         "Social": 1,
         "_deepnote_index_column": 6407
        },
        {
         "Children": 0,
         "Finance": 0,
         "Form": 1,
         "Has_nurs": 1,
         "Health": 1,
         "Housing": 1,
         "Parents": 1,
         "Social": 0,
         "_deepnote_index_column": 6301
        },
        {
         "Children": 1,
         "Finance": 1,
         "Form": 1,
         "Has_nurs": 3,
         "Health": 1,
         "Housing": 2,
         "Parents": 2,
         "Social": 1,
         "_deepnote_index_column": 304
        },
        {
         "Children": 3,
         "Finance": 1,
         "Form": 1,
         "Has_nurs": 4,
         "Health": 1,
         "Housing": 1,
         "Parents": 0,
         "Social": 0,
         "_deepnote_index_column": 12520
        },
        {
         "Children": 0,
         "Finance": 0,
         "Form": 2,
         "Has_nurs": 1,
         "Health": 0,
         "Housing": 1,
         "Parents": 2,
         "Social": 2,
         "_deepnote_index_column": 2417
        },
        {
         "Children": 0,
         "Finance": 1,
         "Form": 1,
         "Has_nurs": 1,
         "Health": 2,
         "Housing": 1,
         "Parents": 1,
         "Social": 2,
         "_deepnote_index_column": 6312
        },
        {
         "Children": 0,
         "Finance": 0,
         "Form": 3,
         "Has_nurs": 4,
         "Health": 0,
         "Housing": 1,
         "Parents": 1,
         "Social": 0,
         "_deepnote_index_column": 8246
        },
        {
         "Children": 1,
         "Finance": 1,
         "Form": 0,
         "Has_nurs": 0,
         "Health": 2,
         "Housing": 0,
         "Parents": 2,
         "Social": 0,
         "_deepnote_index_column": 2655
        },
        {
         "Children": 3,
         "Finance": 0,
         "Form": 0,
         "Has_nurs": 1,
         "Health": 2,
         "Housing": 1,
         "Parents": 1,
         "Social": 2,
         "_deepnote_index_column": 6249
        },
        {
         "Children": 0,
         "Finance": 0,
         "Form": 0,
         "Has_nurs": 2,
         "Health": 1,
         "Housing": 2,
         "Parents": 1,
         "Social": 2,
         "_deepnote_index_column": 5206
        }
       ]
      },
      "text/html": [
       "<div>\n",
       "<style scoped>\n",
       "    .dataframe tbody tr th:only-of-type {\n",
       "        vertical-align: middle;\n",
       "    }\n",
       "\n",
       "    .dataframe tbody tr th {\n",
       "        vertical-align: top;\n",
       "    }\n",
       "\n",
       "    .dataframe thead th {\n",
       "        text-align: right;\n",
       "    }\n",
       "</style>\n",
       "<table border=\"1\" class=\"dataframe\">\n",
       "  <thead>\n",
       "    <tr style=\"text-align: right;\">\n",
       "      <th></th>\n",
       "      <th>Parents</th>\n",
       "      <th>Has_nurs</th>\n",
       "      <th>Form</th>\n",
       "      <th>Children</th>\n",
       "      <th>Housing</th>\n",
       "      <th>Finance</th>\n",
       "      <th>Social</th>\n",
       "      <th>Health</th>\n",
       "    </tr>\n",
       "  </thead>\n",
       "  <tbody>\n",
       "    <tr>\n",
       "      <th>6407</th>\n",
       "      <td>1</td>\n",
       "      <td>1</td>\n",
       "      <td>1</td>\n",
       "      <td>2</td>\n",
       "      <td>2</td>\n",
       "      <td>1</td>\n",
       "      <td>1</td>\n",
       "      <td>0</td>\n",
       "    </tr>\n",
       "    <tr>\n",
       "      <th>6301</th>\n",
       "      <td>1</td>\n",
       "      <td>1</td>\n",
       "      <td>1</td>\n",
       "      <td>0</td>\n",
       "      <td>1</td>\n",
       "      <td>0</td>\n",
       "      <td>0</td>\n",
       "      <td>1</td>\n",
       "    </tr>\n",
       "    <tr>\n",
       "      <th>304</th>\n",
       "      <td>2</td>\n",
       "      <td>3</td>\n",
       "      <td>1</td>\n",
       "      <td>1</td>\n",
       "      <td>2</td>\n",
       "      <td>1</td>\n",
       "      <td>1</td>\n",
       "      <td>1</td>\n",
       "    </tr>\n",
       "    <tr>\n",
       "      <th>12520</th>\n",
       "      <td>0</td>\n",
       "      <td>4</td>\n",
       "      <td>1</td>\n",
       "      <td>3</td>\n",
       "      <td>1</td>\n",
       "      <td>1</td>\n",
       "      <td>0</td>\n",
       "      <td>1</td>\n",
       "    </tr>\n",
       "    <tr>\n",
       "      <th>2417</th>\n",
       "      <td>2</td>\n",
       "      <td>1</td>\n",
       "      <td>2</td>\n",
       "      <td>0</td>\n",
       "      <td>1</td>\n",
       "      <td>0</td>\n",
       "      <td>2</td>\n",
       "      <td>0</td>\n",
       "    </tr>\n",
       "    <tr>\n",
       "      <th>...</th>\n",
       "      <td>...</td>\n",
       "      <td>...</td>\n",
       "      <td>...</td>\n",
       "      <td>...</td>\n",
       "      <td>...</td>\n",
       "      <td>...</td>\n",
       "      <td>...</td>\n",
       "      <td>...</td>\n",
       "    </tr>\n",
       "    <tr>\n",
       "      <th>7514</th>\n",
       "      <td>1</td>\n",
       "      <td>0</td>\n",
       "      <td>3</td>\n",
       "      <td>3</td>\n",
       "      <td>0</td>\n",
       "      <td>0</td>\n",
       "      <td>1</td>\n",
       "      <td>0</td>\n",
       "    </tr>\n",
       "    <tr>\n",
       "      <th>4874</th>\n",
       "      <td>1</td>\n",
       "      <td>3</td>\n",
       "      <td>3</td>\n",
       "      <td>2</td>\n",
       "      <td>0</td>\n",
       "      <td>1</td>\n",
       "      <td>2</td>\n",
       "      <td>0</td>\n",
       "    </tr>\n",
       "    <tr>\n",
       "      <th>2372</th>\n",
       "      <td>2</td>\n",
       "      <td>1</td>\n",
       "      <td>3</td>\n",
       "      <td>3</td>\n",
       "      <td>1</td>\n",
       "      <td>1</td>\n",
       "      <td>2</td>\n",
       "      <td>0</td>\n",
       "    </tr>\n",
       "    <tr>\n",
       "      <th>8106</th>\n",
       "      <td>1</td>\n",
       "      <td>4</td>\n",
       "      <td>1</td>\n",
       "      <td>2</td>\n",
       "      <td>0</td>\n",
       "      <td>0</td>\n",
       "      <td>1</td>\n",
       "      <td>2</td>\n",
       "    </tr>\n",
       "    <tr>\n",
       "      <th>4115</th>\n",
       "      <td>2</td>\n",
       "      <td>4</td>\n",
       "      <td>2</td>\n",
       "      <td>0</td>\n",
       "      <td>0</td>\n",
       "      <td>1</td>\n",
       "      <td>0</td>\n",
       "      <td>0</td>\n",
       "    </tr>\n",
       "  </tbody>\n",
       "</table>\n",
       "<p>2592 rows × 8 columns</p>\n",
       "</div>"
      ],
      "text/plain": [
       "       Parents  Has_nurs  Form  Children  Housing  Finance  Social  Health\n",
       "6407         1         1     1         2        2        1       1       0\n",
       "6301         1         1     1         0        1        0       0       1\n",
       "304          2         3     1         1        2        1       1       1\n",
       "12520        0         4     1         3        1        1       0       1\n",
       "2417         2         1     2         0        1        0       2       0\n",
       "...        ...       ...   ...       ...      ...      ...     ...     ...\n",
       "7514         1         0     3         3        0        0       1       0\n",
       "4874         1         3     3         2        0        1       2       0\n",
       "2372         2         1     3         3        1        1       2       0\n",
       "8106         1         4     1         2        0        0       1       2\n",
       "4115         2         4     2         0        0        1       0       0\n",
       "\n",
       "[2592 rows x 8 columns]"
      ]
     },
     "execution_count": 20,
     "metadata": {},
     "output_type": "execute_result"
    }
   ],
   "outputs_reference": "s3:deepnote-cell-outputs-production/01f6856a-8955-443d-86e0-dfb3a8fbaeaa",
   "source": [
    "x_test"
   ]
  },
  {
   "block_group": "acd3c93d13214607b82a49626f5dbbc5",
   "cell_type": "markdown",
   "metadata": {
    "cell_id": "88a1f9fe2674479b92498a80d849f12b",
    "deepnote_cell_type": "text-cell-p",
    "formattedRanges": [
     {
      "fromCodePoint": 0,
      "marks": {
       "bold": true
      },
      "toCodePoint": 24,
      "type": "marks"
     }
    ]
   },
   "source": [
    "Menampilkan y_train data"
   ]
  },
  {
   "block_group": "7e234773e16e4fd39f02b55dbfa7f35b",
   "cell_type": "code",
   "content_dependencies": null,
   "execution_count": 21,
   "metadata": {
    "cell_id": "2422d844c98043f3a31e258494d13f13",
    "deepnote_cell_type": "code",
    "deepnote_to_be_reexecuted": false,
    "execution_millis": 483,
    "execution_start": 1719408990440,
    "source_hash": "ed857f47"
   },
   "outputs": [
    {
     "data": {
      "text/plain": [
       "3334     spec_prior\n",
       "12692     not_recom\n",
       "7488     spec_prior\n",
       "2901       priority\n",
       "3616     spec_prior\n",
       "            ...    \n",
       "11964    spec_prior\n",
       "5191       priority\n",
       "5390      not_recom\n",
       "860       not_recom\n",
       "7270     spec_prior\n",
       "Name: Class, Length: 10368, dtype: object"
      ]
     },
     "execution_count": 21,
     "metadata": {},
     "output_type": "execute_result"
    }
   ],
   "outputs_reference": "dbtable:cell_outputs/1a85f0b3-d795-44fc-bfde-d2dfc51e05cf",
   "source": [
    "y_train"
   ]
  },
  {
   "block_group": "5730af0ed6c4494da7747513a09789ed",
   "cell_type": "markdown",
   "metadata": {
    "cell_id": "6563c52ef8d24986a923a832da9d0ce8",
    "deepnote_cell_type": "text-cell-p",
    "formattedRanges": [
     {
      "fromCodePoint": 0,
      "marks": {
       "bold": true
      },
      "toCodePoint": 23,
      "type": "marks"
     }
    ]
   },
   "source": [
    "Menampilkan y_test data"
   ]
  },
  {
   "block_group": "f091c63e0776478f84b38c356a3964df",
   "cell_type": "code",
   "content_dependencies": null,
   "execution_count": 22,
   "metadata": {
    "cell_id": "a33bdd8ae38048bbab6bb87693d148a5",
    "deepnote_cell_type": "code",
    "deepnote_to_be_reexecuted": false,
    "execution_millis": 483,
    "execution_start": 1719408990440,
    "source_hash": "d696aa0b"
   },
   "outputs": [
    {
     "data": {
      "text/plain": [
       "6407      not_recom\n",
       "6301     spec_prior\n",
       "304        priority\n",
       "12520    spec_prior\n",
       "2417      not_recom\n",
       "            ...    \n",
       "7514      not_recom\n",
       "4874      not_recom\n",
       "2372      not_recom\n",
       "8106     spec_prior\n",
       "4115      not_recom\n",
       "Name: Class, Length: 2592, dtype: object"
      ]
     },
     "execution_count": 22,
     "metadata": {},
     "output_type": "execute_result"
    }
   ],
   "outputs_reference": "dbtable:cell_outputs/c3155208-17f2-46a1-88fc-337b2c1db5bc",
   "source": [
    "y_test"
   ]
  },
  {
   "block_group": "74487d1953e84aac9783f6569e009772",
   "cell_type": "markdown",
   "metadata": {
    "cell_id": "fbd94b7681f444d4ba388014e972d770",
    "deepnote_cell_type": "text-cell-p",
    "formattedRanges": [
     {
      "fromCodePoint": 0,
      "marks": {
       "bold": true
      },
      "toCodePoint": 26,
      "type": "marks"
     }
    ]
   },
   "source": [
    "Menggabungkan data x dan y"
   ]
  },
  {
   "block_group": "91f572315f2b4fba9556d2a5e934c230",
   "cell_type": "code",
   "content_dependencies": null,
   "execution_count": 23,
   "metadata": {
    "cell_id": "48048b8eee6b49f285ca3c704d9ae99f",
    "deepnote_cell_type": "code",
    "deepnote_to_be_reexecuted": false,
    "execution_millis": 473,
    "execution_start": 1719408990450,
    "source_hash": "fa877e82"
   },
   "outputs": [
    {
     "data": {
      "application/vnd.deepnote.dataframe.v3+json": {
       "column_count": 9,
       "columns": [
        {
         "dtype": "int64",
         "name": "Parents",
         "stats": {
          "histogram": [
           {
            "bin_end": 0.2,
            "bin_start": 0,
            "count": 841
           },
           {
            "bin_end": 0.4,
            "bin_start": 0.2,
            "count": 0
           },
           {
            "bin_end": 0.6000000000000001,
            "bin_start": 0.4,
            "count": 0
           },
           {
            "bin_end": 0.8,
            "bin_start": 0.6000000000000001,
            "count": 0
           },
           {
            "bin_end": 1,
            "bin_start": 0.8,
            "count": 0
           },
           {
            "bin_end": 1.2000000000000002,
            "bin_start": 1,
            "count": 855
           },
           {
            "bin_end": 1.4000000000000001,
            "bin_start": 1.2000000000000002,
            "count": 0
           },
           {
            "bin_end": 1.6,
            "bin_start": 1.4000000000000001,
            "count": 0
           },
           {
            "bin_end": 1.8,
            "bin_start": 1.6,
            "count": 0
           },
           {
            "bin_end": 2,
            "bin_start": 1.8,
            "count": 896
           }
          ],
          "max": "2",
          "min": "0",
          "nan_count": 0,
          "unique_count": 3
         }
        },
        {
         "dtype": "int64",
         "name": "Has_nurs",
         "stats": {
          "histogram": [
           {
            "bin_end": 0.4,
            "bin_start": 0,
            "count": 514
           },
           {
            "bin_end": 0.8,
            "bin_start": 0.4,
            "count": 0
           },
           {
            "bin_end": 1.2000000000000002,
            "bin_start": 0.8,
            "count": 512
           },
           {
            "bin_end": 1.6,
            "bin_start": 1.2000000000000002,
            "count": 0
           },
           {
            "bin_end": 2,
            "bin_start": 1.6,
            "count": 0
           },
           {
            "bin_end": 2.4000000000000004,
            "bin_start": 2,
            "count": 500
           },
           {
            "bin_end": 2.8000000000000003,
            "bin_start": 2.4000000000000004,
            "count": 0
           },
           {
            "bin_end": 3.2,
            "bin_start": 2.8000000000000003,
            "count": 537
           },
           {
            "bin_end": 3.6,
            "bin_start": 3.2,
            "count": 0
           },
           {
            "bin_end": 4,
            "bin_start": 3.6,
            "count": 529
           }
          ],
          "max": "4",
          "min": "0",
          "nan_count": 0,
          "unique_count": 5
         }
        },
        {
         "dtype": "int64",
         "name": "Form",
         "stats": {
          "histogram": [
           {
            "bin_end": 0.3,
            "bin_start": 0,
            "count": 610
           },
           {
            "bin_end": 0.6,
            "bin_start": 0.3,
            "count": 0
           },
           {
            "bin_end": 0.8999999999999999,
            "bin_start": 0.6,
            "count": 0
           },
           {
            "bin_end": 1.2,
            "bin_start": 0.8999999999999999,
            "count": 654
           },
           {
            "bin_end": 1.5,
            "bin_start": 1.2,
            "count": 0
           },
           {
            "bin_end": 1.7999999999999998,
            "bin_start": 1.5,
            "count": 0
           },
           {
            "bin_end": 2.1,
            "bin_start": 1.7999999999999998,
            "count": 660
           },
           {
            "bin_end": 2.4,
            "bin_start": 2.1,
            "count": 0
           },
           {
            "bin_end": 2.6999999999999997,
            "bin_start": 2.4,
            "count": 0
           },
           {
            "bin_end": 3,
            "bin_start": 2.6999999999999997,
            "count": 668
           }
          ],
          "max": "3",
          "min": "0",
          "nan_count": 0,
          "unique_count": 4
         }
        },
        {
         "dtype": "int64",
         "name": "Children",
         "stats": {
          "histogram": [
           {
            "bin_end": 0.3,
            "bin_start": 0,
            "count": 654
           },
           {
            "bin_end": 0.6,
            "bin_start": 0.3,
            "count": 0
           },
           {
            "bin_end": 0.8999999999999999,
            "bin_start": 0.6,
            "count": 0
           },
           {
            "bin_end": 1.2,
            "bin_start": 0.8999999999999999,
            "count": 642
           },
           {
            "bin_end": 1.5,
            "bin_start": 1.2,
            "count": 0
           },
           {
            "bin_end": 1.7999999999999998,
            "bin_start": 1.5,
            "count": 0
           },
           {
            "bin_end": 2.1,
            "bin_start": 1.7999999999999998,
            "count": 650
           },
           {
            "bin_end": 2.4,
            "bin_start": 2.1,
            "count": 0
           },
           {
            "bin_end": 2.6999999999999997,
            "bin_start": 2.4,
            "count": 0
           },
           {
            "bin_end": 3,
            "bin_start": 2.6999999999999997,
            "count": 646
           }
          ],
          "max": "3",
          "min": "0",
          "nan_count": 0,
          "unique_count": 4
         }
        },
        {
         "dtype": "int64",
         "name": "Housing",
         "stats": {
          "histogram": [
           {
            "bin_end": 0.2,
            "bin_start": 0,
            "count": 877
           },
           {
            "bin_end": 0.4,
            "bin_start": 0.2,
            "count": 0
           },
           {
            "bin_end": 0.6000000000000001,
            "bin_start": 0.4,
            "count": 0
           },
           {
            "bin_end": 0.8,
            "bin_start": 0.6000000000000001,
            "count": 0
           },
           {
            "bin_end": 1,
            "bin_start": 0.8,
            "count": 0
           },
           {
            "bin_end": 1.2000000000000002,
            "bin_start": 1,
            "count": 869
           },
           {
            "bin_end": 1.4000000000000001,
            "bin_start": 1.2000000000000002,
            "count": 0
           },
           {
            "bin_end": 1.6,
            "bin_start": 1.4000000000000001,
            "count": 0
           },
           {
            "bin_end": 1.8,
            "bin_start": 1.6,
            "count": 0
           },
           {
            "bin_end": 2,
            "bin_start": 1.8,
            "count": 846
           }
          ],
          "max": "2",
          "min": "0",
          "nan_count": 0,
          "unique_count": 3
         }
        },
        {
         "dtype": "int64",
         "name": "Finance",
         "stats": {
          "histogram": [
           {
            "bin_end": 0.1,
            "bin_start": 0,
            "count": 1288
           },
           {
            "bin_end": 0.2,
            "bin_start": 0.1,
            "count": 0
           },
           {
            "bin_end": 0.30000000000000004,
            "bin_start": 0.2,
            "count": 0
           },
           {
            "bin_end": 0.4,
            "bin_start": 0.30000000000000004,
            "count": 0
           },
           {
            "bin_end": 0.5,
            "bin_start": 0.4,
            "count": 0
           },
           {
            "bin_end": 0.6000000000000001,
            "bin_start": 0.5,
            "count": 0
           },
           {
            "bin_end": 0.7000000000000001,
            "bin_start": 0.6000000000000001,
            "count": 0
           },
           {
            "bin_end": 0.8,
            "bin_start": 0.7000000000000001,
            "count": 0
           },
           {
            "bin_end": 0.9,
            "bin_start": 0.8,
            "count": 0
           },
           {
            "bin_end": 1,
            "bin_start": 0.9,
            "count": 1304
           }
          ],
          "max": "1",
          "min": "0",
          "nan_count": 0,
          "unique_count": 2
         }
        },
        {
         "dtype": "int64",
         "name": "Social",
         "stats": {
          "histogram": [
           {
            "bin_end": 0.2,
            "bin_start": 0,
            "count": 859
           },
           {
            "bin_end": 0.4,
            "bin_start": 0.2,
            "count": 0
           },
           {
            "bin_end": 0.6000000000000001,
            "bin_start": 0.4,
            "count": 0
           },
           {
            "bin_end": 0.8,
            "bin_start": 0.6000000000000001,
            "count": 0
           },
           {
            "bin_end": 1,
            "bin_start": 0.8,
            "count": 0
           },
           {
            "bin_end": 1.2000000000000002,
            "bin_start": 1,
            "count": 858
           },
           {
            "bin_end": 1.4000000000000001,
            "bin_start": 1.2000000000000002,
            "count": 0
           },
           {
            "bin_end": 1.6,
            "bin_start": 1.4000000000000001,
            "count": 0
           },
           {
            "bin_end": 1.8,
            "bin_start": 1.6,
            "count": 0
           },
           {
            "bin_end": 2,
            "bin_start": 1.8,
            "count": 875
           }
          ],
          "max": "2",
          "min": "0",
          "nan_count": 0,
          "unique_count": 3
         }
        },
        {
         "dtype": "int64",
         "name": "Health",
         "stats": {
          "histogram": [
           {
            "bin_end": 0.2,
            "bin_start": 0,
            "count": 870
           },
           {
            "bin_end": 0.4,
            "bin_start": 0.2,
            "count": 0
           },
           {
            "bin_end": 0.6000000000000001,
            "bin_start": 0.4,
            "count": 0
           },
           {
            "bin_end": 0.8,
            "bin_start": 0.6000000000000001,
            "count": 0
           },
           {
            "bin_end": 1,
            "bin_start": 0.8,
            "count": 0
           },
           {
            "bin_end": 1.2000000000000002,
            "bin_start": 1,
            "count": 873
           },
           {
            "bin_end": 1.4000000000000001,
            "bin_start": 1.2000000000000002,
            "count": 0
           },
           {
            "bin_end": 1.6,
            "bin_start": 1.4000000000000001,
            "count": 0
           },
           {
            "bin_end": 1.8,
            "bin_start": 1.6,
            "count": 0
           },
           {
            "bin_end": 2,
            "bin_start": 1.8,
            "count": 849
           }
          ],
          "max": "2",
          "min": "0",
          "nan_count": 0,
          "unique_count": 3
         }
        },
        {
         "dtype": "object",
         "name": "Class",
         "stats": {
          "categories": [
           {
            "count": 873,
            "name": "priority"
           },
           {
            "count": 870,
            "name": "not_recom"
           },
           {
            "count": 849,
            "name": "3 others"
           }
          ],
          "nan_count": 0,
          "unique_count": 5
         }
        },
        {
         "dtype": "int64",
         "name": "_deepnote_index_column"
        }
       ],
       "row_count": 2592,
       "rows": [
        {
         "Children": 2,
         "Class": "not_recom",
         "Finance": 1,
         "Form": 1,
         "Has_nurs": 1,
         "Health": 0,
         "Housing": 2,
         "Parents": 1,
         "Social": 1,
         "_deepnote_index_column": 6407
        },
        {
         "Children": 0,
         "Class": "spec_prior",
         "Finance": 0,
         "Form": 1,
         "Has_nurs": 1,
         "Health": 1,
         "Housing": 1,
         "Parents": 1,
         "Social": 0,
         "_deepnote_index_column": 6301
        },
        {
         "Children": 1,
         "Class": "priority",
         "Finance": 1,
         "Form": 1,
         "Has_nurs": 3,
         "Health": 1,
         "Housing": 2,
         "Parents": 2,
         "Social": 1,
         "_deepnote_index_column": 304
        },
        {
         "Children": 3,
         "Class": "spec_prior",
         "Finance": 1,
         "Form": 1,
         "Has_nurs": 4,
         "Health": 1,
         "Housing": 1,
         "Parents": 0,
         "Social": 0,
         "_deepnote_index_column": 12520
        },
        {
         "Children": 0,
         "Class": "not_recom",
         "Finance": 0,
         "Form": 2,
         "Has_nurs": 1,
         "Health": 0,
         "Housing": 1,
         "Parents": 2,
         "Social": 2,
         "_deepnote_index_column": 2417
        },
        {
         "Children": 0,
         "Class": "priority",
         "Finance": 1,
         "Form": 1,
         "Has_nurs": 1,
         "Health": 2,
         "Housing": 1,
         "Parents": 1,
         "Social": 2,
         "_deepnote_index_column": 6312
        },
        {
         "Children": 0,
         "Class": "not_recom",
         "Finance": 0,
         "Form": 3,
         "Has_nurs": 4,
         "Health": 0,
         "Housing": 1,
         "Parents": 1,
         "Social": 0,
         "_deepnote_index_column": 8246
        },
        {
         "Children": 1,
         "Class": "priority",
         "Finance": 1,
         "Form": 0,
         "Has_nurs": 0,
         "Health": 2,
         "Housing": 0,
         "Parents": 2,
         "Social": 0,
         "_deepnote_index_column": 2655
        },
        {
         "Children": 3,
         "Class": "priority",
         "Finance": 0,
         "Form": 0,
         "Has_nurs": 1,
         "Health": 2,
         "Housing": 1,
         "Parents": 1,
         "Social": 2,
         "_deepnote_index_column": 6249
        },
        {
         "Children": 0,
         "Class": "priority",
         "Finance": 0,
         "Form": 0,
         "Has_nurs": 2,
         "Health": 1,
         "Housing": 2,
         "Parents": 1,
         "Social": 2,
         "_deepnote_index_column": 5206
        }
       ]
      },
      "text/html": [
       "<div>\n",
       "<style scoped>\n",
       "    .dataframe tbody tr th:only-of-type {\n",
       "        vertical-align: middle;\n",
       "    }\n",
       "\n",
       "    .dataframe tbody tr th {\n",
       "        vertical-align: top;\n",
       "    }\n",
       "\n",
       "    .dataframe thead th {\n",
       "        text-align: right;\n",
       "    }\n",
       "</style>\n",
       "<table border=\"1\" class=\"dataframe\">\n",
       "  <thead>\n",
       "    <tr style=\"text-align: right;\">\n",
       "      <th></th>\n",
       "      <th>Parents</th>\n",
       "      <th>Has_nurs</th>\n",
       "      <th>Form</th>\n",
       "      <th>Children</th>\n",
       "      <th>Housing</th>\n",
       "      <th>Finance</th>\n",
       "      <th>Social</th>\n",
       "      <th>Health</th>\n",
       "      <th>Class</th>\n",
       "    </tr>\n",
       "  </thead>\n",
       "  <tbody>\n",
       "    <tr>\n",
       "      <th>6407</th>\n",
       "      <td>1</td>\n",
       "      <td>1</td>\n",
       "      <td>1</td>\n",
       "      <td>2</td>\n",
       "      <td>2</td>\n",
       "      <td>1</td>\n",
       "      <td>1</td>\n",
       "      <td>0</td>\n",
       "      <td>not_recom</td>\n",
       "    </tr>\n",
       "    <tr>\n",
       "      <th>6301</th>\n",
       "      <td>1</td>\n",
       "      <td>1</td>\n",
       "      <td>1</td>\n",
       "      <td>0</td>\n",
       "      <td>1</td>\n",
       "      <td>0</td>\n",
       "      <td>0</td>\n",
       "      <td>1</td>\n",
       "      <td>spec_prior</td>\n",
       "    </tr>\n",
       "    <tr>\n",
       "      <th>304</th>\n",
       "      <td>2</td>\n",
       "      <td>3</td>\n",
       "      <td>1</td>\n",
       "      <td>1</td>\n",
       "      <td>2</td>\n",
       "      <td>1</td>\n",
       "      <td>1</td>\n",
       "      <td>1</td>\n",
       "      <td>priority</td>\n",
       "    </tr>\n",
       "    <tr>\n",
       "      <th>12520</th>\n",
       "      <td>0</td>\n",
       "      <td>4</td>\n",
       "      <td>1</td>\n",
       "      <td>3</td>\n",
       "      <td>1</td>\n",
       "      <td>1</td>\n",
       "      <td>0</td>\n",
       "      <td>1</td>\n",
       "      <td>spec_prior</td>\n",
       "    </tr>\n",
       "    <tr>\n",
       "      <th>2417</th>\n",
       "      <td>2</td>\n",
       "      <td>1</td>\n",
       "      <td>2</td>\n",
       "      <td>0</td>\n",
       "      <td>1</td>\n",
       "      <td>0</td>\n",
       "      <td>2</td>\n",
       "      <td>0</td>\n",
       "      <td>not_recom</td>\n",
       "    </tr>\n",
       "    <tr>\n",
       "      <th>...</th>\n",
       "      <td>...</td>\n",
       "      <td>...</td>\n",
       "      <td>...</td>\n",
       "      <td>...</td>\n",
       "      <td>...</td>\n",
       "      <td>...</td>\n",
       "      <td>...</td>\n",
       "      <td>...</td>\n",
       "      <td>...</td>\n",
       "    </tr>\n",
       "    <tr>\n",
       "      <th>7514</th>\n",
       "      <td>1</td>\n",
       "      <td>0</td>\n",
       "      <td>3</td>\n",
       "      <td>3</td>\n",
       "      <td>0</td>\n",
       "      <td>0</td>\n",
       "      <td>1</td>\n",
       "      <td>0</td>\n",
       "      <td>not_recom</td>\n",
       "    </tr>\n",
       "    <tr>\n",
       "      <th>4874</th>\n",
       "      <td>1</td>\n",
       "      <td>3</td>\n",
       "      <td>3</td>\n",
       "      <td>2</td>\n",
       "      <td>0</td>\n",
       "      <td>1</td>\n",
       "      <td>2</td>\n",
       "      <td>0</td>\n",
       "      <td>not_recom</td>\n",
       "    </tr>\n",
       "    <tr>\n",
       "      <th>2372</th>\n",
       "      <td>2</td>\n",
       "      <td>1</td>\n",
       "      <td>3</td>\n",
       "      <td>3</td>\n",
       "      <td>1</td>\n",
       "      <td>1</td>\n",
       "      <td>2</td>\n",
       "      <td>0</td>\n",
       "      <td>not_recom</td>\n",
       "    </tr>\n",
       "    <tr>\n",
       "      <th>8106</th>\n",
       "      <td>1</td>\n",
       "      <td>4</td>\n",
       "      <td>1</td>\n",
       "      <td>2</td>\n",
       "      <td>0</td>\n",
       "      <td>0</td>\n",
       "      <td>1</td>\n",
       "      <td>2</td>\n",
       "      <td>spec_prior</td>\n",
       "    </tr>\n",
       "    <tr>\n",
       "      <th>4115</th>\n",
       "      <td>2</td>\n",
       "      <td>4</td>\n",
       "      <td>2</td>\n",
       "      <td>0</td>\n",
       "      <td>0</td>\n",
       "      <td>1</td>\n",
       "      <td>0</td>\n",
       "      <td>0</td>\n",
       "      <td>not_recom</td>\n",
       "    </tr>\n",
       "  </tbody>\n",
       "</table>\n",
       "<p>2592 rows × 9 columns</p>\n",
       "</div>"
      ],
      "text/plain": [
       "       Parents  Has_nurs  Form  Children  Housing  Finance  Social  Health  \\\n",
       "6407         1         1     1         2        2        1       1       0   \n",
       "6301         1         1     1         0        1        0       0       1   \n",
       "304          2         3     1         1        2        1       1       1   \n",
       "12520        0         4     1         3        1        1       0       1   \n",
       "2417         2         1     2         0        1        0       2       0   \n",
       "...        ...       ...   ...       ...      ...      ...     ...     ...   \n",
       "7514         1         0     3         3        0        0       1       0   \n",
       "4874         1         3     3         2        0        1       2       0   \n",
       "2372         2         1     3         3        1        1       2       0   \n",
       "8106         1         4     1         2        0        0       1       2   \n",
       "4115         2         4     2         0        0        1       0       0   \n",
       "\n",
       "            Class  \n",
       "6407    not_recom  \n",
       "6301   spec_prior  \n",
       "304      priority  \n",
       "12520  spec_prior  \n",
       "2417    not_recom  \n",
       "...           ...  \n",
       "7514    not_recom  \n",
       "4874    not_recom  \n",
       "2372    not_recom  \n",
       "8106   spec_prior  \n",
       "4115    not_recom  \n",
       "\n",
       "[2592 rows x 9 columns]"
      ]
     },
     "execution_count": 23,
     "metadata": {},
     "output_type": "execute_result"
    }
   ],
   "outputs_reference": "s3:deepnote-cell-outputs-production/d323c1ed-0428-41a0-a4d0-4d319bbb75da",
   "source": [
    "df_train = pd.concat([x_train, y_train], axis=1, join='inner')\n",
    "df_test = pd.concat([x_test, y_test], axis=1, join='inner')\n",
    "\n",
    "df_test"
   ]
  },
  {
   "block_group": "b54d1c5c7bc14511bd6f3905114c5423",
   "cell_type": "markdown",
   "metadata": {
    "cell_id": "2dd5f241e10843b5bb2358a84f36b831",
    "deepnote_cell_type": "text-cell-h2",
    "formattedRanges": []
   },
   "source": [
    "## Gaussian Naive Bayes"
   ]
  },
  {
   "block_group": "ee3026c4b93640e79f99c4cf7d5dddd3",
   "cell_type": "markdown",
   "metadata": {
    "cell_id": "6da72546c9f84688a477781d3cb7b656",
    "deepnote_cell_type": "text-cell-p",
    "formattedRanges": []
   },
   "source": [
    "Gaussian Naive Bayes merupakan teknik klasisifkasi yang digunakan dalam machine learning dengan menggunakan metode probability dan distribusi gaussian atau distribusi normal. Pada distribusi gaussian tiap fitur data memiliki pengaruh yang independent dalam meprediksi target. Prediksi akhir didapat dari kombinasi predikasi seluruh parameter dengan probability dari target yang diklasifikasikan kedalam dua kelas. Klasifikasi akhirnya adalah hasil probability yang lebih tinggi dari group target."
   ]
  },
  {
   "block_group": "7e9dda5550d64710b8875d1586ce4e09",
   "cell_type": "markdown",
   "metadata": {
    "cell_id": "e8cc3940d49043cc8308175496d40788",
    "deepnote_cell_type": "text-cell-p",
    "formattedRanges": []
   },
   "source": [
    "Tujuan metode ini adalah mengklasifikasikan probabilitas berdasarkan pembelajaran mesin atas probabilitas lain. "
   ]
  },
  {
   "block_group": "c0a2b88e8915435c8af17eae312787a3",
   "cell_type": "markdown",
   "metadata": {
    "cell_id": "3e4cad9fa0ff4495ad31ca9f32d29c6a",
    "deepnote_cell_type": "image",
    "deepnote_img_src": "asset/image/rumus gaussian naive bayes.png"
   },
   "source": [
    "<img src=\"asset/image/rumus gaussian naive bayes.png\" width=\"\" align=\"\" />"
   ]
  },
  {
   "block_group": "bf5bee4b07c94a178ab9c1920aa90cec",
   "cell_type": "markdown",
   "metadata": {
    "cell_id": "463403db984f408ebba15b0456365dba",
    "deepnote_cell_type": "text-cell-p",
    "formattedRanges": []
   },
   "source": [
    "Di mana, \r\n",
    "P(A|B) = peluang terjadinya kejadian A jika kejadian B telah terjadi. Perhatikan bahwa “|” mengacu pada “diberikan.”\r\n",
    "P(A) = peluang terjadinya kejadian A.\r\n",
    "P(B) = peluang terjadinya kejadian B.\r\n",
    "P(B|A) = peluang terjadinya kejadian B, jika diketahui kejadian A telah terjadi."
   ]
  },
  {
   "block_group": "34c58682e33c40b899fba2efc8b113fa",
   "cell_type": "markdown",
   "metadata": {
    "cell_id": "58e847663d2d4b58af060d9a9f913712",
    "deepnote_cell_type": "text-cell-p",
    "formattedRanges": []
   },
   "source": [
    "Untuk menghitung likehoodnya sendiri kita bisa memakai rumus distribusi normal"
   ]
  },
  {
   "block_group": "4e88f8353dcc4a40b19d4828c015a18b",
   "cell_type": "markdown",
   "metadata": {
    "cell_id": "923b109c1def4258a91326c6bbaf42a7",
    "deepnote_cell_type": "image",
    "deepnote_img_src": "asset/image/rumus distribusi normal.png"
   },
   "source": [
    "<img src=\"asset/image/rumus distribusi normal.png\" width=\"\" align=\"\" />"
   ]
  },
  {
   "block_group": "54e951ecbde34021b6a2eea91141f0ed",
   "cell_type": "markdown",
   "metadata": {
    "cell_id": "71b65b29dc214b9c9917b62d02352c5a",
    "deepnote_cell_type": "text-cell-p",
    "formattedRanges": []
   },
   "source": [
    "Dengan:\r\n",
    "f(x) = fungsi kontinu atau fungsi kepadatan peluang;\r\n",
    "σ = simpangan baku (standar deviasi);\r\n",
    "μ = nilai rata-rata;\r\n",
    "π = 3,14; dan\r\n",
    "e = Eksponen"
   ]
  },
  {
   "block_group": "5066636b03de4a7894a20e176c9dc09a",
   "cell_type": "code",
   "content_dependencies": null,
   "execution_count": 24,
   "metadata": {
    "cell_id": "dca3929928f844ea9b51a527769a646c",
    "deepnote_cell_type": "code",
    "deepnote_to_be_reexecuted": false,
    "execution_millis": 437,
    "execution_start": 1719408990487,
    "source_hash": "535a3e2f"
   },
   "outputs": [
    {
     "data": {
      "text/plain": [
       "0.6462191358024691"
      ]
     },
     "execution_count": 24,
     "metadata": {},
     "output_type": "execute_result"
    }
   ],
   "outputs_reference": "dbtable:cell_outputs/31e1600f-ef97-4a00-a859-b71770aa14c3",
   "source": [
    "classifier = GaussianNB()\n",
    "classifier.fit(x_train, y_train)\n",
    "\n",
    "result = classifier.predict(x_test)\n",
    "\n",
    "classifier.score(x_test, y_test)\n"
   ]
  },
  {
   "block_group": "6674a7a13ecf4fee861e6783dde7a135",
   "cell_type": "markdown",
   "metadata": {
    "cell_id": "d0d20f21ea8b4dd7a714e35724e77ae0",
    "deepnote_cell_type": "text-cell-h2",
    "formattedRanges": []
   },
   "source": [
    "## K-Nearest Neighboor"
   ]
  },
  {
   "block_group": "e9d56a07841543b7813193a9d862ddcf",
   "cell_type": "markdown",
   "metadata": {
    "cell_id": "a99d43552c9c440a8ffdbf0023b7c077",
    "deepnote_cell_type": "text-cell-p",
    "formattedRanges": []
   },
   "source": [
    "Pengertian KNN merupakan pendekatan yang digunakan untuk mengidentifikasi objek berdasarkan informasi tertentu yang merupakan jarak terdekat ke objek. Pada klasifikasi, KNN bekerja dengan menghitung  jarak antara data baru (data testing) dengan data yang sudah diketahui kelasnya (data training) menggunakan jarak euclidian. "
   ]
  },
  {
   "block_group": "eb42974bb23848a2bba6ed5d0f832990",
   "cell_type": "markdown",
   "metadata": {
    "cell_id": "1fa0044a42104f1abe7896d209ffcc1d",
    "deepnote_cell_type": "text-cell-p",
    "formattedRanges": []
   },
   "source": [
    "Penanganan missing data dengan KNN diawali dengan menentukan sejumlah tetangga terdekat atau observasi terdekat yang disimbolkan dengan K, kemudian menghitung jarak terkecil dari setiap observasi yang tidak mengandung missing data."
   ]
  },
  {
   "block_group": "2a7cc59db4324d39877c2287e608f37f",
   "cell_type": "markdown",
   "metadata": {
    "cell_id": "b8dfc75c2f5049419ee720f6ea2e7aaa",
    "deepnote_cell_type": "text-cell-p",
    "formattedRanges": []
   },
   "source": [
    "KNN mengklasifikasikan data berdasarkan similarity atau kemiripan atau kedekatannya terhadap data lainnya."
   ]
  },
  {
   "block_group": "c890966122f54a4cb00193c090dde3b6",
   "cell_type": "markdown",
   "metadata": {
    "cell_id": "581dc2914b914349ac6a75eea7125a13",
    "deepnote_cell_type": "image",
    "deepnote_img_src": "asset/image/tahapan knn.png"
   },
   "source": [
    "<img src=\"asset/image/tahapan knn.png\" width=\"\" align=\"\" />"
   ]
  },
  {
   "block_group": "0cd8144de77d484aaad11296a1ff1dcc",
   "cell_type": "markdown",
   "metadata": {
    "cell_id": "7b4d05e417a9440abfc3627b8e9a72fd",
    "deepnote_cell_type": "text-cell-p",
    "formattedRanges": []
   },
   "source": [
    "Penjelasan setiap langkah dan proses dari gambar di atas:"
   ]
  },
  {
   "block_group": "e91aa57ad3064e4b8453b0d9984806e6",
   "cell_type": "markdown",
   "metadata": {
    "cell_id": "b3bfc26f72f8409cb72c2bd9a4f92267",
    "deepnote_cell_type": "text-cell-p",
    "formattedRanges": []
   },
   "source": [
    "1. Initial Data: Algoritma KNN melakukan klasifikasi dengan memproyeksikan data pembelajaran ke dalam ruang berdimensi banyak. Ruang ini dibagi menjadi bagian-bagian yang merepresentasikan kriteria data. Setiap data pembelajaran direpresentasikan sebagai titik-titik dalam ruang berdimensi banyak. Proses klasifikasi dilakukan dengan mencari titik terdekat dari data baru menggunakan formula jarak, seperti jarak Euclidean, jarak Hamming, Manhattan Distance, atau Minkowski Distance. Teknik pencarian tetangga terdekat disesuaikan dengan dimensi data, proyeksi, dan kemudahan implementasi oleh pengguna."
   ]
  },
  {
   "block_group": "d49506e47f664c108b6901a13fb6db36",
   "cell_type": "markdown",
   "metadata": {
    "cell_id": "671db3b35dd440b595f4af7f73fa8d2f",
    "deepnote_cell_type": "text-cell-p",
    "formattedRanges": []
   },
   "source": [
    "2. Calculate Distance: Euclidean distance (jarak Euclidean) adalah metrik yang digunakan untuk mengukur jarak antara dua titik dalam ruang Euclidean. Dalam konteks analisis data dan pembelajaran mesin, jarak Euclidean sering digunakan untuk mengukur kedekatan atau kesamaan antara dua vektor atau titik dalam ruang fitur."
   ]
  },
  {
   "block_group": "248fccd141f34ad49b2f654a3630b539",
   "cell_type": "markdown",
   "metadata": {
    "cell_id": "23960f41ade141c3a206639ea9d76c23",
    "deepnote_cell_type": "text-cell-p",
    "formattedRanges": []
   },
   "source": [
    "a. Euclidean Distance"
   ]
  },
  {
   "block_group": "d6818e00dd544726b415dccc0658adaf",
   "cell_type": "markdown",
   "metadata": {
    "cell_id": "fa919df5d92f49b9ac4bf160274bd986",
    "deepnote_cell_type": "image",
    "deepnote_img_src": "asset/image/Euclidean Distance.png",
    "deepnote_img_width": "50%"
   },
   "source": [
    "<img src=\"asset/image/Euclidean Distance.png\" width=\"50%\" align=\"\" />"
   ]
  },
  {
   "block_group": "6bd5c712814b4c2399b01777ef06ab71",
   "cell_type": "markdown",
   "metadata": {
    "cell_id": "b6d5f137f3274a5792932649fa41d181",
    "deepnote_cell_type": "text-cell-p",
    "formattedRanges": []
   },
   "source": [
    "Rumusnya sebagai berikut:"
   ]
  },
  {
   "block_group": "488eea26d30b4ceeafe0e0afae978c34",
   "cell_type": "markdown",
   "metadata": {
    "cell_id": "4875fcc419b04e56b22a68185bda232e",
    "deepnote_cell_type": "markdown"
   },
   "source": [
    "$$\n",
    "d(P,Q) = \\sqrt{\\sum_{i=1}^{n} (p_i - q_i)^2}\n",
    "$$\n",
    "\n",
    "$$\n",
    "d(P,Q) = \\sqrt{(p_1 - q_1)^2 + (p_2 - q_2)^2 + \\cdots + (p_n - q_n)^2}\n",
    "$$"
   ]
  },
  {
   "block_group": "5ffcf09842b742ca890714edf247725b",
   "cell_type": "markdown",
   "metadata": {
    "cell_id": "472dcce13ffd4c029ad4eeca796cf08b",
    "deepnote_cell_type": "text-cell-p",
    "formattedRanges": []
   },
   "source": [
    "b. Manhattan"
   ]
  },
  {
   "block_group": "57ca0fdde83249d4ac3b05638aa679f4",
   "cell_type": "markdown",
   "metadata": {
    "cell_id": "60dc8d01d00745c3a48af55e3166a453",
    "deepnote_cell_type": "text-cell-p",
    "formattedRanges": []
   },
   "source": [
    "Manhattan distance atau jarak Manhattan sering juga disebut Taxicab distance atau City Block distance. Manhattan distance adalah metrik ukur yang umumnya digunakan untuk menghitung jarak antara dua titik data dalam jalur seperti grid. "
   ]
  },
  {
   "block_group": "d5f2e8a140164e23a4a2b0a4e5df596f",
   "cell_type": "markdown",
   "metadata": {
    "cell_id": "e96d5831ba5549b585a06cc37ad83503",
    "deepnote_cell_type": "text-cell-p",
    "formattedRanges": []
   },
   "source": [
    "Jarak Manhattan dihitung sebagai jumlah dari perbedaan mutlak antara dua vektor. Adapun rumus dari Manhattan distance adalah:"
   ]
  },
  {
   "block_group": "9a75018c5c0c4b5a908646489c9d9df2",
   "cell_type": "markdown",
   "metadata": {
    "cell_id": "f7be24900b374aecaf73127e9586ab00",
    "deepnote_cell_type": "markdown"
   },
   "source": [
    "$$\n",
    "d(P,Q) = \\sum_{i=1}^{n} \\mid (p_i - q_i)^2 \\mid\n",
    "$$"
   ]
  },
  {
   "block_group": "de7e593fe9ff4cd2a0c127982ff40bd2",
   "cell_type": "markdown",
   "metadata": {
    "cell_id": "969a37bf92584f4a81e2e7000f224d2f",
    "deepnote_cell_type": "image",
    "deepnote_img_src": "asset/image/Mahattan Distance.png"
   },
   "source": [
    "<img src=\"asset/image/Mahattan Distance.png\" width=\"\" align=\"\" />"
   ]
  },
  {
   "block_group": "c8913130e14049cca93a0036dc10fb50",
   "cell_type": "markdown",
   "metadata": {
    "cell_id": "68b96b56589441958592a0672419a7df",
    "deepnote_app_block_visible": true,
    "deepnote_cell_type": "text-cell-p",
    "formattedRanges": [
     {
      "fromCodePoint": 0,
      "marks": {
       "bold": true
      },
      "toCodePoint": 38,
      "type": "marks"
     }
    ]
   },
   "source": [
    "3. Find Neightbour dan Voting On Label"
   ]
  },
  {
   "block_group": "4b9533a285e745528a0104df6efef904",
   "cell_type": "markdown",
   "metadata": {
    "cell_id": "ec9892ff3e1c47c4aff558bf246171d2",
    "deepnote_app_block_visible": true,
    "deepnote_cell_type": "text-cell-p",
    "formattedRanges": []
   },
   "source": [
    "Setelah melakukan perhitungan jarak terhadap fitur ataupun node. Kemudian akan dilakukan perankingan jarak. mulai dari yang terdekat hingga yang terjauh."
   ]
  },
  {
   "block_group": "ad474f64a32b407da69cc943b9636dd8",
   "cell_type": "markdown",
   "metadata": {
    "cell_id": "803d856fcb834e0cb48241db6902fed1",
    "deepnote_app_block_visible": true,
    "deepnote_cell_type": "text-cell-p",
    "formattedRanges": []
   },
   "source": [
    "Selanjutnya setelah ditemukan hasil dan perankingan jarak. Akan  dilakukan penentuan fitur terdekat atau nilai K. dalam KNN nilai K boleh ditentukan berapapun atau bebas. semisal K adalah 5, maka kita akan mengambil 5 fitur atau node yang terdekat. Selanjutnya akan dilakukan penentuan class pada node baru. Misal K adalah 5. maka akan diambil 5 fitur, kemudian sebagai penetuan class untuk node baru. bisa ditentukan dengan melihat nilai class yang paling banyak muncul pada kelima data yang diambil. semisal dalam kelima data ini class yang paling banyak muncul adalah class anggrej bulan. maka nilai class dari data baru adalah anggrek bulan."
   ]
  },
  {
   "block_group": "ebf567df1608456393f694eb0a0d965b",
   "cell_type": "code",
   "content_dependencies": null,
   "execution_count": 25,
   "metadata": {
    "cell_id": "6a0ea94b57734820881486dfb87de398",
    "deepnote_cell_type": "code",
    "deepnote_to_be_reexecuted": false,
    "execution_millis": 369,
    "execution_start": 1719408990555,
    "source_hash": "9cabc369"
   },
   "outputs": [
    {
     "data": {
      "text/plain": [
       "0.9494598765432098"
      ]
     },
     "execution_count": 25,
     "metadata": {},
     "output_type": "execute_result"
    }
   ],
   "outputs_reference": "dbtable:cell_outputs/964deb57-cc48-449e-aaf4-24f850673e84",
   "source": [
    "classifier = KNeighborsClassifier(n_neighbors=10)\n",
    "\n",
    "classifier.fit(x_train, y_train)\n",
    "\n",
    "# data = df_test.head(1).drop('Class', axis=1)\n",
    "\n",
    "result = classifier.predict(x_test)\n",
    "\n",
    "score = classifier.score(x_test, y_test)\n",
    "\n",
    "score\n"
   ]
  },
  {
   "block_group": "985bfc7537744a8f80e393df5b7204de",
   "cell_type": "markdown",
   "metadata": {
    "cell_id": "0ebbf26f2c61489a93cc9d055bd9c2a0",
    "deepnote_cell_type": "text-cell-h1",
    "formattedRanges": []
   },
   "source": [
    "# ENSEMBLE LEARNING"
   ]
  },
  {
   "block_group": "3dcb4034122943ccb932380b2a70b172",
   "cell_type": "markdown",
   "metadata": {
    "cell_id": "6e2145bda3af4ed994fbd242b260fdcf",
    "deepnote_cell_type": "text-cell-h2",
    "formattedRanges": []
   },
   "source": [
    "## Stacking Classifier"
   ]
  },
  {
   "block_group": "30499386cfc24126976258fadad8960b",
   "cell_type": "markdown",
   "metadata": {
    "cell_id": "aaf6614c9ec047c39036a8c7aa50af06",
    "deepnote_cell_type": "image",
    "deepnote_img_src": "asset/image/stacking.png"
   },
   "source": [
    "<img src=\"asset/image/stacking.png\" width=\"\" align=\"\" />"
   ]
  },
  {
   "block_group": "b82507a4a4d34d80a8fff20be2f787b3",
   "cell_type": "markdown",
   "metadata": {
    "cell_id": "97873e03301b408aac9a74b45b0d10f3",
    "deepnote_cell_type": "text-cell-h3",
    "formattedRanges": []
   },
   "source": [
    "### Make KNN model with n=3"
   ]
  },
  {
   "block_group": "498771814f3a4f50935a0fad188c9318",
   "cell_type": "code",
   "content_dependencies": null,
   "execution_count": 27,
   "metadata": {
    "cell_id": "345228a0c1024abb87c39152f884768d",
    "deepnote_cell_type": "code",
    "deepnote_to_be_reexecuted": false,
    "execution_millis": 795,
    "execution_start": 1719409251867,
    "source_hash": "d7ed9987"
   },
   "outputs": [
    {
     "data": {
      "application/vnd.deepnote.dataframe.v3+json": {
       "column_count": 1,
       "columns": [
        {
         "dtype": "object",
         "name": "P1",
         "stats": {
          "categories": [
           {
            "count": 3582,
            "name": "not_recom"
           },
           {
            "count": 3365,
            "name": "priority"
           },
           {
            "count": 3421,
            "name": "2 others"
           }
          ],
          "nan_count": 0,
          "unique_count": 4
         }
        },
        {
         "dtype": "int64",
         "name": "_deepnote_index_column"
        }
       ],
       "row_count": 10368,
       "rows": [
        {
         "P1": "priority",
         "_deepnote_index_column": 0
        },
        {
         "P1": "not_recom",
         "_deepnote_index_column": 1
        },
        {
         "P1": "spec_prior",
         "_deepnote_index_column": 2
        },
        {
         "P1": "priority",
         "_deepnote_index_column": 3
        },
        {
         "P1": "spec_prior",
         "_deepnote_index_column": 4
        },
        {
         "P1": "not_recom",
         "_deepnote_index_column": 5
        },
        {
         "P1": "spec_prior",
         "_deepnote_index_column": 6
        },
        {
         "P1": "not_recom",
         "_deepnote_index_column": 7
        },
        {
         "P1": "not_recom",
         "_deepnote_index_column": 8
        },
        {
         "P1": "priority",
         "_deepnote_index_column": 9
        }
       ]
      },
      "text/html": [
       "<div>\n",
       "<style scoped>\n",
       "    .dataframe tbody tr th:only-of-type {\n",
       "        vertical-align: middle;\n",
       "    }\n",
       "\n",
       "    .dataframe tbody tr th {\n",
       "        vertical-align: top;\n",
       "    }\n",
       "\n",
       "    .dataframe thead th {\n",
       "        text-align: right;\n",
       "    }\n",
       "</style>\n",
       "<table border=\"1\" class=\"dataframe\">\n",
       "  <thead>\n",
       "    <tr style=\"text-align: right;\">\n",
       "      <th></th>\n",
       "      <th>P1</th>\n",
       "    </tr>\n",
       "  </thead>\n",
       "  <tbody>\n",
       "    <tr>\n",
       "      <th>0</th>\n",
       "      <td>priority</td>\n",
       "    </tr>\n",
       "    <tr>\n",
       "      <th>1</th>\n",
       "      <td>not_recom</td>\n",
       "    </tr>\n",
       "    <tr>\n",
       "      <th>2</th>\n",
       "      <td>spec_prior</td>\n",
       "    </tr>\n",
       "    <tr>\n",
       "      <th>3</th>\n",
       "      <td>priority</td>\n",
       "    </tr>\n",
       "    <tr>\n",
       "      <th>4</th>\n",
       "      <td>spec_prior</td>\n",
       "    </tr>\n",
       "    <tr>\n",
       "      <th>...</th>\n",
       "      <td>...</td>\n",
       "    </tr>\n",
       "    <tr>\n",
       "      <th>10363</th>\n",
       "      <td>spec_prior</td>\n",
       "    </tr>\n",
       "    <tr>\n",
       "      <th>10364</th>\n",
       "      <td>priority</td>\n",
       "    </tr>\n",
       "    <tr>\n",
       "      <th>10365</th>\n",
       "      <td>not_recom</td>\n",
       "    </tr>\n",
       "    <tr>\n",
       "      <th>10366</th>\n",
       "      <td>not_recom</td>\n",
       "    </tr>\n",
       "    <tr>\n",
       "      <th>10367</th>\n",
       "      <td>spec_prior</td>\n",
       "    </tr>\n",
       "  </tbody>\n",
       "</table>\n",
       "<p>10368 rows × 1 columns</p>\n",
       "</div>"
      ],
      "text/plain": [
       "               P1\n",
       "0        priority\n",
       "1       not_recom\n",
       "2      spec_prior\n",
       "3        priority\n",
       "4      spec_prior\n",
       "...           ...\n",
       "10363  spec_prior\n",
       "10364    priority\n",
       "10365   not_recom\n",
       "10366   not_recom\n",
       "10367  spec_prior\n",
       "\n",
       "[10368 rows x 1 columns]"
      ]
     },
     "execution_count": 27,
     "metadata": {},
     "output_type": "execute_result"
    }
   ],
   "outputs_reference": "s3:deepnote-cell-outputs-production/27b5e72e-5c87-49d5-b309-fc9c30687a13",
   "source": [
    "clf_n_3 = KNeighborsClassifier(n_neighbors=3)\n",
    "\n",
    "clf_n_3.fit(x_train, y_train)\n",
    "\n",
    "joblib.dump(clf_n_3, 'asset/data/stacking/knn_80.joblib')\n",
    "\n",
    "result = clf_n_3.predict(x_train)\n",
    "\n",
    "result_n_3 = pd.DataFrame(result, columns=['P1'])\n",
    "\n",
    "result_n_3"
   ]
  },
  {
   "block_group": "6cbbad976dab4acd9c9a94421fe1ca57",
   "cell_type": "markdown",
   "metadata": {
    "cell_id": "9771ce66553e4dc2965ec0d74c151ff5",
    "deepnote_cell_type": "text-cell-h3",
    "formattedRanges": []
   },
   "source": [
    "### Make KNN model with n=5"
   ]
  },
  {
   "block_group": "767aa373d03946c38394a3574fe1846f",
   "cell_type": "code",
   "content_dependencies": null,
   "execution_count": 28,
   "metadata": {
    "cell_id": "17d8351f9442427e9d58bb2b86070c9d",
    "deepnote_cell_type": "code",
    "deepnote_to_be_reexecuted": false,
    "execution_millis": 840,
    "execution_start": 1719409257911,
    "source_hash": "4ad97d22"
   },
   "outputs": [
    {
     "data": {
      "application/vnd.deepnote.dataframe.v3+json": {
       "column_count": 1,
       "columns": [
        {
         "dtype": "object",
         "name": "P2",
         "stats": {
          "categories": [
           {
            "count": 3481,
            "name": "priority"
           },
           {
            "count": 3450,
            "name": "not_recom"
           },
           {
            "count": 3437,
            "name": "2 others"
           }
          ],
          "nan_count": 0,
          "unique_count": 4
         }
        },
        {
         "dtype": "int64",
         "name": "_deepnote_index_column"
        }
       ],
       "row_count": 10368,
       "rows": [
        {
         "P2": "spec_prior",
         "_deepnote_index_column": 0
        },
        {
         "P2": "not_recom",
         "_deepnote_index_column": 1
        },
        {
         "P2": "spec_prior",
         "_deepnote_index_column": 2
        },
        {
         "P2": "priority",
         "_deepnote_index_column": 3
        },
        {
         "P2": "spec_prior",
         "_deepnote_index_column": 4
        },
        {
         "P2": "priority",
         "_deepnote_index_column": 5
        },
        {
         "P2": "spec_prior",
         "_deepnote_index_column": 6
        },
        {
         "P2": "not_recom",
         "_deepnote_index_column": 7
        },
        {
         "P2": "not_recom",
         "_deepnote_index_column": 8
        },
        {
         "P2": "priority",
         "_deepnote_index_column": 9
        }
       ]
      },
      "text/html": [
       "<div>\n",
       "<style scoped>\n",
       "    .dataframe tbody tr th:only-of-type {\n",
       "        vertical-align: middle;\n",
       "    }\n",
       "\n",
       "    .dataframe tbody tr th {\n",
       "        vertical-align: top;\n",
       "    }\n",
       "\n",
       "    .dataframe thead th {\n",
       "        text-align: right;\n",
       "    }\n",
       "</style>\n",
       "<table border=\"1\" class=\"dataframe\">\n",
       "  <thead>\n",
       "    <tr style=\"text-align: right;\">\n",
       "      <th></th>\n",
       "      <th>P2</th>\n",
       "    </tr>\n",
       "  </thead>\n",
       "  <tbody>\n",
       "    <tr>\n",
       "      <th>0</th>\n",
       "      <td>spec_prior</td>\n",
       "    </tr>\n",
       "    <tr>\n",
       "      <th>1</th>\n",
       "      <td>not_recom</td>\n",
       "    </tr>\n",
       "    <tr>\n",
       "      <th>2</th>\n",
       "      <td>spec_prior</td>\n",
       "    </tr>\n",
       "    <tr>\n",
       "      <th>3</th>\n",
       "      <td>priority</td>\n",
       "    </tr>\n",
       "    <tr>\n",
       "      <th>4</th>\n",
       "      <td>spec_prior</td>\n",
       "    </tr>\n",
       "    <tr>\n",
       "      <th>...</th>\n",
       "      <td>...</td>\n",
       "    </tr>\n",
       "    <tr>\n",
       "      <th>10363</th>\n",
       "      <td>spec_prior</td>\n",
       "    </tr>\n",
       "    <tr>\n",
       "      <th>10364</th>\n",
       "      <td>priority</td>\n",
       "    </tr>\n",
       "    <tr>\n",
       "      <th>10365</th>\n",
       "      <td>not_recom</td>\n",
       "    </tr>\n",
       "    <tr>\n",
       "      <th>10366</th>\n",
       "      <td>not_recom</td>\n",
       "    </tr>\n",
       "    <tr>\n",
       "      <th>10367</th>\n",
       "      <td>spec_prior</td>\n",
       "    </tr>\n",
       "  </tbody>\n",
       "</table>\n",
       "<p>10368 rows × 1 columns</p>\n",
       "</div>"
      ],
      "text/plain": [
       "               P2\n",
       "0      spec_prior\n",
       "1       not_recom\n",
       "2      spec_prior\n",
       "3        priority\n",
       "4      spec_prior\n",
       "...           ...\n",
       "10363  spec_prior\n",
       "10364    priority\n",
       "10365   not_recom\n",
       "10366   not_recom\n",
       "10367  spec_prior\n",
       "\n",
       "[10368 rows x 1 columns]"
      ]
     },
     "execution_count": 28,
     "metadata": {},
     "output_type": "execute_result"
    }
   ],
   "outputs_reference": "s3:deepnote-cell-outputs-production/fa3bc187-a27f-4108-950e-6d49e1553c99",
   "source": [
    "clf_n_5 = KNeighborsClassifier(n_neighbors=5)\n",
    "\n",
    "clf_n_5.fit(x_train, y_train)\n",
    "\n",
    "joblib.dump(clf_n_5, 'asset/data/stacking/knn_90.joblib')\n",
    "\n",
    "result = clf_n_5.predict(x_train)\n",
    "\n",
    "result_n_5 = pd.DataFrame(result, columns=['P2'])\n",
    "\n",
    "result_n_5"
   ]
  },
  {
   "block_group": "57404dcd32fe4d11bc3388b07254ec24",
   "cell_type": "code",
   "content_dependencies": null,
   "execution_count": 29,
   "metadata": {
    "cell_id": "092667210c58442fb146dceae3b68fd4",
    "deepnote_cell_type": "code",
    "deepnote_table_loading": false,
    "deepnote_table_state": {
     "filters": [],
     "pageIndex": 414,
     "pageSize": 25,
     "sortBy": []
    },
    "deepnote_to_be_reexecuted": false,
    "execution_millis": 220,
    "execution_start": 1719409265550,
    "source_hash": "458a80ef"
   },
   "outputs": [
    {
     "data": {
      "application/vnd.deepnote.dataframe.v3+json": {
       "column_count": 2,
       "columns": [
        {
         "dtype": "object",
         "name": "P1",
         "stats": {
          "categories": [
           {
            "count": 3582,
            "name": "not_recom"
           },
           {
            "count": 3365,
            "name": "priority"
           },
           {
            "count": 3421,
            "name": "2 others"
           }
          ],
          "nan_count": 0,
          "unique_count": 4
         }
        },
        {
         "dtype": "object",
         "name": "P2",
         "stats": {
          "categories": [
           {
            "count": 3481,
            "name": "priority"
           },
           {
            "count": 3450,
            "name": "not_recom"
           },
           {
            "count": 3437,
            "name": "2 others"
           }
          ],
          "nan_count": 0,
          "unique_count": 4
         }
        },
        {
         "dtype": "int64",
         "name": "_deepnote_index_column"
        }
       ],
       "row_count": 10368,
       "rows": [
        {
         "P1": "not_recom",
         "P2": "not_recom",
         "_deepnote_index_column": 10350
        },
        {
         "P1": "priority",
         "P2": "priority",
         "_deepnote_index_column": 10351
        },
        {
         "P1": "not_recom",
         "P2": "not_recom",
         "_deepnote_index_column": 10352
        },
        {
         "P1": "spec_prior",
         "P2": "spec_prior",
         "_deepnote_index_column": 10353
        },
        {
         "P1": "not_recom",
         "P2": "not_recom",
         "_deepnote_index_column": 10354
        },
        {
         "P1": "not_recom",
         "P2": "not_recom",
         "_deepnote_index_column": 10355
        },
        {
         "P1": "not_recom",
         "P2": "not_recom",
         "_deepnote_index_column": 10356
        },
        {
         "P1": "priority",
         "P2": "priority",
         "_deepnote_index_column": 10357
        },
        {
         "P1": "priority",
         "P2": "priority",
         "_deepnote_index_column": 10358
        },
        {
         "P1": "priority",
         "P2": "priority",
         "_deepnote_index_column": 10359
        },
        {
         "P1": "priority",
         "P2": "priority",
         "_deepnote_index_column": 10360
        },
        {
         "P1": "priority",
         "P2": "priority",
         "_deepnote_index_column": 10361
        },
        {
         "P1": "spec_prior",
         "P2": "spec_prior",
         "_deepnote_index_column": 10362
        },
        {
         "P1": "spec_prior",
         "P2": "spec_prior",
         "_deepnote_index_column": 10363
        },
        {
         "P1": "priority",
         "P2": "priority",
         "_deepnote_index_column": 10364
        },
        {
         "P1": "not_recom",
         "P2": "not_recom",
         "_deepnote_index_column": 10365
        },
        {
         "P1": "not_recom",
         "P2": "not_recom",
         "_deepnote_index_column": 10366
        },
        {
         "P1": "spec_prior",
         "P2": "spec_prior",
         "_deepnote_index_column": 10367
        }
       ]
      },
      "text/html": [
       "<div>\n",
       "<style scoped>\n",
       "    .dataframe tbody tr th:only-of-type {\n",
       "        vertical-align: middle;\n",
       "    }\n",
       "\n",
       "    .dataframe tbody tr th {\n",
       "        vertical-align: top;\n",
       "    }\n",
       "\n",
       "    .dataframe thead th {\n",
       "        text-align: right;\n",
       "    }\n",
       "</style>\n",
       "<table border=\"1\" class=\"dataframe\">\n",
       "  <thead>\n",
       "    <tr style=\"text-align: right;\">\n",
       "      <th></th>\n",
       "      <th>P1</th>\n",
       "      <th>P2</th>\n",
       "    </tr>\n",
       "  </thead>\n",
       "  <tbody>\n",
       "    <tr>\n",
       "      <th>0</th>\n",
       "      <td>priority</td>\n",
       "      <td>spec_prior</td>\n",
       "    </tr>\n",
       "    <tr>\n",
       "      <th>1</th>\n",
       "      <td>not_recom</td>\n",
       "      <td>not_recom</td>\n",
       "    </tr>\n",
       "    <tr>\n",
       "      <th>2</th>\n",
       "      <td>spec_prior</td>\n",
       "      <td>spec_prior</td>\n",
       "    </tr>\n",
       "    <tr>\n",
       "      <th>3</th>\n",
       "      <td>priority</td>\n",
       "      <td>priority</td>\n",
       "    </tr>\n",
       "    <tr>\n",
       "      <th>4</th>\n",
       "      <td>spec_prior</td>\n",
       "      <td>spec_prior</td>\n",
       "    </tr>\n",
       "    <tr>\n",
       "      <th>...</th>\n",
       "      <td>...</td>\n",
       "      <td>...</td>\n",
       "    </tr>\n",
       "    <tr>\n",
       "      <th>10363</th>\n",
       "      <td>spec_prior</td>\n",
       "      <td>spec_prior</td>\n",
       "    </tr>\n",
       "    <tr>\n",
       "      <th>10364</th>\n",
       "      <td>priority</td>\n",
       "      <td>priority</td>\n",
       "    </tr>\n",
       "    <tr>\n",
       "      <th>10365</th>\n",
       "      <td>not_recom</td>\n",
       "      <td>not_recom</td>\n",
       "    </tr>\n",
       "    <tr>\n",
       "      <th>10366</th>\n",
       "      <td>not_recom</td>\n",
       "      <td>not_recom</td>\n",
       "    </tr>\n",
       "    <tr>\n",
       "      <th>10367</th>\n",
       "      <td>spec_prior</td>\n",
       "      <td>spec_prior</td>\n",
       "    </tr>\n",
       "  </tbody>\n",
       "</table>\n",
       "<p>10368 rows × 2 columns</p>\n",
       "</div>"
      ],
      "text/plain": [
       "               P1          P2\n",
       "0        priority  spec_prior\n",
       "1       not_recom   not_recom\n",
       "2      spec_prior  spec_prior\n",
       "3        priority    priority\n",
       "4      spec_prior  spec_prior\n",
       "...           ...         ...\n",
       "10363  spec_prior  spec_prior\n",
       "10364    priority    priority\n",
       "10365   not_recom   not_recom\n",
       "10366   not_recom   not_recom\n",
       "10367  spec_prior  spec_prior\n",
       "\n",
       "[10368 rows x 2 columns]"
      ]
     },
     "execution_count": 29,
     "metadata": {},
     "output_type": "execute_result"
    }
   ],
   "outputs_reference": "s3:deepnote-cell-outputs-production/0a499452-90b4-4214-a118-ce0e5eaa9a6e",
   "source": [
    "x_combined = pd.concat([result_n_3, result_n_5], axis=1)\n",
    "\n",
    "x_combined"
   ]
  },
  {
   "block_group": "9305410184224d13a9a1cfaac7f93644",
   "cell_type": "markdown",
   "metadata": {
    "cell_id": "0ca0ce45aee14e8ab0716d885ec2365e",
    "deepnote_cell_type": "text-cell-h3",
    "formattedRanges": []
   },
   "source": [
    "### Change categorial to numeric"
   ]
  },
  {
   "block_group": "770b26f627534865af6939682cbe2127",
   "cell_type": "code",
   "content_dependencies": null,
   "execution_count": 30,
   "metadata": {
    "cell_id": "4c57bdc73c334ebea769fa38ba22941c",
    "deepnote_cell_type": "code",
    "deepnote_to_be_reexecuted": false,
    "execution_millis": 210,
    "execution_start": 1719409274932,
    "source_hash": "83caad18"
   },
   "outputs": [
    {
     "data": {
      "application/vnd.deepnote.dataframe.v3+json": {
       "column_count": 8,
       "columns": [
        {
         "dtype": "int64",
         "name": "P1_not_recom",
         "stats": {
          "histogram": [
           {
            "bin_end": 0.1,
            "bin_start": 0,
            "count": 6786
           },
           {
            "bin_end": 0.2,
            "bin_start": 0.1,
            "count": 0
           },
           {
            "bin_end": 0.30000000000000004,
            "bin_start": 0.2,
            "count": 0
           },
           {
            "bin_end": 0.4,
            "bin_start": 0.30000000000000004,
            "count": 0
           },
           {
            "bin_end": 0.5,
            "bin_start": 0.4,
            "count": 0
           },
           {
            "bin_end": 0.6000000000000001,
            "bin_start": 0.5,
            "count": 0
           },
           {
            "bin_end": 0.7000000000000001,
            "bin_start": 0.6000000000000001,
            "count": 0
           },
           {
            "bin_end": 0.8,
            "bin_start": 0.7000000000000001,
            "count": 0
           },
           {
            "bin_end": 0.9,
            "bin_start": 0.8,
            "count": 0
           },
           {
            "bin_end": 1,
            "bin_start": 0.9,
            "count": 3582
           }
          ],
          "max": "1",
          "min": "0",
          "nan_count": 0,
          "unique_count": 2
         }
        },
        {
         "dtype": "int64",
         "name": "P1_priority",
         "stats": {
          "histogram": [
           {
            "bin_end": 0.1,
            "bin_start": 0,
            "count": 7003
           },
           {
            "bin_end": 0.2,
            "bin_start": 0.1,
            "count": 0
           },
           {
            "bin_end": 0.30000000000000004,
            "bin_start": 0.2,
            "count": 0
           },
           {
            "bin_end": 0.4,
            "bin_start": 0.30000000000000004,
            "count": 0
           },
           {
            "bin_end": 0.5,
            "bin_start": 0.4,
            "count": 0
           },
           {
            "bin_end": 0.6000000000000001,
            "bin_start": 0.5,
            "count": 0
           },
           {
            "bin_end": 0.7000000000000001,
            "bin_start": 0.6000000000000001,
            "count": 0
           },
           {
            "bin_end": 0.8,
            "bin_start": 0.7000000000000001,
            "count": 0
           },
           {
            "bin_end": 0.9,
            "bin_start": 0.8,
            "count": 0
           },
           {
            "bin_end": 1,
            "bin_start": 0.9,
            "count": 3365
           }
          ],
          "max": "1",
          "min": "0",
          "nan_count": 0,
          "unique_count": 2
         }
        },
        {
         "dtype": "int64",
         "name": "P1_spec_prior",
         "stats": {
          "histogram": [
           {
            "bin_end": 0.1,
            "bin_start": 0,
            "count": 7148
           },
           {
            "bin_end": 0.2,
            "bin_start": 0.1,
            "count": 0
           },
           {
            "bin_end": 0.30000000000000004,
            "bin_start": 0.2,
            "count": 0
           },
           {
            "bin_end": 0.4,
            "bin_start": 0.30000000000000004,
            "count": 0
           },
           {
            "bin_end": 0.5,
            "bin_start": 0.4,
            "count": 0
           },
           {
            "bin_end": 0.6000000000000001,
            "bin_start": 0.5,
            "count": 0
           },
           {
            "bin_end": 0.7000000000000001,
            "bin_start": 0.6000000000000001,
            "count": 0
           },
           {
            "bin_end": 0.8,
            "bin_start": 0.7000000000000001,
            "count": 0
           },
           {
            "bin_end": 0.9,
            "bin_start": 0.8,
            "count": 0
           },
           {
            "bin_end": 1,
            "bin_start": 0.9,
            "count": 3220
           }
          ],
          "max": "1",
          "min": "0",
          "nan_count": 0,
          "unique_count": 2
         }
        },
        {
         "dtype": "int64",
         "name": "P1_very_recom",
         "stats": {
          "histogram": [
           {
            "bin_end": 0.1,
            "bin_start": 0,
            "count": 10167
           },
           {
            "bin_end": 0.2,
            "bin_start": 0.1,
            "count": 0
           },
           {
            "bin_end": 0.30000000000000004,
            "bin_start": 0.2,
            "count": 0
           },
           {
            "bin_end": 0.4,
            "bin_start": 0.30000000000000004,
            "count": 0
           },
           {
            "bin_end": 0.5,
            "bin_start": 0.4,
            "count": 0
           },
           {
            "bin_end": 0.6000000000000001,
            "bin_start": 0.5,
            "count": 0
           },
           {
            "bin_end": 0.7000000000000001,
            "bin_start": 0.6000000000000001,
            "count": 0
           },
           {
            "bin_end": 0.8,
            "bin_start": 0.7000000000000001,
            "count": 0
           },
           {
            "bin_end": 0.9,
            "bin_start": 0.8,
            "count": 0
           },
           {
            "bin_end": 1,
            "bin_start": 0.9,
            "count": 201
           }
          ],
          "max": "1",
          "min": "0",
          "nan_count": 0,
          "unique_count": 2
         }
        },
        {
         "dtype": "int64",
         "name": "P2_not_recom",
         "stats": {
          "histogram": [
           {
            "bin_end": 0.1,
            "bin_start": 0,
            "count": 6918
           },
           {
            "bin_end": 0.2,
            "bin_start": 0.1,
            "count": 0
           },
           {
            "bin_end": 0.30000000000000004,
            "bin_start": 0.2,
            "count": 0
           },
           {
            "bin_end": 0.4,
            "bin_start": 0.30000000000000004,
            "count": 0
           },
           {
            "bin_end": 0.5,
            "bin_start": 0.4,
            "count": 0
           },
           {
            "bin_end": 0.6000000000000001,
            "bin_start": 0.5,
            "count": 0
           },
           {
            "bin_end": 0.7000000000000001,
            "bin_start": 0.6000000000000001,
            "count": 0
           },
           {
            "bin_end": 0.8,
            "bin_start": 0.7000000000000001,
            "count": 0
           },
           {
            "bin_end": 0.9,
            "bin_start": 0.8,
            "count": 0
           },
           {
            "bin_end": 1,
            "bin_start": 0.9,
            "count": 3450
           }
          ],
          "max": "1",
          "min": "0",
          "nan_count": 0,
          "unique_count": 2
         }
        },
        {
         "dtype": "int64",
         "name": "P2_priority",
         "stats": {
          "histogram": [
           {
            "bin_end": 0.1,
            "bin_start": 0,
            "count": 6887
           },
           {
            "bin_end": 0.2,
            "bin_start": 0.1,
            "count": 0
           },
           {
            "bin_end": 0.30000000000000004,
            "bin_start": 0.2,
            "count": 0
           },
           {
            "bin_end": 0.4,
            "bin_start": 0.30000000000000004,
            "count": 0
           },
           {
            "bin_end": 0.5,
            "bin_start": 0.4,
            "count": 0
           },
           {
            "bin_end": 0.6000000000000001,
            "bin_start": 0.5,
            "count": 0
           },
           {
            "bin_end": 0.7000000000000001,
            "bin_start": 0.6000000000000001,
            "count": 0
           },
           {
            "bin_end": 0.8,
            "bin_start": 0.7000000000000001,
            "count": 0
           },
           {
            "bin_end": 0.9,
            "bin_start": 0.8,
            "count": 0
           },
           {
            "bin_end": 1,
            "bin_start": 0.9,
            "count": 3481
           }
          ],
          "max": "1",
          "min": "0",
          "nan_count": 0,
          "unique_count": 2
         }
        },
        {
         "dtype": "int64",
         "name": "P2_spec_prior",
         "stats": {
          "histogram": [
           {
            "bin_end": 0.1,
            "bin_start": 0,
            "count": 7115
           },
           {
            "bin_end": 0.2,
            "bin_start": 0.1,
            "count": 0
           },
           {
            "bin_end": 0.30000000000000004,
            "bin_start": 0.2,
            "count": 0
           },
           {
            "bin_end": 0.4,
            "bin_start": 0.30000000000000004,
            "count": 0
           },
           {
            "bin_end": 0.5,
            "bin_start": 0.4,
            "count": 0
           },
           {
            "bin_end": 0.6000000000000001,
            "bin_start": 0.5,
            "count": 0
           },
           {
            "bin_end": 0.7000000000000001,
            "bin_start": 0.6000000000000001,
            "count": 0
           },
           {
            "bin_end": 0.8,
            "bin_start": 0.7000000000000001,
            "count": 0
           },
           {
            "bin_end": 0.9,
            "bin_start": 0.8,
            "count": 0
           },
           {
            "bin_end": 1,
            "bin_start": 0.9,
            "count": 3253
           }
          ],
          "max": "1",
          "min": "0",
          "nan_count": 0,
          "unique_count": 2
         }
        },
        {
         "dtype": "int64",
         "name": "P2_very_recom",
         "stats": {
          "histogram": [
           {
            "bin_end": 0.1,
            "bin_start": 0,
            "count": 10184
           },
           {
            "bin_end": 0.2,
            "bin_start": 0.1,
            "count": 0
           },
           {
            "bin_end": 0.30000000000000004,
            "bin_start": 0.2,
            "count": 0
           },
           {
            "bin_end": 0.4,
            "bin_start": 0.30000000000000004,
            "count": 0
           },
           {
            "bin_end": 0.5,
            "bin_start": 0.4,
            "count": 0
           },
           {
            "bin_end": 0.6000000000000001,
            "bin_start": 0.5,
            "count": 0
           },
           {
            "bin_end": 0.7000000000000001,
            "bin_start": 0.6000000000000001,
            "count": 0
           },
           {
            "bin_end": 0.8,
            "bin_start": 0.7000000000000001,
            "count": 0
           },
           {
            "bin_end": 0.9,
            "bin_start": 0.8,
            "count": 0
           },
           {
            "bin_end": 1,
            "bin_start": 0.9,
            "count": 184
           }
          ],
          "max": "1",
          "min": "0",
          "nan_count": 0,
          "unique_count": 2
         }
        },
        {
         "dtype": "int64",
         "name": "_deepnote_index_column"
        }
       ],
       "row_count": 10368,
       "rows": [
        {
         "P1_not_recom": 0,
         "P1_priority": 1,
         "P1_spec_prior": 0,
         "P1_very_recom": 0,
         "P2_not_recom": 0,
         "P2_priority": 0,
         "P2_spec_prior": 1,
         "P2_very_recom": 0,
         "_deepnote_index_column": 0
        },
        {
         "P1_not_recom": 1,
         "P1_priority": 0,
         "P1_spec_prior": 0,
         "P1_very_recom": 0,
         "P2_not_recom": 1,
         "P2_priority": 0,
         "P2_spec_prior": 0,
         "P2_very_recom": 0,
         "_deepnote_index_column": 1
        },
        {
         "P1_not_recom": 0,
         "P1_priority": 0,
         "P1_spec_prior": 1,
         "P1_very_recom": 0,
         "P2_not_recom": 0,
         "P2_priority": 0,
         "P2_spec_prior": 1,
         "P2_very_recom": 0,
         "_deepnote_index_column": 2
        },
        {
         "P1_not_recom": 0,
         "P1_priority": 1,
         "P1_spec_prior": 0,
         "P1_very_recom": 0,
         "P2_not_recom": 0,
         "P2_priority": 1,
         "P2_spec_prior": 0,
         "P2_very_recom": 0,
         "_deepnote_index_column": 3
        },
        {
         "P1_not_recom": 0,
         "P1_priority": 0,
         "P1_spec_prior": 1,
         "P1_very_recom": 0,
         "P2_not_recom": 0,
         "P2_priority": 0,
         "P2_spec_prior": 1,
         "P2_very_recom": 0,
         "_deepnote_index_column": 4
        },
        {
         "P1_not_recom": 1,
         "P1_priority": 0,
         "P1_spec_prior": 0,
         "P1_very_recom": 0,
         "P2_not_recom": 0,
         "P2_priority": 1,
         "P2_spec_prior": 0,
         "P2_very_recom": 0,
         "_deepnote_index_column": 5
        },
        {
         "P1_not_recom": 0,
         "P1_priority": 0,
         "P1_spec_prior": 1,
         "P1_very_recom": 0,
         "P2_not_recom": 0,
         "P2_priority": 0,
         "P2_spec_prior": 1,
         "P2_very_recom": 0,
         "_deepnote_index_column": 6
        },
        {
         "P1_not_recom": 1,
         "P1_priority": 0,
         "P1_spec_prior": 0,
         "P1_very_recom": 0,
         "P2_not_recom": 1,
         "P2_priority": 0,
         "P2_spec_prior": 0,
         "P2_very_recom": 0,
         "_deepnote_index_column": 7
        },
        {
         "P1_not_recom": 1,
         "P1_priority": 0,
         "P1_spec_prior": 0,
         "P1_very_recom": 0,
         "P2_not_recom": 1,
         "P2_priority": 0,
         "P2_spec_prior": 0,
         "P2_very_recom": 0,
         "_deepnote_index_column": 8
        },
        {
         "P1_not_recom": 0,
         "P1_priority": 1,
         "P1_spec_prior": 0,
         "P1_very_recom": 0,
         "P2_not_recom": 0,
         "P2_priority": 1,
         "P2_spec_prior": 0,
         "P2_very_recom": 0,
         "_deepnote_index_column": 9
        }
       ]
      },
      "text/html": [
       "<div>\n",
       "<style scoped>\n",
       "    .dataframe tbody tr th:only-of-type {\n",
       "        vertical-align: middle;\n",
       "    }\n",
       "\n",
       "    .dataframe tbody tr th {\n",
       "        vertical-align: top;\n",
       "    }\n",
       "\n",
       "    .dataframe thead th {\n",
       "        text-align: right;\n",
       "    }\n",
       "</style>\n",
       "<table border=\"1\" class=\"dataframe\">\n",
       "  <thead>\n",
       "    <tr style=\"text-align: right;\">\n",
       "      <th></th>\n",
       "      <th>P1_not_recom</th>\n",
       "      <th>P1_priority</th>\n",
       "      <th>P1_spec_prior</th>\n",
       "      <th>P1_very_recom</th>\n",
       "      <th>P2_not_recom</th>\n",
       "      <th>P2_priority</th>\n",
       "      <th>P2_spec_prior</th>\n",
       "      <th>P2_very_recom</th>\n",
       "    </tr>\n",
       "  </thead>\n",
       "  <tbody>\n",
       "    <tr>\n",
       "      <th>0</th>\n",
       "      <td>0</td>\n",
       "      <td>1</td>\n",
       "      <td>0</td>\n",
       "      <td>0</td>\n",
       "      <td>0</td>\n",
       "      <td>0</td>\n",
       "      <td>1</td>\n",
       "      <td>0</td>\n",
       "    </tr>\n",
       "    <tr>\n",
       "      <th>1</th>\n",
       "      <td>1</td>\n",
       "      <td>0</td>\n",
       "      <td>0</td>\n",
       "      <td>0</td>\n",
       "      <td>1</td>\n",
       "      <td>0</td>\n",
       "      <td>0</td>\n",
       "      <td>0</td>\n",
       "    </tr>\n",
       "    <tr>\n",
       "      <th>2</th>\n",
       "      <td>0</td>\n",
       "      <td>0</td>\n",
       "      <td>1</td>\n",
       "      <td>0</td>\n",
       "      <td>0</td>\n",
       "      <td>0</td>\n",
       "      <td>1</td>\n",
       "      <td>0</td>\n",
       "    </tr>\n",
       "    <tr>\n",
       "      <th>3</th>\n",
       "      <td>0</td>\n",
       "      <td>1</td>\n",
       "      <td>0</td>\n",
       "      <td>0</td>\n",
       "      <td>0</td>\n",
       "      <td>1</td>\n",
       "      <td>0</td>\n",
       "      <td>0</td>\n",
       "    </tr>\n",
       "    <tr>\n",
       "      <th>4</th>\n",
       "      <td>0</td>\n",
       "      <td>0</td>\n",
       "      <td>1</td>\n",
       "      <td>0</td>\n",
       "      <td>0</td>\n",
       "      <td>0</td>\n",
       "      <td>1</td>\n",
       "      <td>0</td>\n",
       "    </tr>\n",
       "    <tr>\n",
       "      <th>...</th>\n",
       "      <td>...</td>\n",
       "      <td>...</td>\n",
       "      <td>...</td>\n",
       "      <td>...</td>\n",
       "      <td>...</td>\n",
       "      <td>...</td>\n",
       "      <td>...</td>\n",
       "      <td>...</td>\n",
       "    </tr>\n",
       "    <tr>\n",
       "      <th>10363</th>\n",
       "      <td>0</td>\n",
       "      <td>0</td>\n",
       "      <td>1</td>\n",
       "      <td>0</td>\n",
       "      <td>0</td>\n",
       "      <td>0</td>\n",
       "      <td>1</td>\n",
       "      <td>0</td>\n",
       "    </tr>\n",
       "    <tr>\n",
       "      <th>10364</th>\n",
       "      <td>0</td>\n",
       "      <td>1</td>\n",
       "      <td>0</td>\n",
       "      <td>0</td>\n",
       "      <td>0</td>\n",
       "      <td>1</td>\n",
       "      <td>0</td>\n",
       "      <td>0</td>\n",
       "    </tr>\n",
       "    <tr>\n",
       "      <th>10365</th>\n",
       "      <td>1</td>\n",
       "      <td>0</td>\n",
       "      <td>0</td>\n",
       "      <td>0</td>\n",
       "      <td>1</td>\n",
       "      <td>0</td>\n",
       "      <td>0</td>\n",
       "      <td>0</td>\n",
       "    </tr>\n",
       "    <tr>\n",
       "      <th>10366</th>\n",
       "      <td>1</td>\n",
       "      <td>0</td>\n",
       "      <td>0</td>\n",
       "      <td>0</td>\n",
       "      <td>1</td>\n",
       "      <td>0</td>\n",
       "      <td>0</td>\n",
       "      <td>0</td>\n",
       "    </tr>\n",
       "    <tr>\n",
       "      <th>10367</th>\n",
       "      <td>0</td>\n",
       "      <td>0</td>\n",
       "      <td>1</td>\n",
       "      <td>0</td>\n",
       "      <td>0</td>\n",
       "      <td>0</td>\n",
       "      <td>1</td>\n",
       "      <td>0</td>\n",
       "    </tr>\n",
       "  </tbody>\n",
       "</table>\n",
       "<p>10368 rows × 8 columns</p>\n",
       "</div>"
      ],
      "text/plain": [
       "       P1_not_recom  P1_priority  P1_spec_prior  P1_very_recom  P2_not_recom  \\\n",
       "0                 0            1              0              0             0   \n",
       "1                 1            0              0              0             1   \n",
       "2                 0            0              1              0             0   \n",
       "3                 0            1              0              0             0   \n",
       "4                 0            0              1              0             0   \n",
       "...             ...          ...            ...            ...           ...   \n",
       "10363             0            0              1              0             0   \n",
       "10364             0            1              0              0             0   \n",
       "10365             1            0              0              0             1   \n",
       "10366             1            0              0              0             1   \n",
       "10367             0            0              1              0             0   \n",
       "\n",
       "       P2_priority  P2_spec_prior  P2_very_recom  \n",
       "0                0              1              0  \n",
       "1                0              0              0  \n",
       "2                0              1              0  \n",
       "3                1              0              0  \n",
       "4                0              1              0  \n",
       "...            ...            ...            ...  \n",
       "10363            0              1              0  \n",
       "10364            1              0              0  \n",
       "10365            0              0              0  \n",
       "10366            0              0              0  \n",
       "10367            0              1              0  \n",
       "\n",
       "[10368 rows x 8 columns]"
      ]
     },
     "execution_count": 30,
     "metadata": {},
     "output_type": "execute_result"
    }
   ],
   "outputs_reference": "s3:deepnote-cell-outputs-production/fb7c8de3-711d-4190-a172-2004fb6a9f78",
   "source": [
    "X = pd.get_dummies(x_combined,prefix=[\"P1\",\"P2\"],columns=[\"P1\",\"P2\"], dtype='int')\n",
    "\n",
    "X"
   ]
  },
  {
   "block_group": "602a34286fbc42a0a6ff60d9f8b277b0",
   "cell_type": "markdown",
   "metadata": {
    "cell_id": "3b548b189919413eb6a6c7e4de752adf",
    "deepnote_cell_type": "text-cell-p",
    "formattedRanges": []
   },
   "source": [
    "Make stacking classifier with gaussian naives bayes as meta classifiers for increase accuration of prediction with two estimators (KNN K = 5 and KNN K = 3)."
   ]
  },
  {
   "block_group": "0d8391e5de244c4d8416c78baa99e16a",
   "cell_type": "markdown",
   "metadata": {
    "cell_id": "9ca61fe6ad2e49cb9c452f40be6c5e86",
    "deepnote_cell_type": "text-cell-h3",
    "formattedRanges": []
   },
   "source": [
    "### Modelling Gaussian Naive Bayes as Meta Classifier"
   ]
  },
  {
   "block_group": "5651ede758054bc7ad36e386eb53b5ff",
   "cell_type": "code",
   "content_dependencies": null,
   "execution_count": 31,
   "metadata": {
    "cell_id": "169f1aa55d7b433d8f0546cf0b86e73f",
    "deepnote_cell_type": "code",
    "deepnote_to_be_reexecuted": false,
    "execution_millis": 287,
    "execution_start": 1719409285139,
    "source_hash": "62ad2d68"
   },
   "outputs": [
    {
     "data": {
      "text/plain": [
       "0.6729359567901234"
      ]
     },
     "execution_count": 31,
     "metadata": {},
     "output_type": "execute_result"
    }
   ],
   "outputs_reference": "dbtable:cell_outputs/bf246bef-c512-4854-85a6-9304c56132f4",
   "source": [
    "clf_nb = GaussianNB()\n",
    "\n",
    "clf_nb.fit(X, y_train)\n",
    "\n",
    "joblib.dump(clf_nb, 'asset/data/stacking/meta_clf.joblib')\n",
    "\n",
    "clf_nb.score(X, y_train)"
   ]
  },
  {
   "block_group": "e44c1c95f4514ced816b8376bcc52465",
   "cell_type": "markdown",
   "metadata": {
    "cell_id": "24f7b869059c4a36aa100ea47205cfe1",
    "deepnote_cell_type": "text-cell-h3",
    "formattedRanges": []
   },
   "source": [
    "### Make prediction function"
   ]
  },
  {
   "block_group": "4cb333b962a84ab4a1dbc4617ab5e72f",
   "cell_type": "code",
   "content_dependencies": null,
   "execution_count": 34,
   "metadata": {
    "cell_id": "8192f9c631374d2c912da8ffd0e2c962",
    "deepnote_cell_type": "code",
    "deepnote_to_be_reexecuted": false,
    "execution_millis": 62,
    "execution_start": 1719409358647,
    "source_hash": "14a44c73"
   },
   "outputs": [],
   "outputs_reference": null,
   "source": [
    "def stackingClassifier(data):\n",
    "  result_n_3 = pd.DataFrame(clf_n_3.predict(data), columns=['P1'])\n",
    "  result_n_5 = pd.DataFrame(clf_n_5.predict(data), columns=['P2'])\n",
    "  data = pd.concat([result_n_3, result_n_5], axis=1)\n",
    "  x_predict = pd.get_dummies(data,prefix=[\"P1\",\"P2\"],columns=[\"P1\",\"P2\"], dtype='int')\n",
    "  x\n",
    "  if 'P1_not_recom' not in x_predict.columns and 'P2_not_recom' not in x_predict.columns:\n",
    "    x_predict.insert(0, \"P1_not_recom\", 0, True)\n",
    "    x_predict.insert(1, \"P2_not_recom\", 0, True)\n",
    "  if 'P1_priority' not in x_predict.columns and 'P2_priority' not in x_predict.columns:\n",
    "    x_predict.insert(2, \"P1_priority\", 0, True)\n",
    "    x_predict.insert(3, \"P2_priority\", 0, True)\n",
    "  if 'P1_spec_prior' not in x_predict.columns and 'P2_spec_prior' not in x_predict.columns:\n",
    "    x_predict.insert(4, \"P1_spec_prior\", 0, True)\n",
    "    x_predict.insert(5, \"P2_spec_prior\", 0, True)\n",
    "  if 'P1_very_recom' not in x_predict.columns and 'P2_very_recom' not in x_predict.columns:\n",
    "    x_predict.insert(6, \"P1_very_recom\", 0, True)\n",
    "    x_predict.insert(7, \"P2_very_recom\", 0, True)\n",
    "  return clf_nb.predict(x_predict), clf_nb.score(X, y_train)"
   ]
  },
  {
   "block_group": "39e4cd3071d44328be550adf65dc8fc4",
   "cell_type": "markdown",
   "metadata": {
    "cell_id": "79100e2e352b48b1a7dd0f3b2339bb74",
    "deepnote_cell_type": "text-cell-h3",
    "formattedRanges": []
   },
   "source": [
    "### Prediction test"
   ]
  },
  {
   "block_group": "55e5a685655a420e932b46a3a124fc04",
   "cell_type": "code",
   "content_dependencies": null,
   "execution_count": 35,
   "metadata": {
    "cell_id": "fd7dc028ec7d446785652b5e39e8ebcf",
    "deepnote_cell_type": "code",
    "deepnote_to_be_reexecuted": false,
    "execution_millis": 179,
    "execution_start": 1719409368886,
    "source_hash": "1e9be255"
   },
   "outputs": [
    {
     "name": "stdout",
     "output_type": "stream",
     "text": [
      "prediction : ['priority'], accuration : 0.6729359567901234\n",
      "/usr/local/lib/python3.9/site-packages/sklearn/base.py:493: FutureWarning: The feature names should match those that were passed during fit. Starting version 1.2, an error will be raised.\n",
      "Feature names must be in the same order as they were in fit.\n",
      "\n",
      "  warnings.warn(message, FutureWarning)\n"
     ]
    }
   ],
   "outputs_reference": "dbtable:cell_outputs/1a301de5-6a28-4357-9b62-0d11d1d5861a",
   "source": [
    "data = df_test.head(1).drop('Class', axis=1)\n",
    "prediction, score = stackingClassifier(data)\n",
    "print(f'prediction : {prediction}, accuration : {score}')"
   ]
  },
  {
   "block_group": "f53d2aaa9cc7435ab036a759fcfb028b",
   "cell_type": "markdown",
   "metadata": {
    "cell_id": "1dc824bd9a534fefab4c4165b2bbeea1",
    "deepnote_cell_type": "text-cell-h2",
    "formattedRanges": []
   },
   "source": [
    "## Bagging"
   ]
  },
  {
   "block_group": "92dbe3eb0f9445df91aac844800089d9",
   "cell_type": "markdown",
   "metadata": {
    "cell_id": "708a5f22561241489f4815b305795bf2",
    "deepnote_cell_type": "text-cell-h3",
    "formattedRanges": []
   },
   "source": [
    "### Make boostrap sample data"
   ]
  },
  {
   "block_group": "6de57e355ff0405e82c3cdd5c17a9d69",
   "cell_type": "code",
   "content_dependencies": null,
   "execution_count": 36,
   "metadata": {
    "cell_id": "8d7b27fec7d24ba7a95a91efa0a93f8a",
    "deepnote_cell_type": "code",
    "deepnote_to_be_reexecuted": false,
    "execution_millis": 277,
    "execution_start": 1719409412735,
    "source_hash": "57fef001"
   },
   "outputs": [
    {
     "data": {
      "application/vnd.deepnote.dataframe.v3+json": {
       "column_count": 9,
       "columns": [
        {
         "dtype": "int64",
         "name": "Parents",
         "stats": {
          "histogram": [
           {
            "bin_end": 0.2,
            "bin_start": 0,
            "count": 3479
           },
           {
            "bin_end": 0.4,
            "bin_start": 0.2,
            "count": 0
           },
           {
            "bin_end": 0.6000000000000001,
            "bin_start": 0.4,
            "count": 0
           },
           {
            "bin_end": 0.8,
            "bin_start": 0.6000000000000001,
            "count": 0
           },
           {
            "bin_end": 1,
            "bin_start": 0.8,
            "count": 0
           },
           {
            "bin_end": 1.2000000000000002,
            "bin_start": 1,
            "count": 3465
           },
           {
            "bin_end": 1.4000000000000001,
            "bin_start": 1.2000000000000002,
            "count": 0
           },
           {
            "bin_end": 1.6,
            "bin_start": 1.4000000000000001,
            "count": 0
           },
           {
            "bin_end": 1.8,
            "bin_start": 1.6,
            "count": 0
           },
           {
            "bin_end": 2,
            "bin_start": 1.8,
            "count": 3424
           }
          ],
          "max": "2",
          "min": "0",
          "nan_count": 0,
          "unique_count": 3
         }
        },
        {
         "dtype": "int64",
         "name": "Has_nurs",
         "stats": {
          "histogram": [
           {
            "bin_end": 0.4,
            "bin_start": 0,
            "count": 2078
           },
           {
            "bin_end": 0.8,
            "bin_start": 0.4,
            "count": 0
           },
           {
            "bin_end": 1.2000000000000002,
            "bin_start": 0.8,
            "count": 2080
           },
           {
            "bin_end": 1.6,
            "bin_start": 1.2000000000000002,
            "count": 0
           },
           {
            "bin_end": 2,
            "bin_start": 1.6,
            "count": 0
           },
           {
            "bin_end": 2.4000000000000004,
            "bin_start": 2,
            "count": 2092
           },
           {
            "bin_end": 2.8000000000000003,
            "bin_start": 2.4000000000000004,
            "count": 0
           },
           {
            "bin_end": 3.2,
            "bin_start": 2.8000000000000003,
            "count": 2055
           },
           {
            "bin_end": 3.6,
            "bin_start": 3.2,
            "count": 0
           },
           {
            "bin_end": 4,
            "bin_start": 3.6,
            "count": 2063
           }
          ],
          "max": "4",
          "min": "0",
          "nan_count": 0,
          "unique_count": 5
         }
        },
        {
         "dtype": "int64",
         "name": "Form",
         "stats": {
          "histogram": [
           {
            "bin_end": 0.3,
            "bin_start": 0,
            "count": 2630
           },
           {
            "bin_end": 0.6,
            "bin_start": 0.3,
            "count": 0
           },
           {
            "bin_end": 0.8999999999999999,
            "bin_start": 0.6,
            "count": 0
           },
           {
            "bin_end": 1.2,
            "bin_start": 0.8999999999999999,
            "count": 2586
           },
           {
            "bin_end": 1.5,
            "bin_start": 1.2,
            "count": 0
           },
           {
            "bin_end": 1.7999999999999998,
            "bin_start": 1.5,
            "count": 0
           },
           {
            "bin_end": 2.1,
            "bin_start": 1.7999999999999998,
            "count": 2580
           },
           {
            "bin_end": 2.4,
            "bin_start": 2.1,
            "count": 0
           },
           {
            "bin_end": 2.6999999999999997,
            "bin_start": 2.4,
            "count": 0
           },
           {
            "bin_end": 3,
            "bin_start": 2.6999999999999997,
            "count": 2572
           }
          ],
          "max": "3",
          "min": "0",
          "nan_count": 0,
          "unique_count": 4
         }
        },
        {
         "dtype": "int64",
         "name": "Children",
         "stats": {
          "histogram": [
           {
            "bin_end": 0.3,
            "bin_start": 0,
            "count": 2586
           },
           {
            "bin_end": 0.6,
            "bin_start": 0.3,
            "count": 0
           },
           {
            "bin_end": 0.8999999999999999,
            "bin_start": 0.6,
            "count": 0
           },
           {
            "bin_end": 1.2,
            "bin_start": 0.8999999999999999,
            "count": 2598
           },
           {
            "bin_end": 1.5,
            "bin_start": 1.2,
            "count": 0
           },
           {
            "bin_end": 1.7999999999999998,
            "bin_start": 1.5,
            "count": 0
           },
           {
            "bin_end": 2.1,
            "bin_start": 1.7999999999999998,
            "count": 2590
           },
           {
            "bin_end": 2.4,
            "bin_start": 2.1,
            "count": 0
           },
           {
            "bin_end": 2.6999999999999997,
            "bin_start": 2.4,
            "count": 0
           },
           {
            "bin_end": 3,
            "bin_start": 2.6999999999999997,
            "count": 2594
           }
          ],
          "max": "3",
          "min": "0",
          "nan_count": 0,
          "unique_count": 4
         }
        },
        {
         "dtype": "int64",
         "name": "Housing",
         "stats": {
          "histogram": [
           {
            "bin_end": 0.2,
            "bin_start": 0,
            "count": 3443
           },
           {
            "bin_end": 0.4,
            "bin_start": 0.2,
            "count": 0
           },
           {
            "bin_end": 0.6000000000000001,
            "bin_start": 0.4,
            "count": 0
           },
           {
            "bin_end": 0.8,
            "bin_start": 0.6000000000000001,
            "count": 0
           },
           {
            "bin_end": 1,
            "bin_start": 0.8,
            "count": 0
           },
           {
            "bin_end": 1.2000000000000002,
            "bin_start": 1,
            "count": 3451
           },
           {
            "bin_end": 1.4000000000000001,
            "bin_start": 1.2000000000000002,
            "count": 0
           },
           {
            "bin_end": 1.6,
            "bin_start": 1.4000000000000001,
            "count": 0
           },
           {
            "bin_end": 1.8,
            "bin_start": 1.6,
            "count": 0
           },
           {
            "bin_end": 2,
            "bin_start": 1.8,
            "count": 3474
           }
          ],
          "max": "2",
          "min": "0",
          "nan_count": 0,
          "unique_count": 3
         }
        },
        {
         "dtype": "int64",
         "name": "Finance",
         "stats": {
          "histogram": [
           {
            "bin_end": 0.1,
            "bin_start": 0,
            "count": 5192
           },
           {
            "bin_end": 0.2,
            "bin_start": 0.1,
            "count": 0
           },
           {
            "bin_end": 0.30000000000000004,
            "bin_start": 0.2,
            "count": 0
           },
           {
            "bin_end": 0.4,
            "bin_start": 0.30000000000000004,
            "count": 0
           },
           {
            "bin_end": 0.5,
            "bin_start": 0.4,
            "count": 0
           },
           {
            "bin_end": 0.6000000000000001,
            "bin_start": 0.5,
            "count": 0
           },
           {
            "bin_end": 0.7000000000000001,
            "bin_start": 0.6000000000000001,
            "count": 0
           },
           {
            "bin_end": 0.8,
            "bin_start": 0.7000000000000001,
            "count": 0
           },
           {
            "bin_end": 0.9,
            "bin_start": 0.8,
            "count": 0
           },
           {
            "bin_end": 1,
            "bin_start": 0.9,
            "count": 5176
           }
          ],
          "max": "1",
          "min": "0",
          "nan_count": 0,
          "unique_count": 2
         }
        },
        {
         "dtype": "int64",
         "name": "Social",
         "stats": {
          "histogram": [
           {
            "bin_end": 0.2,
            "bin_start": 0,
            "count": 3461
           },
           {
            "bin_end": 0.4,
            "bin_start": 0.2,
            "count": 0
           },
           {
            "bin_end": 0.6000000000000001,
            "bin_start": 0.4,
            "count": 0
           },
           {
            "bin_end": 0.8,
            "bin_start": 0.6000000000000001,
            "count": 0
           },
           {
            "bin_end": 1,
            "bin_start": 0.8,
            "count": 0
           },
           {
            "bin_end": 1.2000000000000002,
            "bin_start": 1,
            "count": 3462
           },
           {
            "bin_end": 1.4000000000000001,
            "bin_start": 1.2000000000000002,
            "count": 0
           },
           {
            "bin_end": 1.6,
            "bin_start": 1.4000000000000001,
            "count": 0
           },
           {
            "bin_end": 1.8,
            "bin_start": 1.6,
            "count": 0
           },
           {
            "bin_end": 2,
            "bin_start": 1.8,
            "count": 3445
           }
          ],
          "max": "2",
          "min": "0",
          "nan_count": 0,
          "unique_count": 3
         }
        },
        {
         "dtype": "int64",
         "name": "Health",
         "stats": {
          "histogram": [
           {
            "bin_end": 0.2,
            "bin_start": 0,
            "count": 3450
           },
           {
            "bin_end": 0.4,
            "bin_start": 0.2,
            "count": 0
           },
           {
            "bin_end": 0.6000000000000001,
            "bin_start": 0.4,
            "count": 0
           },
           {
            "bin_end": 0.8,
            "bin_start": 0.6000000000000001,
            "count": 0
           },
           {
            "bin_end": 1,
            "bin_start": 0.8,
            "count": 0
           },
           {
            "bin_end": 1.2000000000000002,
            "bin_start": 1,
            "count": 3447
           },
           {
            "bin_end": 1.4000000000000001,
            "bin_start": 1.2000000000000002,
            "count": 0
           },
           {
            "bin_end": 1.6,
            "bin_start": 1.4000000000000001,
            "count": 0
           },
           {
            "bin_end": 1.8,
            "bin_start": 1.6,
            "count": 0
           },
           {
            "bin_end": 2,
            "bin_start": 1.8,
            "count": 3471
           }
          ],
          "max": "2",
          "min": "0",
          "nan_count": 0,
          "unique_count": 3
         }
        },
        {
         "dtype": "object",
         "name": "Class",
         "stats": {
          "categories": [
           {
            "count": 3450,
            "name": "not_recom"
           },
           {
            "count": 3393,
            "name": "priority"
           },
           {
            "count": 3525,
            "name": "2 others"
           }
          ],
          "nan_count": 0,
          "unique_count": 4
         }
        },
        {
         "dtype": "int64",
         "name": "_deepnote_index_column"
        }
       ],
       "row_count": 10368,
       "rows": [
        {
         "Children": 1,
         "Class": "not_recom",
         "Finance": 0,
         "Form": 3,
         "Has_nurs": 1,
         "Health": 0,
         "Housing": 2,
         "Parents": 2,
         "Social": 0,
         "_deepnote_index_column": 2234
        },
        {
         "Children": 2,
         "Class": "not_recom",
         "Finance": 1,
         "Form": 3,
         "Has_nurs": 0,
         "Health": 0,
         "Housing": 1,
         "Parents": 2,
         "Social": 1,
         "_deepnote_index_column": 3185
        },
        {
         "Children": 3,
         "Class": "spec_prior",
         "Finance": 1,
         "Form": 3,
         "Has_nurs": 4,
         "Health": 2,
         "Housing": 2,
         "Parents": 2,
         "Social": 2,
         "_deepnote_index_column": 4080
        },
        {
         "Children": 1,
         "Class": "not_recom",
         "Finance": 0,
         "Form": 2,
         "Has_nurs": 1,
         "Health": 0,
         "Housing": 0,
         "Parents": 2,
         "Social": 0,
         "_deepnote_index_column": 2432
        },
        {
         "Children": 0,
         "Class": "spec_prior",
         "Finance": 1,
         "Form": 1,
         "Has_nurs": 4,
         "Health": 1,
         "Housing": 2,
         "Parents": 1,
         "Social": 2,
         "_deepnote_index_column": 8023
        },
        {
         "Children": 0,
         "Class": "not_recom",
         "Finance": 1,
         "Form": 1,
         "Has_nurs": 0,
         "Health": 0,
         "Housing": 1,
         "Parents": 0,
         "Social": 0,
         "_deepnote_index_column": 11495
        },
        {
         "Children": 2,
         "Class": "spec_prior",
         "Finance": 0,
         "Form": 3,
         "Has_nurs": 4,
         "Health": 1,
         "Housing": 2,
         "Parents": 0,
         "Social": 1,
         "_deepnote_index_column": 12661
        },
        {
         "Children": 2,
         "Class": "spec_prior",
         "Finance": 0,
         "Form": 1,
         "Has_nurs": 4,
         "Health": 1,
         "Housing": 2,
         "Parents": 1,
         "Social": 1,
         "_deepnote_index_column": 8125
        },
        {
         "Children": 1,
         "Class": "priority",
         "Finance": 0,
         "Form": 3,
         "Has_nurs": 2,
         "Health": 2,
         "Housing": 1,
         "Parents": 0,
         "Social": 0,
         "_deepnote_index_column": 10026
        },
        {
         "Children": 2,
         "Class": "spec_prior",
         "Finance": 1,
         "Form": 3,
         "Has_nurs": 2,
         "Health": 1,
         "Housing": 0,
         "Parents": 0,
         "Social": 1,
         "_deepnote_index_column": 10060
        }
       ]
      },
      "text/html": [
       "<div>\n",
       "<style scoped>\n",
       "    .dataframe tbody tr th:only-of-type {\n",
       "        vertical-align: middle;\n",
       "    }\n",
       "\n",
       "    .dataframe tbody tr th {\n",
       "        vertical-align: top;\n",
       "    }\n",
       "\n",
       "    .dataframe thead th {\n",
       "        text-align: right;\n",
       "    }\n",
       "</style>\n",
       "<table border=\"1\" class=\"dataframe\">\n",
       "  <thead>\n",
       "    <tr style=\"text-align: right;\">\n",
       "      <th></th>\n",
       "      <th>Parents</th>\n",
       "      <th>Has_nurs</th>\n",
       "      <th>Form</th>\n",
       "      <th>Children</th>\n",
       "      <th>Housing</th>\n",
       "      <th>Finance</th>\n",
       "      <th>Social</th>\n",
       "      <th>Health</th>\n",
       "      <th>Class</th>\n",
       "    </tr>\n",
       "  </thead>\n",
       "  <tbody>\n",
       "    <tr>\n",
       "      <th>2234</th>\n",
       "      <td>2</td>\n",
       "      <td>1</td>\n",
       "      <td>3</td>\n",
       "      <td>1</td>\n",
       "      <td>2</td>\n",
       "      <td>0</td>\n",
       "      <td>0</td>\n",
       "      <td>0</td>\n",
       "      <td>not_recom</td>\n",
       "    </tr>\n",
       "    <tr>\n",
       "      <th>3185</th>\n",
       "      <td>2</td>\n",
       "      <td>0</td>\n",
       "      <td>3</td>\n",
       "      <td>2</td>\n",
       "      <td>1</td>\n",
       "      <td>1</td>\n",
       "      <td>1</td>\n",
       "      <td>0</td>\n",
       "      <td>not_recom</td>\n",
       "    </tr>\n",
       "    <tr>\n",
       "      <th>4080</th>\n",
       "      <td>2</td>\n",
       "      <td>4</td>\n",
       "      <td>3</td>\n",
       "      <td>3</td>\n",
       "      <td>2</td>\n",
       "      <td>1</td>\n",
       "      <td>2</td>\n",
       "      <td>2</td>\n",
       "      <td>spec_prior</td>\n",
       "    </tr>\n",
       "    <tr>\n",
       "      <th>2432</th>\n",
       "      <td>2</td>\n",
       "      <td>1</td>\n",
       "      <td>2</td>\n",
       "      <td>1</td>\n",
       "      <td>0</td>\n",
       "      <td>0</td>\n",
       "      <td>0</td>\n",
       "      <td>0</td>\n",
       "      <td>not_recom</td>\n",
       "    </tr>\n",
       "    <tr>\n",
       "      <th>8023</th>\n",
       "      <td>1</td>\n",
       "      <td>4</td>\n",
       "      <td>1</td>\n",
       "      <td>0</td>\n",
       "      <td>2</td>\n",
       "      <td>1</td>\n",
       "      <td>2</td>\n",
       "      <td>1</td>\n",
       "      <td>spec_prior</td>\n",
       "    </tr>\n",
       "    <tr>\n",
       "      <th>...</th>\n",
       "      <td>...</td>\n",
       "      <td>...</td>\n",
       "      <td>...</td>\n",
       "      <td>...</td>\n",
       "      <td>...</td>\n",
       "      <td>...</td>\n",
       "      <td>...</td>\n",
       "      <td>...</td>\n",
       "      <td>...</td>\n",
       "    </tr>\n",
       "    <tr>\n",
       "      <th>4229</th>\n",
       "      <td>2</td>\n",
       "      <td>4</td>\n",
       "      <td>2</td>\n",
       "      <td>2</td>\n",
       "      <td>0</td>\n",
       "      <td>1</td>\n",
       "      <td>1</td>\n",
       "      <td>0</td>\n",
       "      <td>not_recom</td>\n",
       "    </tr>\n",
       "    <tr>\n",
       "      <th>959</th>\n",
       "      <td>2</td>\n",
       "      <td>2</td>\n",
       "      <td>0</td>\n",
       "      <td>1</td>\n",
       "      <td>1</td>\n",
       "      <td>0</td>\n",
       "      <td>2</td>\n",
       "      <td>0</td>\n",
       "      <td>not_recom</td>\n",
       "    </tr>\n",
       "    <tr>\n",
       "      <th>10033</th>\n",
       "      <td>0</td>\n",
       "      <td>2</td>\n",
       "      <td>3</td>\n",
       "      <td>1</td>\n",
       "      <td>1</td>\n",
       "      <td>0</td>\n",
       "      <td>1</td>\n",
       "      <td>1</td>\n",
       "      <td>spec_prior</td>\n",
       "    </tr>\n",
       "    <tr>\n",
       "      <th>6931</th>\n",
       "      <td>1</td>\n",
       "      <td>0</td>\n",
       "      <td>0</td>\n",
       "      <td>0</td>\n",
       "      <td>2</td>\n",
       "      <td>0</td>\n",
       "      <td>0</td>\n",
       "      <td>1</td>\n",
       "      <td>spec_prior</td>\n",
       "    </tr>\n",
       "    <tr>\n",
       "      <th>8476</th>\n",
       "      <td>1</td>\n",
       "      <td>4</td>\n",
       "      <td>2</td>\n",
       "      <td>0</td>\n",
       "      <td>1</td>\n",
       "      <td>1</td>\n",
       "      <td>1</td>\n",
       "      <td>1</td>\n",
       "      <td>spec_prior</td>\n",
       "    </tr>\n",
       "  </tbody>\n",
       "</table>\n",
       "<p>10368 rows × 9 columns</p>\n",
       "</div>"
      ],
      "text/plain": [
       "       Parents  Has_nurs  Form  Children  Housing  Finance  Social  Health  \\\n",
       "2234         2         1     3         1        2        0       0       0   \n",
       "3185         2         0     3         2        1        1       1       0   \n",
       "4080         2         4     3         3        2        1       2       2   \n",
       "2432         2         1     2         1        0        0       0       0   \n",
       "8023         1         4     1         0        2        1       2       1   \n",
       "...        ...       ...   ...       ...      ...      ...     ...     ...   \n",
       "4229         2         4     2         2        0        1       1       0   \n",
       "959          2         2     0         1        1        0       2       0   \n",
       "10033        0         2     3         1        1        0       1       1   \n",
       "6931         1         0     0         0        2        0       0       1   \n",
       "8476         1         4     2         0        1        1       1       1   \n",
       "\n",
       "            Class  \n",
       "2234    not_recom  \n",
       "3185    not_recom  \n",
       "4080   spec_prior  \n",
       "2432    not_recom  \n",
       "8023   spec_prior  \n",
       "...           ...  \n",
       "4229    not_recom  \n",
       "959     not_recom  \n",
       "10033  spec_prior  \n",
       "6931   spec_prior  \n",
       "8476   spec_prior  \n",
       "\n",
       "[10368 rows x 9 columns]"
      ]
     },
     "execution_count": 36,
     "metadata": {},
     "output_type": "execute_result"
    }
   ],
   "outputs_reference": "s3:deepnote-cell-outputs-production/59caff85-c913-43b2-b2a5-4422ba94f71e",
   "source": [
    "B1 = df_train.sample(frac=1)\n",
    "\n",
    "B1"
   ]
  },
  {
   "block_group": "fc2e43cbef374fb38f8c398df81503ef",
   "cell_type": "code",
   "content_dependencies": null,
   "execution_count": 37,
   "metadata": {
    "cell_id": "d2426108fa294108a689ee11a518135c",
    "deepnote_cell_type": "code",
    "deepnote_to_be_reexecuted": false,
    "execution_millis": 225,
    "execution_start": 1719409423352,
    "source_hash": "cc57e32"
   },
   "outputs": [
    {
     "data": {
      "application/vnd.deepnote.dataframe.v3+json": {
       "column_count": 9,
       "columns": [
        {
         "dtype": "int64",
         "name": "Parents",
         "stats": {
          "histogram": [
           {
            "bin_end": 0.2,
            "bin_start": 0,
            "count": 3479
           },
           {
            "bin_end": 0.4,
            "bin_start": 0.2,
            "count": 0
           },
           {
            "bin_end": 0.6000000000000001,
            "bin_start": 0.4,
            "count": 0
           },
           {
            "bin_end": 0.8,
            "bin_start": 0.6000000000000001,
            "count": 0
           },
           {
            "bin_end": 1,
            "bin_start": 0.8,
            "count": 0
           },
           {
            "bin_end": 1.2000000000000002,
            "bin_start": 1,
            "count": 3465
           },
           {
            "bin_end": 1.4000000000000001,
            "bin_start": 1.2000000000000002,
            "count": 0
           },
           {
            "bin_end": 1.6,
            "bin_start": 1.4000000000000001,
            "count": 0
           },
           {
            "bin_end": 1.8,
            "bin_start": 1.6,
            "count": 0
           },
           {
            "bin_end": 2,
            "bin_start": 1.8,
            "count": 3424
           }
          ],
          "max": "2",
          "min": "0",
          "nan_count": 0,
          "unique_count": 3
         }
        },
        {
         "dtype": "int64",
         "name": "Has_nurs",
         "stats": {
          "histogram": [
           {
            "bin_end": 0.4,
            "bin_start": 0,
            "count": 2078
           },
           {
            "bin_end": 0.8,
            "bin_start": 0.4,
            "count": 0
           },
           {
            "bin_end": 1.2000000000000002,
            "bin_start": 0.8,
            "count": 2080
           },
           {
            "bin_end": 1.6,
            "bin_start": 1.2000000000000002,
            "count": 0
           },
           {
            "bin_end": 2,
            "bin_start": 1.6,
            "count": 0
           },
           {
            "bin_end": 2.4000000000000004,
            "bin_start": 2,
            "count": 2092
           },
           {
            "bin_end": 2.8000000000000003,
            "bin_start": 2.4000000000000004,
            "count": 0
           },
           {
            "bin_end": 3.2,
            "bin_start": 2.8000000000000003,
            "count": 2055
           },
           {
            "bin_end": 3.6,
            "bin_start": 3.2,
            "count": 0
           },
           {
            "bin_end": 4,
            "bin_start": 3.6,
            "count": 2063
           }
          ],
          "max": "4",
          "min": "0",
          "nan_count": 0,
          "unique_count": 5
         }
        },
        {
         "dtype": "int64",
         "name": "Form",
         "stats": {
          "histogram": [
           {
            "bin_end": 0.3,
            "bin_start": 0,
            "count": 2630
           },
           {
            "bin_end": 0.6,
            "bin_start": 0.3,
            "count": 0
           },
           {
            "bin_end": 0.8999999999999999,
            "bin_start": 0.6,
            "count": 0
           },
           {
            "bin_end": 1.2,
            "bin_start": 0.8999999999999999,
            "count": 2586
           },
           {
            "bin_end": 1.5,
            "bin_start": 1.2,
            "count": 0
           },
           {
            "bin_end": 1.7999999999999998,
            "bin_start": 1.5,
            "count": 0
           },
           {
            "bin_end": 2.1,
            "bin_start": 1.7999999999999998,
            "count": 2580
           },
           {
            "bin_end": 2.4,
            "bin_start": 2.1,
            "count": 0
           },
           {
            "bin_end": 2.6999999999999997,
            "bin_start": 2.4,
            "count": 0
           },
           {
            "bin_end": 3,
            "bin_start": 2.6999999999999997,
            "count": 2572
           }
          ],
          "max": "3",
          "min": "0",
          "nan_count": 0,
          "unique_count": 4
         }
        },
        {
         "dtype": "int64",
         "name": "Children",
         "stats": {
          "histogram": [
           {
            "bin_end": 0.3,
            "bin_start": 0,
            "count": 2586
           },
           {
            "bin_end": 0.6,
            "bin_start": 0.3,
            "count": 0
           },
           {
            "bin_end": 0.8999999999999999,
            "bin_start": 0.6,
            "count": 0
           },
           {
            "bin_end": 1.2,
            "bin_start": 0.8999999999999999,
            "count": 2598
           },
           {
            "bin_end": 1.5,
            "bin_start": 1.2,
            "count": 0
           },
           {
            "bin_end": 1.7999999999999998,
            "bin_start": 1.5,
            "count": 0
           },
           {
            "bin_end": 2.1,
            "bin_start": 1.7999999999999998,
            "count": 2590
           },
           {
            "bin_end": 2.4,
            "bin_start": 2.1,
            "count": 0
           },
           {
            "bin_end": 2.6999999999999997,
            "bin_start": 2.4,
            "count": 0
           },
           {
            "bin_end": 3,
            "bin_start": 2.6999999999999997,
            "count": 2594
           }
          ],
          "max": "3",
          "min": "0",
          "nan_count": 0,
          "unique_count": 4
         }
        },
        {
         "dtype": "int64",
         "name": "Housing",
         "stats": {
          "histogram": [
           {
            "bin_end": 0.2,
            "bin_start": 0,
            "count": 3443
           },
           {
            "bin_end": 0.4,
            "bin_start": 0.2,
            "count": 0
           },
           {
            "bin_end": 0.6000000000000001,
            "bin_start": 0.4,
            "count": 0
           },
           {
            "bin_end": 0.8,
            "bin_start": 0.6000000000000001,
            "count": 0
           },
           {
            "bin_end": 1,
            "bin_start": 0.8,
            "count": 0
           },
           {
            "bin_end": 1.2000000000000002,
            "bin_start": 1,
            "count": 3451
           },
           {
            "bin_end": 1.4000000000000001,
            "bin_start": 1.2000000000000002,
            "count": 0
           },
           {
            "bin_end": 1.6,
            "bin_start": 1.4000000000000001,
            "count": 0
           },
           {
            "bin_end": 1.8,
            "bin_start": 1.6,
            "count": 0
           },
           {
            "bin_end": 2,
            "bin_start": 1.8,
            "count": 3474
           }
          ],
          "max": "2",
          "min": "0",
          "nan_count": 0,
          "unique_count": 3
         }
        },
        {
         "dtype": "int64",
         "name": "Finance",
         "stats": {
          "histogram": [
           {
            "bin_end": 0.1,
            "bin_start": 0,
            "count": 5192
           },
           {
            "bin_end": 0.2,
            "bin_start": 0.1,
            "count": 0
           },
           {
            "bin_end": 0.30000000000000004,
            "bin_start": 0.2,
            "count": 0
           },
           {
            "bin_end": 0.4,
            "bin_start": 0.30000000000000004,
            "count": 0
           },
           {
            "bin_end": 0.5,
            "bin_start": 0.4,
            "count": 0
           },
           {
            "bin_end": 0.6000000000000001,
            "bin_start": 0.5,
            "count": 0
           },
           {
            "bin_end": 0.7000000000000001,
            "bin_start": 0.6000000000000001,
            "count": 0
           },
           {
            "bin_end": 0.8,
            "bin_start": 0.7000000000000001,
            "count": 0
           },
           {
            "bin_end": 0.9,
            "bin_start": 0.8,
            "count": 0
           },
           {
            "bin_end": 1,
            "bin_start": 0.9,
            "count": 5176
           }
          ],
          "max": "1",
          "min": "0",
          "nan_count": 0,
          "unique_count": 2
         }
        },
        {
         "dtype": "int64",
         "name": "Social",
         "stats": {
          "histogram": [
           {
            "bin_end": 0.2,
            "bin_start": 0,
            "count": 3461
           },
           {
            "bin_end": 0.4,
            "bin_start": 0.2,
            "count": 0
           },
           {
            "bin_end": 0.6000000000000001,
            "bin_start": 0.4,
            "count": 0
           },
           {
            "bin_end": 0.8,
            "bin_start": 0.6000000000000001,
            "count": 0
           },
           {
            "bin_end": 1,
            "bin_start": 0.8,
            "count": 0
           },
           {
            "bin_end": 1.2000000000000002,
            "bin_start": 1,
            "count": 3462
           },
           {
            "bin_end": 1.4000000000000001,
            "bin_start": 1.2000000000000002,
            "count": 0
           },
           {
            "bin_end": 1.6,
            "bin_start": 1.4000000000000001,
            "count": 0
           },
           {
            "bin_end": 1.8,
            "bin_start": 1.6,
            "count": 0
           },
           {
            "bin_end": 2,
            "bin_start": 1.8,
            "count": 3445
           }
          ],
          "max": "2",
          "min": "0",
          "nan_count": 0,
          "unique_count": 3
         }
        },
        {
         "dtype": "int64",
         "name": "Health",
         "stats": {
          "histogram": [
           {
            "bin_end": 0.2,
            "bin_start": 0,
            "count": 3450
           },
           {
            "bin_end": 0.4,
            "bin_start": 0.2,
            "count": 0
           },
           {
            "bin_end": 0.6000000000000001,
            "bin_start": 0.4,
            "count": 0
           },
           {
            "bin_end": 0.8,
            "bin_start": 0.6000000000000001,
            "count": 0
           },
           {
            "bin_end": 1,
            "bin_start": 0.8,
            "count": 0
           },
           {
            "bin_end": 1.2000000000000002,
            "bin_start": 1,
            "count": 3447
           },
           {
            "bin_end": 1.4000000000000001,
            "bin_start": 1.2000000000000002,
            "count": 0
           },
           {
            "bin_end": 1.6,
            "bin_start": 1.4000000000000001,
            "count": 0
           },
           {
            "bin_end": 1.8,
            "bin_start": 1.6,
            "count": 0
           },
           {
            "bin_end": 2,
            "bin_start": 1.8,
            "count": 3471
           }
          ],
          "max": "2",
          "min": "0",
          "nan_count": 0,
          "unique_count": 3
         }
        },
        {
         "dtype": "object",
         "name": "Class",
         "stats": {
          "categories": [
           {
            "count": 3450,
            "name": "not_recom"
           },
           {
            "count": 3393,
            "name": "priority"
           },
           {
            "count": 3525,
            "name": "2 others"
           }
          ],
          "nan_count": 0,
          "unique_count": 4
         }
        },
        {
         "dtype": "int64",
         "name": "_deepnote_index_column"
        }
       ],
       "row_count": 10368,
       "rows": [
        {
         "Children": 0,
         "Class": "priority",
         "Finance": 1,
         "Form": 1,
         "Has_nurs": 2,
         "Health": 1,
         "Housing": 2,
         "Parents": 0,
         "Social": 2,
         "_deepnote_index_column": 9751
        },
        {
         "Children": 2,
         "Class": "not_recom",
         "Finance": 0,
         "Form": 3,
         "Has_nurs": 4,
         "Health": 0,
         "Housing": 1,
         "Parents": 0,
         "Social": 0,
         "_deepnote_index_column": 12674
        },
        {
         "Children": 3,
         "Class": "priority",
         "Finance": 1,
         "Form": 2,
         "Has_nurs": 1,
         "Health": 1,
         "Housing": 2,
         "Parents": 2,
         "Social": 0,
         "_deepnote_index_column": 2566
        },
        {
         "Children": 3,
         "Class": "spec_prior",
         "Finance": 1,
         "Form": 1,
         "Has_nurs": 1,
         "Health": 2,
         "Housing": 1,
         "Parents": 0,
         "Social": 2,
         "_deepnote_index_column": 10794
        },
        {
         "Children": 3,
         "Class": "not_recom",
         "Finance": 1,
         "Form": 3,
         "Has_nurs": 4,
         "Health": 0,
         "Housing": 1,
         "Parents": 0,
         "Social": 0,
         "_deepnote_index_column": 12737
        },
        {
         "Children": 0,
         "Class": "spec_prior",
         "Finance": 1,
         "Form": 2,
         "Has_nurs": 3,
         "Health": 1,
         "Housing": 1,
         "Parents": 0,
         "Social": 0,
         "_deepnote_index_column": 9334
        },
        {
         "Children": 2,
         "Class": "priority",
         "Finance": 0,
         "Form": 2,
         "Has_nurs": 1,
         "Health": 1,
         "Housing": 0,
         "Parents": 1,
         "Social": 2,
         "_deepnote_index_column": 6808
        },
        {
         "Children": 1,
         "Class": "spec_prior",
         "Finance": 0,
         "Form": 3,
         "Has_nurs": 4,
         "Health": 2,
         "Housing": 2,
         "Parents": 2,
         "Social": 0,
         "_deepnote_index_column": 3960
        },
        {
         "Children": 0,
         "Class": "not_recom",
         "Finance": 1,
         "Form": 2,
         "Has_nurs": 1,
         "Health": 0,
         "Housing": 1,
         "Parents": 2,
         "Social": 0,
         "_deepnote_index_column": 2423
        },
        {
         "Children": 3,
         "Class": "not_recom",
         "Finance": 1,
         "Form": 2,
         "Has_nurs": 4,
         "Health": 0,
         "Housing": 0,
         "Parents": 2,
         "Social": 0,
         "_deepnote_index_column": 4277
        }
       ]
      },
      "text/html": [
       "<div>\n",
       "<style scoped>\n",
       "    .dataframe tbody tr th:only-of-type {\n",
       "        vertical-align: middle;\n",
       "    }\n",
       "\n",
       "    .dataframe tbody tr th {\n",
       "        vertical-align: top;\n",
       "    }\n",
       "\n",
       "    .dataframe thead th {\n",
       "        text-align: right;\n",
       "    }\n",
       "</style>\n",
       "<table border=\"1\" class=\"dataframe\">\n",
       "  <thead>\n",
       "    <tr style=\"text-align: right;\">\n",
       "      <th></th>\n",
       "      <th>Parents</th>\n",
       "      <th>Has_nurs</th>\n",
       "      <th>Form</th>\n",
       "      <th>Children</th>\n",
       "      <th>Housing</th>\n",
       "      <th>Finance</th>\n",
       "      <th>Social</th>\n",
       "      <th>Health</th>\n",
       "      <th>Class</th>\n",
       "    </tr>\n",
       "  </thead>\n",
       "  <tbody>\n",
       "    <tr>\n",
       "      <th>9751</th>\n",
       "      <td>0</td>\n",
       "      <td>2</td>\n",
       "      <td>1</td>\n",
       "      <td>0</td>\n",
       "      <td>2</td>\n",
       "      <td>1</td>\n",
       "      <td>2</td>\n",
       "      <td>1</td>\n",
       "      <td>priority</td>\n",
       "    </tr>\n",
       "    <tr>\n",
       "      <th>12674</th>\n",
       "      <td>0</td>\n",
       "      <td>4</td>\n",
       "      <td>3</td>\n",
       "      <td>2</td>\n",
       "      <td>1</td>\n",
       "      <td>0</td>\n",
       "      <td>0</td>\n",
       "      <td>0</td>\n",
       "      <td>not_recom</td>\n",
       "    </tr>\n",
       "    <tr>\n",
       "      <th>2566</th>\n",
       "      <td>2</td>\n",
       "      <td>1</td>\n",
       "      <td>2</td>\n",
       "      <td>3</td>\n",
       "      <td>2</td>\n",
       "      <td>1</td>\n",
       "      <td>0</td>\n",
       "      <td>1</td>\n",
       "      <td>priority</td>\n",
       "    </tr>\n",
       "    <tr>\n",
       "      <th>10794</th>\n",
       "      <td>0</td>\n",
       "      <td>1</td>\n",
       "      <td>1</td>\n",
       "      <td>3</td>\n",
       "      <td>1</td>\n",
       "      <td>1</td>\n",
       "      <td>2</td>\n",
       "      <td>2</td>\n",
       "      <td>spec_prior</td>\n",
       "    </tr>\n",
       "    <tr>\n",
       "      <th>12737</th>\n",
       "      <td>0</td>\n",
       "      <td>4</td>\n",
       "      <td>3</td>\n",
       "      <td>3</td>\n",
       "      <td>1</td>\n",
       "      <td>1</td>\n",
       "      <td>0</td>\n",
       "      <td>0</td>\n",
       "      <td>not_recom</td>\n",
       "    </tr>\n",
       "    <tr>\n",
       "      <th>...</th>\n",
       "      <td>...</td>\n",
       "      <td>...</td>\n",
       "      <td>...</td>\n",
       "      <td>...</td>\n",
       "      <td>...</td>\n",
       "      <td>...</td>\n",
       "      <td>...</td>\n",
       "      <td>...</td>\n",
       "      <td>...</td>\n",
       "    </tr>\n",
       "    <tr>\n",
       "      <th>10621</th>\n",
       "      <td>0</td>\n",
       "      <td>1</td>\n",
       "      <td>1</td>\n",
       "      <td>0</td>\n",
       "      <td>1</td>\n",
       "      <td>0</td>\n",
       "      <td>0</td>\n",
       "      <td>1</td>\n",
       "      <td>spec_prior</td>\n",
       "    </tr>\n",
       "    <tr>\n",
       "      <th>11435</th>\n",
       "      <td>0</td>\n",
       "      <td>0</td>\n",
       "      <td>0</td>\n",
       "      <td>3</td>\n",
       "      <td>1</td>\n",
       "      <td>0</td>\n",
       "      <td>2</td>\n",
       "      <td>0</td>\n",
       "      <td>not_recom</td>\n",
       "    </tr>\n",
       "    <tr>\n",
       "      <th>1299</th>\n",
       "      <td>2</td>\n",
       "      <td>2</td>\n",
       "      <td>3</td>\n",
       "      <td>0</td>\n",
       "      <td>0</td>\n",
       "      <td>0</td>\n",
       "      <td>2</td>\n",
       "      <td>2</td>\n",
       "      <td>very_recom</td>\n",
       "    </tr>\n",
       "    <tr>\n",
       "      <th>6980</th>\n",
       "      <td>1</td>\n",
       "      <td>0</td>\n",
       "      <td>0</td>\n",
       "      <td>1</td>\n",
       "      <td>0</td>\n",
       "      <td>1</td>\n",
       "      <td>2</td>\n",
       "      <td>0</td>\n",
       "      <td>not_recom</td>\n",
       "    </tr>\n",
       "    <tr>\n",
       "      <th>564</th>\n",
       "      <td>2</td>\n",
       "      <td>3</td>\n",
       "      <td>3</td>\n",
       "      <td>2</td>\n",
       "      <td>2</td>\n",
       "      <td>0</td>\n",
       "      <td>1</td>\n",
       "      <td>2</td>\n",
       "      <td>priority</td>\n",
       "    </tr>\n",
       "  </tbody>\n",
       "</table>\n",
       "<p>10368 rows × 9 columns</p>\n",
       "</div>"
      ],
      "text/plain": [
       "       Parents  Has_nurs  Form  Children  Housing  Finance  Social  Health  \\\n",
       "9751         0         2     1         0        2        1       2       1   \n",
       "12674        0         4     3         2        1        0       0       0   \n",
       "2566         2         1     2         3        2        1       0       1   \n",
       "10794        0         1     1         3        1        1       2       2   \n",
       "12737        0         4     3         3        1        1       0       0   \n",
       "...        ...       ...   ...       ...      ...      ...     ...     ...   \n",
       "10621        0         1     1         0        1        0       0       1   \n",
       "11435        0         0     0         3        1        0       2       0   \n",
       "1299         2         2     3         0        0        0       2       2   \n",
       "6980         1         0     0         1        0        1       2       0   \n",
       "564          2         3     3         2        2        0       1       2   \n",
       "\n",
       "            Class  \n",
       "9751     priority  \n",
       "12674   not_recom  \n",
       "2566     priority  \n",
       "10794  spec_prior  \n",
       "12737   not_recom  \n",
       "...           ...  \n",
       "10621  spec_prior  \n",
       "11435   not_recom  \n",
       "1299   very_recom  \n",
       "6980    not_recom  \n",
       "564      priority  \n",
       "\n",
       "[10368 rows x 9 columns]"
      ]
     },
     "execution_count": 37,
     "metadata": {},
     "output_type": "execute_result"
    }
   ],
   "outputs_reference": "s3:deepnote-cell-outputs-production/7cf15625-fd1a-4690-9b83-83a35d162082",
   "source": [
    "B2 = df_train.sample(frac=1)\n",
    "\n",
    "B2"
   ]
  },
  {
   "block_group": "8977e00a68184f229ce31edc28421e95",
   "cell_type": "code",
   "content_dependencies": null,
   "execution_count": 38,
   "metadata": {
    "cell_id": "1c700b6760754cf4b36d3cfba21b97d9",
    "deepnote_cell_type": "code",
    "deepnote_to_be_reexecuted": false,
    "execution_millis": 239,
    "execution_start": 1719409431233,
    "source_hash": "ac7223b4"
   },
   "outputs": [
    {
     "data": {
      "application/vnd.deepnote.dataframe.v3+json": {
       "column_count": 9,
       "columns": [
        {
         "dtype": "int64",
         "name": "Parents",
         "stats": {
          "histogram": [
           {
            "bin_end": 0.2,
            "bin_start": 0,
            "count": 3479
           },
           {
            "bin_end": 0.4,
            "bin_start": 0.2,
            "count": 0
           },
           {
            "bin_end": 0.6000000000000001,
            "bin_start": 0.4,
            "count": 0
           },
           {
            "bin_end": 0.8,
            "bin_start": 0.6000000000000001,
            "count": 0
           },
           {
            "bin_end": 1,
            "bin_start": 0.8,
            "count": 0
           },
           {
            "bin_end": 1.2000000000000002,
            "bin_start": 1,
            "count": 3465
           },
           {
            "bin_end": 1.4000000000000001,
            "bin_start": 1.2000000000000002,
            "count": 0
           },
           {
            "bin_end": 1.6,
            "bin_start": 1.4000000000000001,
            "count": 0
           },
           {
            "bin_end": 1.8,
            "bin_start": 1.6,
            "count": 0
           },
           {
            "bin_end": 2,
            "bin_start": 1.8,
            "count": 3424
           }
          ],
          "max": "2",
          "min": "0",
          "nan_count": 0,
          "unique_count": 3
         }
        },
        {
         "dtype": "int64",
         "name": "Has_nurs",
         "stats": {
          "histogram": [
           {
            "bin_end": 0.4,
            "bin_start": 0,
            "count": 2078
           },
           {
            "bin_end": 0.8,
            "bin_start": 0.4,
            "count": 0
           },
           {
            "bin_end": 1.2000000000000002,
            "bin_start": 0.8,
            "count": 2080
           },
           {
            "bin_end": 1.6,
            "bin_start": 1.2000000000000002,
            "count": 0
           },
           {
            "bin_end": 2,
            "bin_start": 1.6,
            "count": 0
           },
           {
            "bin_end": 2.4000000000000004,
            "bin_start": 2,
            "count": 2092
           },
           {
            "bin_end": 2.8000000000000003,
            "bin_start": 2.4000000000000004,
            "count": 0
           },
           {
            "bin_end": 3.2,
            "bin_start": 2.8000000000000003,
            "count": 2055
           },
           {
            "bin_end": 3.6,
            "bin_start": 3.2,
            "count": 0
           },
           {
            "bin_end": 4,
            "bin_start": 3.6,
            "count": 2063
           }
          ],
          "max": "4",
          "min": "0",
          "nan_count": 0,
          "unique_count": 5
         }
        },
        {
         "dtype": "int64",
         "name": "Form",
         "stats": {
          "histogram": [
           {
            "bin_end": 0.3,
            "bin_start": 0,
            "count": 2630
           },
           {
            "bin_end": 0.6,
            "bin_start": 0.3,
            "count": 0
           },
           {
            "bin_end": 0.8999999999999999,
            "bin_start": 0.6,
            "count": 0
           },
           {
            "bin_end": 1.2,
            "bin_start": 0.8999999999999999,
            "count": 2586
           },
           {
            "bin_end": 1.5,
            "bin_start": 1.2,
            "count": 0
           },
           {
            "bin_end": 1.7999999999999998,
            "bin_start": 1.5,
            "count": 0
           },
           {
            "bin_end": 2.1,
            "bin_start": 1.7999999999999998,
            "count": 2580
           },
           {
            "bin_end": 2.4,
            "bin_start": 2.1,
            "count": 0
           },
           {
            "bin_end": 2.6999999999999997,
            "bin_start": 2.4,
            "count": 0
           },
           {
            "bin_end": 3,
            "bin_start": 2.6999999999999997,
            "count": 2572
           }
          ],
          "max": "3",
          "min": "0",
          "nan_count": 0,
          "unique_count": 4
         }
        },
        {
         "dtype": "int64",
         "name": "Children",
         "stats": {
          "histogram": [
           {
            "bin_end": 0.3,
            "bin_start": 0,
            "count": 2586
           },
           {
            "bin_end": 0.6,
            "bin_start": 0.3,
            "count": 0
           },
           {
            "bin_end": 0.8999999999999999,
            "bin_start": 0.6,
            "count": 0
           },
           {
            "bin_end": 1.2,
            "bin_start": 0.8999999999999999,
            "count": 2598
           },
           {
            "bin_end": 1.5,
            "bin_start": 1.2,
            "count": 0
           },
           {
            "bin_end": 1.7999999999999998,
            "bin_start": 1.5,
            "count": 0
           },
           {
            "bin_end": 2.1,
            "bin_start": 1.7999999999999998,
            "count": 2590
           },
           {
            "bin_end": 2.4,
            "bin_start": 2.1,
            "count": 0
           },
           {
            "bin_end": 2.6999999999999997,
            "bin_start": 2.4,
            "count": 0
           },
           {
            "bin_end": 3,
            "bin_start": 2.6999999999999997,
            "count": 2594
           }
          ],
          "max": "3",
          "min": "0",
          "nan_count": 0,
          "unique_count": 4
         }
        },
        {
         "dtype": "int64",
         "name": "Housing",
         "stats": {
          "histogram": [
           {
            "bin_end": 0.2,
            "bin_start": 0,
            "count": 3443
           },
           {
            "bin_end": 0.4,
            "bin_start": 0.2,
            "count": 0
           },
           {
            "bin_end": 0.6000000000000001,
            "bin_start": 0.4,
            "count": 0
           },
           {
            "bin_end": 0.8,
            "bin_start": 0.6000000000000001,
            "count": 0
           },
           {
            "bin_end": 1,
            "bin_start": 0.8,
            "count": 0
           },
           {
            "bin_end": 1.2000000000000002,
            "bin_start": 1,
            "count": 3451
           },
           {
            "bin_end": 1.4000000000000001,
            "bin_start": 1.2000000000000002,
            "count": 0
           },
           {
            "bin_end": 1.6,
            "bin_start": 1.4000000000000001,
            "count": 0
           },
           {
            "bin_end": 1.8,
            "bin_start": 1.6,
            "count": 0
           },
           {
            "bin_end": 2,
            "bin_start": 1.8,
            "count": 3474
           }
          ],
          "max": "2",
          "min": "0",
          "nan_count": 0,
          "unique_count": 3
         }
        },
        {
         "dtype": "int64",
         "name": "Finance",
         "stats": {
          "histogram": [
           {
            "bin_end": 0.1,
            "bin_start": 0,
            "count": 5192
           },
           {
            "bin_end": 0.2,
            "bin_start": 0.1,
            "count": 0
           },
           {
            "bin_end": 0.30000000000000004,
            "bin_start": 0.2,
            "count": 0
           },
           {
            "bin_end": 0.4,
            "bin_start": 0.30000000000000004,
            "count": 0
           },
           {
            "bin_end": 0.5,
            "bin_start": 0.4,
            "count": 0
           },
           {
            "bin_end": 0.6000000000000001,
            "bin_start": 0.5,
            "count": 0
           },
           {
            "bin_end": 0.7000000000000001,
            "bin_start": 0.6000000000000001,
            "count": 0
           },
           {
            "bin_end": 0.8,
            "bin_start": 0.7000000000000001,
            "count": 0
           },
           {
            "bin_end": 0.9,
            "bin_start": 0.8,
            "count": 0
           },
           {
            "bin_end": 1,
            "bin_start": 0.9,
            "count": 5176
           }
          ],
          "max": "1",
          "min": "0",
          "nan_count": 0,
          "unique_count": 2
         }
        },
        {
         "dtype": "int64",
         "name": "Social",
         "stats": {
          "histogram": [
           {
            "bin_end": 0.2,
            "bin_start": 0,
            "count": 3461
           },
           {
            "bin_end": 0.4,
            "bin_start": 0.2,
            "count": 0
           },
           {
            "bin_end": 0.6000000000000001,
            "bin_start": 0.4,
            "count": 0
           },
           {
            "bin_end": 0.8,
            "bin_start": 0.6000000000000001,
            "count": 0
           },
           {
            "bin_end": 1,
            "bin_start": 0.8,
            "count": 0
           },
           {
            "bin_end": 1.2000000000000002,
            "bin_start": 1,
            "count": 3462
           },
           {
            "bin_end": 1.4000000000000001,
            "bin_start": 1.2000000000000002,
            "count": 0
           },
           {
            "bin_end": 1.6,
            "bin_start": 1.4000000000000001,
            "count": 0
           },
           {
            "bin_end": 1.8,
            "bin_start": 1.6,
            "count": 0
           },
           {
            "bin_end": 2,
            "bin_start": 1.8,
            "count": 3445
           }
          ],
          "max": "2",
          "min": "0",
          "nan_count": 0,
          "unique_count": 3
         }
        },
        {
         "dtype": "int64",
         "name": "Health",
         "stats": {
          "histogram": [
           {
            "bin_end": 0.2,
            "bin_start": 0,
            "count": 3450
           },
           {
            "bin_end": 0.4,
            "bin_start": 0.2,
            "count": 0
           },
           {
            "bin_end": 0.6000000000000001,
            "bin_start": 0.4,
            "count": 0
           },
           {
            "bin_end": 0.8,
            "bin_start": 0.6000000000000001,
            "count": 0
           },
           {
            "bin_end": 1,
            "bin_start": 0.8,
            "count": 0
           },
           {
            "bin_end": 1.2000000000000002,
            "bin_start": 1,
            "count": 3447
           },
           {
            "bin_end": 1.4000000000000001,
            "bin_start": 1.2000000000000002,
            "count": 0
           },
           {
            "bin_end": 1.6,
            "bin_start": 1.4000000000000001,
            "count": 0
           },
           {
            "bin_end": 1.8,
            "bin_start": 1.6,
            "count": 0
           },
           {
            "bin_end": 2,
            "bin_start": 1.8,
            "count": 3471
           }
          ],
          "max": "2",
          "min": "0",
          "nan_count": 0,
          "unique_count": 3
         }
        },
        {
         "dtype": "object",
         "name": "Class",
         "stats": {
          "categories": [
           {
            "count": 3450,
            "name": "not_recom"
           },
           {
            "count": 3393,
            "name": "priority"
           },
           {
            "count": 3525,
            "name": "2 others"
           }
          ],
          "nan_count": 0,
          "unique_count": 4
         }
        },
        {
         "dtype": "int64",
         "name": "_deepnote_index_column"
        }
       ],
       "row_count": 10368,
       "rows": [
        {
         "Children": 0,
         "Class": "spec_prior",
         "Finance": 1,
         "Form": 3,
         "Has_nurs": 0,
         "Health": 1,
         "Housing": 2,
         "Parents": 0,
         "Social": 0,
         "_deepnote_index_column": 11692
        },
        {
         "Children": 3,
         "Class": "priority",
         "Finance": 1,
         "Form": 0,
         "Has_nurs": 2,
         "Health": 1,
         "Housing": 2,
         "Parents": 1,
         "Social": 2,
         "_deepnote_index_column": 5377
        },
        {
         "Children": 3,
         "Class": "not_recom",
         "Finance": 0,
         "Form": 3,
         "Has_nurs": 1,
         "Health": 0,
         "Housing": 0,
         "Parents": 1,
         "Social": 2,
         "_deepnote_index_column": 6647
        },
        {
         "Children": 0,
         "Class": "priority",
         "Finance": 0,
         "Form": 1,
         "Has_nurs": 1,
         "Health": 2,
         "Housing": 1,
         "Parents": 1,
         "Social": 0,
         "_deepnote_index_column": 6300
        },
        {
         "Children": 1,
         "Class": "spec_prior",
         "Finance": 1,
         "Form": 1,
         "Has_nurs": 0,
         "Health": 2,
         "Housing": 1,
         "Parents": 0,
         "Social": 0,
         "_deepnote_index_column": 11547
        },
        {
         "Children": 0,
         "Class": "not_recom",
         "Finance": 1,
         "Form": 1,
         "Has_nurs": 4,
         "Health": 0,
         "Housing": 1,
         "Parents": 1,
         "Social": 2,
         "_deepnote_index_column": 8042
        },
        {
         "Children": 2,
         "Class": "spec_prior",
         "Finance": 1,
         "Form": 2,
         "Has_nurs": 1,
         "Health": 1,
         "Housing": 0,
         "Parents": 1,
         "Social": 0,
         "_deepnote_index_column": 6814
        },
        {
         "Children": 3,
         "Class": "not_recom",
         "Finance": 0,
         "Form": 2,
         "Has_nurs": 3,
         "Health": 0,
         "Housing": 0,
         "Parents": 2,
         "Social": 2,
         "_deepnote_index_column": 815
        },
        {
         "Children": 3,
         "Class": "spec_prior",
         "Finance": 0,
         "Form": 1,
         "Has_nurs": 2,
         "Health": 1,
         "Housing": 1,
         "Parents": 0,
         "Social": 0,
         "_deepnote_index_column": 9919
        },
        {
         "Children": 0,
         "Class": "spec_prior",
         "Finance": 0,
         "Form": 2,
         "Has_nurs": 4,
         "Health": 1,
         "Housing": 0,
         "Parents": 1,
         "Social": 2,
         "_deepnote_index_column": 8428
        }
       ]
      },
      "text/html": [
       "<div>\n",
       "<style scoped>\n",
       "    .dataframe tbody tr th:only-of-type {\n",
       "        vertical-align: middle;\n",
       "    }\n",
       "\n",
       "    .dataframe tbody tr th {\n",
       "        vertical-align: top;\n",
       "    }\n",
       "\n",
       "    .dataframe thead th {\n",
       "        text-align: right;\n",
       "    }\n",
       "</style>\n",
       "<table border=\"1\" class=\"dataframe\">\n",
       "  <thead>\n",
       "    <tr style=\"text-align: right;\">\n",
       "      <th></th>\n",
       "      <th>Parents</th>\n",
       "      <th>Has_nurs</th>\n",
       "      <th>Form</th>\n",
       "      <th>Children</th>\n",
       "      <th>Housing</th>\n",
       "      <th>Finance</th>\n",
       "      <th>Social</th>\n",
       "      <th>Health</th>\n",
       "      <th>Class</th>\n",
       "    </tr>\n",
       "  </thead>\n",
       "  <tbody>\n",
       "    <tr>\n",
       "      <th>11692</th>\n",
       "      <td>0</td>\n",
       "      <td>0</td>\n",
       "      <td>3</td>\n",
       "      <td>0</td>\n",
       "      <td>2</td>\n",
       "      <td>1</td>\n",
       "      <td>0</td>\n",
       "      <td>1</td>\n",
       "      <td>spec_prior</td>\n",
       "    </tr>\n",
       "    <tr>\n",
       "      <th>5377</th>\n",
       "      <td>1</td>\n",
       "      <td>2</td>\n",
       "      <td>0</td>\n",
       "      <td>3</td>\n",
       "      <td>2</td>\n",
       "      <td>1</td>\n",
       "      <td>2</td>\n",
       "      <td>1</td>\n",
       "      <td>priority</td>\n",
       "    </tr>\n",
       "    <tr>\n",
       "      <th>6647</th>\n",
       "      <td>1</td>\n",
       "      <td>1</td>\n",
       "      <td>3</td>\n",
       "      <td>3</td>\n",
       "      <td>0</td>\n",
       "      <td>0</td>\n",
       "      <td>2</td>\n",
       "      <td>0</td>\n",
       "      <td>not_recom</td>\n",
       "    </tr>\n",
       "    <tr>\n",
       "      <th>6300</th>\n",
       "      <td>1</td>\n",
       "      <td>1</td>\n",
       "      <td>1</td>\n",
       "      <td>0</td>\n",
       "      <td>1</td>\n",
       "      <td>0</td>\n",
       "      <td>0</td>\n",
       "      <td>2</td>\n",
       "      <td>priority</td>\n",
       "    </tr>\n",
       "    <tr>\n",
       "      <th>11547</th>\n",
       "      <td>0</td>\n",
       "      <td>0</td>\n",
       "      <td>1</td>\n",
       "      <td>1</td>\n",
       "      <td>1</td>\n",
       "      <td>1</td>\n",
       "      <td>0</td>\n",
       "      <td>2</td>\n",
       "      <td>spec_prior</td>\n",
       "    </tr>\n",
       "    <tr>\n",
       "      <th>...</th>\n",
       "      <td>...</td>\n",
       "      <td>...</td>\n",
       "      <td>...</td>\n",
       "      <td>...</td>\n",
       "      <td>...</td>\n",
       "      <td>...</td>\n",
       "      <td>...</td>\n",
       "      <td>...</td>\n",
       "      <td>...</td>\n",
       "    </tr>\n",
       "    <tr>\n",
       "      <th>11028</th>\n",
       "      <td>0</td>\n",
       "      <td>1</td>\n",
       "      <td>2</td>\n",
       "      <td>0</td>\n",
       "      <td>0</td>\n",
       "      <td>1</td>\n",
       "      <td>2</td>\n",
       "      <td>2</td>\n",
       "      <td>spec_prior</td>\n",
       "    </tr>\n",
       "    <tr>\n",
       "      <th>8895</th>\n",
       "      <td>0</td>\n",
       "      <td>3</td>\n",
       "      <td>1</td>\n",
       "      <td>0</td>\n",
       "      <td>1</td>\n",
       "      <td>0</td>\n",
       "      <td>2</td>\n",
       "      <td>2</td>\n",
       "      <td>priority</td>\n",
       "    </tr>\n",
       "    <tr>\n",
       "      <th>9238</th>\n",
       "      <td>0</td>\n",
       "      <td>3</td>\n",
       "      <td>3</td>\n",
       "      <td>3</td>\n",
       "      <td>0</td>\n",
       "      <td>0</td>\n",
       "      <td>2</td>\n",
       "      <td>1</td>\n",
       "      <td>priority</td>\n",
       "    </tr>\n",
       "    <tr>\n",
       "      <th>10862</th>\n",
       "      <td>0</td>\n",
       "      <td>1</td>\n",
       "      <td>3</td>\n",
       "      <td>1</td>\n",
       "      <td>0</td>\n",
       "      <td>0</td>\n",
       "      <td>1</td>\n",
       "      <td>0</td>\n",
       "      <td>not_recom</td>\n",
       "    </tr>\n",
       "    <tr>\n",
       "      <th>2421</th>\n",
       "      <td>2</td>\n",
       "      <td>1</td>\n",
       "      <td>2</td>\n",
       "      <td>0</td>\n",
       "      <td>1</td>\n",
       "      <td>1</td>\n",
       "      <td>0</td>\n",
       "      <td>2</td>\n",
       "      <td>priority</td>\n",
       "    </tr>\n",
       "  </tbody>\n",
       "</table>\n",
       "<p>10368 rows × 9 columns</p>\n",
       "</div>"
      ],
      "text/plain": [
       "       Parents  Has_nurs  Form  Children  Housing  Finance  Social  Health  \\\n",
       "11692        0         0     3         0        2        1       0       1   \n",
       "5377         1         2     0         3        2        1       2       1   \n",
       "6647         1         1     3         3        0        0       2       0   \n",
       "6300         1         1     1         0        1        0       0       2   \n",
       "11547        0         0     1         1        1        1       0       2   \n",
       "...        ...       ...   ...       ...      ...      ...     ...     ...   \n",
       "11028        0         1     2         0        0        1       2       2   \n",
       "8895         0         3     1         0        1        0       2       2   \n",
       "9238         0         3     3         3        0        0       2       1   \n",
       "10862        0         1     3         1        0        0       1       0   \n",
       "2421         2         1     2         0        1        1       0       2   \n",
       "\n",
       "            Class  \n",
       "11692  spec_prior  \n",
       "5377     priority  \n",
       "6647    not_recom  \n",
       "6300     priority  \n",
       "11547  spec_prior  \n",
       "...           ...  \n",
       "11028  spec_prior  \n",
       "8895     priority  \n",
       "9238     priority  \n",
       "10862   not_recom  \n",
       "2421     priority  \n",
       "\n",
       "[10368 rows x 9 columns]"
      ]
     },
     "execution_count": 38,
     "metadata": {},
     "output_type": "execute_result"
    }
   ],
   "outputs_reference": "s3:deepnote-cell-outputs-production/a781eb52-b494-4163-a597-4e2086ebe5bf",
   "source": [
    "B3 = df_train.sample(frac=1)\n",
    "\n",
    "B3"
   ]
  },
  {
   "block_group": "3fb36c9313384c0b8341df2ac0807cb7",
   "cell_type": "markdown",
   "metadata": {
    "cell_id": "d392c1e7fb0344d7b6b858122ea557a4",
    "deepnote_cell_type": "text-cell-h3",
    "formattedRanges": []
   },
   "source": [
    "### Modelling naive bayes"
   ]
  },
  {
   "block_group": "239c28d4d57e41e6a05693aabb40f42a",
   "cell_type": "markdown",
   "metadata": {
    "cell_id": "f3d528d4cdae4d2f91e92555480fd344",
    "deepnote_cell_type": "text-cell-p",
    "formattedRanges": []
   },
   "source": [
    "Make three Naives Bayes model as estimator to use in BaggingClassifiers"
   ]
  },
  {
   "block_group": "751f8783401946c1851bae93be4b1dfd",
   "cell_type": "code",
   "content_dependencies": null,
   "execution_count": 39,
   "metadata": {
    "cell_id": "c751f02e530c492187fbd838ffaccf3d",
    "deepnote_cell_type": "code",
    "deepnote_to_be_reexecuted": false,
    "execution_millis": 657,
    "execution_start": 1719409437422,
    "source_hash": "469b2e3"
   },
   "outputs": [],
   "outputs_reference": null,
   "source": [
    "B1_x = B1.drop(['Class'], axis=1)\n",
    "B1_y = B1['Class']\n",
    "\n",
    "M1 = GaussianNB()\n",
    "M1.fit(B1_x, B1_y)\n",
    "\n",
    "# saving model with joblib\n",
    "joblib.dump(M1, 'asset/data/bagging/m1.joblib')\n",
    "\n",
    "M1_predict = M1.predict(x_train)\n",
    "\n",
    "M1_result = pd.DataFrame(M1_predict, columns=['P1'])\n",
    "\n",
    "# M1.score(x_test, y_test)"
   ]
  },
  {
   "block_group": "194fb992708d4ec7bdb5b720786a2003",
   "cell_type": "code",
   "content_dependencies": null,
   "execution_count": 40,
   "metadata": {
    "cell_id": "ec32ce3d13ca4cfbba75785a4d2c7733",
    "deepnote_cell_type": "code",
    "deepnote_to_be_reexecuted": false,
    "execution_millis": 257,
    "execution_start": 1719409443819,
    "source_hash": "30ea6169"
   },
   "outputs": [],
   "outputs_reference": null,
   "source": [
    "B2_x = B2.drop(['Class'], axis=1)\n",
    "B2_y = B2['Class']\n",
    "\n",
    "M2 = GaussianNB()\n",
    "M2.fit(B2_x, B2_y)\n",
    "\n",
    "joblib.dump(M2, 'asset/data/bagging/m2.joblib')\n",
    "\n",
    "M2_predict = M2.predict(x_train)\n",
    "\n",
    "M2_result = pd.DataFrame(M2_predict, columns=['P2'])\n",
    "\n",
    "# M2.score(x_test, y_test)"
   ]
  },
  {
   "block_group": "2a44945c4a2c468286f742fca953d94c",
   "cell_type": "code",
   "content_dependencies": null,
   "execution_count": 41,
   "metadata": {
    "cell_id": "e1762ef4fafc4a1d828b77e6f5037963",
    "deepnote_cell_type": "code",
    "deepnote_to_be_reexecuted": false,
    "execution_millis": 382,
    "execution_start": 1719409449121,
    "source_hash": "473ba9eb"
   },
   "outputs": [],
   "outputs_reference": null,
   "source": [
    "B3_x = B3.drop(['Class'], axis=1)\n",
    "B3_y = B3['Class']\n",
    "\n",
    "M3 = GaussianNB()\n",
    "M3.fit(B3_x, B3_y)\n",
    "\n",
    "# saving model with joblib\n",
    "joblib.dump(M3, 'asset/data/bagging/m3.joblib')\n",
    "\n",
    "M3_predict = M3.predict(x_train)\n",
    "\n",
    "M3_result = pd.DataFrame(M3_predict, columns=['P3'])\n",
    "\n",
    "# M3.score(x_test, y_test)"
   ]
  },
  {
   "block_group": "a9c0ab693cda42f1a56f129771bf0725",
   "cell_type": "markdown",
   "metadata": {
    "cell_id": "4d21781834624dfc930f060ea229f65b",
    "deepnote_cell_type": "text-cell-h3",
    "formattedRanges": []
   },
   "source": [
    "### Change categorial to numeric"
   ]
  },
  {
   "block_group": "913eb2663eed409e935e3cf9e2dc1a6a",
   "cell_type": "code",
   "content_dependencies": null,
   "execution_count": 42,
   "metadata": {
    "cell_id": "1e08382f93524feb85769571c6c29413",
    "deepnote_cell_type": "code",
    "deepnote_to_be_reexecuted": false,
    "execution_millis": 300,
    "execution_start": 1719409454564,
    "source_hash": "2e9fba85"
   },
   "outputs": [
    {
     "data": {
      "application/vnd.deepnote.dataframe.v3+json": {
       "column_count": 12,
       "columns": [
        {
         "dtype": "int64",
         "name": "P1_not_recom",
         "stats": {
          "histogram": [
           {
            "bin_end": 0.1,
            "bin_start": 0,
            "count": 6918
           },
           {
            "bin_end": 0.2,
            "bin_start": 0.1,
            "count": 0
           },
           {
            "bin_end": 0.30000000000000004,
            "bin_start": 0.2,
            "count": 0
           },
           {
            "bin_end": 0.4,
            "bin_start": 0.30000000000000004,
            "count": 0
           },
           {
            "bin_end": 0.5,
            "bin_start": 0.4,
            "count": 0
           },
           {
            "bin_end": 0.6000000000000001,
            "bin_start": 0.5,
            "count": 0
           },
           {
            "bin_end": 0.7000000000000001,
            "bin_start": 0.6000000000000001,
            "count": 0
           },
           {
            "bin_end": 0.8,
            "bin_start": 0.7000000000000001,
            "count": 0
           },
           {
            "bin_end": 0.9,
            "bin_start": 0.8,
            "count": 0
           },
           {
            "bin_end": 1,
            "bin_start": 0.9,
            "count": 3450
           }
          ],
          "max": "1",
          "min": "0",
          "nan_count": 0,
          "unique_count": 2
         }
        },
        {
         "dtype": "int64",
         "name": "P1_priority",
         "stats": {
          "histogram": [
           {
            "bin_end": 0.1,
            "bin_start": 0,
            "count": 9008
           },
           {
            "bin_end": 0.2,
            "bin_start": 0.1,
            "count": 0
           },
           {
            "bin_end": 0.30000000000000004,
            "bin_start": 0.2,
            "count": 0
           },
           {
            "bin_end": 0.4,
            "bin_start": 0.30000000000000004,
            "count": 0
           },
           {
            "bin_end": 0.5,
            "bin_start": 0.4,
            "count": 0
           },
           {
            "bin_end": 0.6000000000000001,
            "bin_start": 0.5,
            "count": 0
           },
           {
            "bin_end": 0.7000000000000001,
            "bin_start": 0.6000000000000001,
            "count": 0
           },
           {
            "bin_end": 0.8,
            "bin_start": 0.7000000000000001,
            "count": 0
           },
           {
            "bin_end": 0.9,
            "bin_start": 0.8,
            "count": 0
           },
           {
            "bin_end": 1,
            "bin_start": 0.9,
            "count": 1360
           }
          ],
          "max": "1",
          "min": "0",
          "nan_count": 0,
          "unique_count": 2
         }
        },
        {
         "dtype": "int64",
         "name": "P1_spec_prior",
         "stats": {
          "histogram": [
           {
            "bin_end": 0.1,
            "bin_start": 0,
            "count": 8110
           },
           {
            "bin_end": 0.2,
            "bin_start": 0.1,
            "count": 0
           },
           {
            "bin_end": 0.30000000000000004,
            "bin_start": 0.2,
            "count": 0
           },
           {
            "bin_end": 0.4,
            "bin_start": 0.30000000000000004,
            "count": 0
           },
           {
            "bin_end": 0.5,
            "bin_start": 0.4,
            "count": 0
           },
           {
            "bin_end": 0.6000000000000001,
            "bin_start": 0.5,
            "count": 0
           },
           {
            "bin_end": 0.7000000000000001,
            "bin_start": 0.6000000000000001,
            "count": 0
           },
           {
            "bin_end": 0.8,
            "bin_start": 0.7000000000000001,
            "count": 0
           },
           {
            "bin_end": 0.9,
            "bin_start": 0.8,
            "count": 0
           },
           {
            "bin_end": 1,
            "bin_start": 0.9,
            "count": 2258
           }
          ],
          "max": "1",
          "min": "0",
          "nan_count": 0,
          "unique_count": 2
         }
        },
        {
         "dtype": "int64",
         "name": "P1_very_recom",
         "stats": {
          "histogram": [
           {
            "bin_end": 0.1,
            "bin_start": 0,
            "count": 7068
           },
           {
            "bin_end": 0.2,
            "bin_start": 0.1,
            "count": 0
           },
           {
            "bin_end": 0.30000000000000004,
            "bin_start": 0.2,
            "count": 0
           },
           {
            "bin_end": 0.4,
            "bin_start": 0.30000000000000004,
            "count": 0
           },
           {
            "bin_end": 0.5,
            "bin_start": 0.4,
            "count": 0
           },
           {
            "bin_end": 0.6000000000000001,
            "bin_start": 0.5,
            "count": 0
           },
           {
            "bin_end": 0.7000000000000001,
            "bin_start": 0.6000000000000001,
            "count": 0
           },
           {
            "bin_end": 0.8,
            "bin_start": 0.7000000000000001,
            "count": 0
           },
           {
            "bin_end": 0.9,
            "bin_start": 0.8,
            "count": 0
           },
           {
            "bin_end": 1,
            "bin_start": 0.9,
            "count": 3300
           }
          ],
          "max": "1",
          "min": "0",
          "nan_count": 0,
          "unique_count": 2
         }
        },
        {
         "dtype": "int64",
         "name": "P2_not_recom",
         "stats": {
          "histogram": [
           {
            "bin_end": 0.1,
            "bin_start": 0,
            "count": 6918
           },
           {
            "bin_end": 0.2,
            "bin_start": 0.1,
            "count": 0
           },
           {
            "bin_end": 0.30000000000000004,
            "bin_start": 0.2,
            "count": 0
           },
           {
            "bin_end": 0.4,
            "bin_start": 0.30000000000000004,
            "count": 0
           },
           {
            "bin_end": 0.5,
            "bin_start": 0.4,
            "count": 0
           },
           {
            "bin_end": 0.6000000000000001,
            "bin_start": 0.5,
            "count": 0
           },
           {
            "bin_end": 0.7000000000000001,
            "bin_start": 0.6000000000000001,
            "count": 0
           },
           {
            "bin_end": 0.8,
            "bin_start": 0.7000000000000001,
            "count": 0
           },
           {
            "bin_end": 0.9,
            "bin_start": 0.8,
            "count": 0
           },
           {
            "bin_end": 1,
            "bin_start": 0.9,
            "count": 3450
           }
          ],
          "max": "1",
          "min": "0",
          "nan_count": 0,
          "unique_count": 2
         }
        },
        {
         "dtype": "int64",
         "name": "P2_priority",
         "stats": {
          "histogram": [
           {
            "bin_end": 0.1,
            "bin_start": 0,
            "count": 9008
           },
           {
            "bin_end": 0.2,
            "bin_start": 0.1,
            "count": 0
           },
           {
            "bin_end": 0.30000000000000004,
            "bin_start": 0.2,
            "count": 0
           },
           {
            "bin_end": 0.4,
            "bin_start": 0.30000000000000004,
            "count": 0
           },
           {
            "bin_end": 0.5,
            "bin_start": 0.4,
            "count": 0
           },
           {
            "bin_end": 0.6000000000000001,
            "bin_start": 0.5,
            "count": 0
           },
           {
            "bin_end": 0.7000000000000001,
            "bin_start": 0.6000000000000001,
            "count": 0
           },
           {
            "bin_end": 0.8,
            "bin_start": 0.7000000000000001,
            "count": 0
           },
           {
            "bin_end": 0.9,
            "bin_start": 0.8,
            "count": 0
           },
           {
            "bin_end": 1,
            "bin_start": 0.9,
            "count": 1360
           }
          ],
          "max": "1",
          "min": "0",
          "nan_count": 0,
          "unique_count": 2
         }
        },
        {
         "dtype": "int64",
         "name": "P2_spec_prior",
         "stats": {
          "histogram": [
           {
            "bin_end": 0.1,
            "bin_start": 0,
            "count": 8110
           },
           {
            "bin_end": 0.2,
            "bin_start": 0.1,
            "count": 0
           },
           {
            "bin_end": 0.30000000000000004,
            "bin_start": 0.2,
            "count": 0
           },
           {
            "bin_end": 0.4,
            "bin_start": 0.30000000000000004,
            "count": 0
           },
           {
            "bin_end": 0.5,
            "bin_start": 0.4,
            "count": 0
           },
           {
            "bin_end": 0.6000000000000001,
            "bin_start": 0.5,
            "count": 0
           },
           {
            "bin_end": 0.7000000000000001,
            "bin_start": 0.6000000000000001,
            "count": 0
           },
           {
            "bin_end": 0.8,
            "bin_start": 0.7000000000000001,
            "count": 0
           },
           {
            "bin_end": 0.9,
            "bin_start": 0.8,
            "count": 0
           },
           {
            "bin_end": 1,
            "bin_start": 0.9,
            "count": 2258
           }
          ],
          "max": "1",
          "min": "0",
          "nan_count": 0,
          "unique_count": 2
         }
        },
        {
         "dtype": "int64",
         "name": "P2_very_recom",
         "stats": {
          "histogram": [
           {
            "bin_end": 0.1,
            "bin_start": 0,
            "count": 7068
           },
           {
            "bin_end": 0.2,
            "bin_start": 0.1,
            "count": 0
           },
           {
            "bin_end": 0.30000000000000004,
            "bin_start": 0.2,
            "count": 0
           },
           {
            "bin_end": 0.4,
            "bin_start": 0.30000000000000004,
            "count": 0
           },
           {
            "bin_end": 0.5,
            "bin_start": 0.4,
            "count": 0
           },
           {
            "bin_end": 0.6000000000000001,
            "bin_start": 0.5,
            "count": 0
           },
           {
            "bin_end": 0.7000000000000001,
            "bin_start": 0.6000000000000001,
            "count": 0
           },
           {
            "bin_end": 0.8,
            "bin_start": 0.7000000000000001,
            "count": 0
           },
           {
            "bin_end": 0.9,
            "bin_start": 0.8,
            "count": 0
           },
           {
            "bin_end": 1,
            "bin_start": 0.9,
            "count": 3300
           }
          ],
          "max": "1",
          "min": "0",
          "nan_count": 0,
          "unique_count": 2
         }
        },
        {
         "dtype": "int64",
         "name": "P3_not_recom",
         "stats": {
          "histogram": [
           {
            "bin_end": 0.1,
            "bin_start": 0,
            "count": 6918
           },
           {
            "bin_end": 0.2,
            "bin_start": 0.1,
            "count": 0
           },
           {
            "bin_end": 0.30000000000000004,
            "bin_start": 0.2,
            "count": 0
           },
           {
            "bin_end": 0.4,
            "bin_start": 0.30000000000000004,
            "count": 0
           },
           {
            "bin_end": 0.5,
            "bin_start": 0.4,
            "count": 0
           },
           {
            "bin_end": 0.6000000000000001,
            "bin_start": 0.5,
            "count": 0
           },
           {
            "bin_end": 0.7000000000000001,
            "bin_start": 0.6000000000000001,
            "count": 0
           },
           {
            "bin_end": 0.8,
            "bin_start": 0.7000000000000001,
            "count": 0
           },
           {
            "bin_end": 0.9,
            "bin_start": 0.8,
            "count": 0
           },
           {
            "bin_end": 1,
            "bin_start": 0.9,
            "count": 3450
           }
          ],
          "max": "1",
          "min": "0",
          "nan_count": 0,
          "unique_count": 2
         }
        },
        {
         "dtype": "int64",
         "name": "P3_priority"
        },
        {
         "dtype": "int64",
         "name": "P3_spec_prior"
        },
        {
         "dtype": "int64",
         "name": "P3_very_recom"
        },
        {
         "dtype": "int64",
         "name": "_deepnote_index_column"
        }
       ],
       "row_count": 10368,
       "rows": [
        {
         "P1_not_recom": 0,
         "P1_priority": 1,
         "P1_spec_prior": 0,
         "P1_very_recom": 0,
         "P2_not_recom": 0,
         "P2_priority": 1,
         "P2_spec_prior": 0,
         "P2_very_recom": 0,
         "P3_not_recom": 0,
         "P3_priority": 1,
         "P3_spec_prior": 0,
         "P3_very_recom": 0,
         "_deepnote_index_column": 0
        },
        {
         "P1_not_recom": 1,
         "P1_priority": 0,
         "P1_spec_prior": 0,
         "P1_very_recom": 0,
         "P2_not_recom": 1,
         "P2_priority": 0,
         "P2_spec_prior": 0,
         "P2_very_recom": 0,
         "P3_not_recom": 1,
         "P3_priority": 0,
         "P3_spec_prior": 0,
         "P3_very_recom": 0,
         "_deepnote_index_column": 1
        },
        {
         "P1_not_recom": 0,
         "P1_priority": 0,
         "P1_spec_prior": 0,
         "P1_very_recom": 1,
         "P2_not_recom": 0,
         "P2_priority": 0,
         "P2_spec_prior": 0,
         "P2_very_recom": 1,
         "P3_not_recom": 0,
         "P3_priority": 0,
         "P3_spec_prior": 0,
         "P3_very_recom": 1,
         "_deepnote_index_column": 2
        },
        {
         "P1_not_recom": 0,
         "P1_priority": 0,
         "P1_spec_prior": 0,
         "P1_very_recom": 1,
         "P2_not_recom": 0,
         "P2_priority": 0,
         "P2_spec_prior": 0,
         "P2_very_recom": 1,
         "P3_not_recom": 0,
         "P3_priority": 0,
         "P3_spec_prior": 0,
         "P3_very_recom": 1,
         "_deepnote_index_column": 3
        },
        {
         "P1_not_recom": 0,
         "P1_priority": 0,
         "P1_spec_prior": 1,
         "P1_very_recom": 0,
         "P2_not_recom": 0,
         "P2_priority": 0,
         "P2_spec_prior": 1,
         "P2_very_recom": 0,
         "P3_not_recom": 0,
         "P3_priority": 0,
         "P3_spec_prior": 1,
         "P3_very_recom": 0,
         "_deepnote_index_column": 4
        },
        {
         "P1_not_recom": 0,
         "P1_priority": 1,
         "P1_spec_prior": 0,
         "P1_very_recom": 0,
         "P2_not_recom": 0,
         "P2_priority": 1,
         "P2_spec_prior": 0,
         "P2_very_recom": 0,
         "P3_not_recom": 0,
         "P3_priority": 1,
         "P3_spec_prior": 0,
         "P3_very_recom": 0,
         "_deepnote_index_column": 5
        },
        {
         "P1_not_recom": 0,
         "P1_priority": 0,
         "P1_spec_prior": 1,
         "P1_very_recom": 0,
         "P2_not_recom": 0,
         "P2_priority": 0,
         "P2_spec_prior": 1,
         "P2_very_recom": 0,
         "P3_not_recom": 0,
         "P3_priority": 0,
         "P3_spec_prior": 1,
         "P3_very_recom": 0,
         "_deepnote_index_column": 6
        },
        {
         "P1_not_recom": 1,
         "P1_priority": 0,
         "P1_spec_prior": 0,
         "P1_very_recom": 0,
         "P2_not_recom": 1,
         "P2_priority": 0,
         "P2_spec_prior": 0,
         "P2_very_recom": 0,
         "P3_not_recom": 1,
         "P3_priority": 0,
         "P3_spec_prior": 0,
         "P3_very_recom": 0,
         "_deepnote_index_column": 7
        },
        {
         "P1_not_recom": 1,
         "P1_priority": 0,
         "P1_spec_prior": 0,
         "P1_very_recom": 0,
         "P2_not_recom": 1,
         "P2_priority": 0,
         "P2_spec_prior": 0,
         "P2_very_recom": 0,
         "P3_not_recom": 1,
         "P3_priority": 0,
         "P3_spec_prior": 0,
         "P3_very_recom": 0,
         "_deepnote_index_column": 8
        },
        {
         "P1_not_recom": 0,
         "P1_priority": 0,
         "P1_spec_prior": 1,
         "P1_very_recom": 0,
         "P2_not_recom": 0,
         "P2_priority": 0,
         "P2_spec_prior": 1,
         "P2_very_recom": 0,
         "P3_not_recom": 0,
         "P3_priority": 0,
         "P3_spec_prior": 1,
         "P3_very_recom": 0,
         "_deepnote_index_column": 9
        }
       ]
      },
      "text/html": [
       "<div>\n",
       "<style scoped>\n",
       "    .dataframe tbody tr th:only-of-type {\n",
       "        vertical-align: middle;\n",
       "    }\n",
       "\n",
       "    .dataframe tbody tr th {\n",
       "        vertical-align: top;\n",
       "    }\n",
       "\n",
       "    .dataframe thead th {\n",
       "        text-align: right;\n",
       "    }\n",
       "</style>\n",
       "<table border=\"1\" class=\"dataframe\">\n",
       "  <thead>\n",
       "    <tr style=\"text-align: right;\">\n",
       "      <th></th>\n",
       "      <th>P1_not_recom</th>\n",
       "      <th>P1_priority</th>\n",
       "      <th>P1_spec_prior</th>\n",
       "      <th>P1_very_recom</th>\n",
       "      <th>P2_not_recom</th>\n",
       "      <th>P2_priority</th>\n",
       "      <th>P2_spec_prior</th>\n",
       "      <th>P2_very_recom</th>\n",
       "      <th>P3_not_recom</th>\n",
       "      <th>P3_priority</th>\n",
       "      <th>P3_spec_prior</th>\n",
       "      <th>P3_very_recom</th>\n",
       "    </tr>\n",
       "  </thead>\n",
       "  <tbody>\n",
       "    <tr>\n",
       "      <th>0</th>\n",
       "      <td>0</td>\n",
       "      <td>1</td>\n",
       "      <td>0</td>\n",
       "      <td>0</td>\n",
       "      <td>0</td>\n",
       "      <td>1</td>\n",
       "      <td>0</td>\n",
       "      <td>0</td>\n",
       "      <td>0</td>\n",
       "      <td>1</td>\n",
       "      <td>0</td>\n",
       "      <td>0</td>\n",
       "    </tr>\n",
       "    <tr>\n",
       "      <th>1</th>\n",
       "      <td>1</td>\n",
       "      <td>0</td>\n",
       "      <td>0</td>\n",
       "      <td>0</td>\n",
       "      <td>1</td>\n",
       "      <td>0</td>\n",
       "      <td>0</td>\n",
       "      <td>0</td>\n",
       "      <td>1</td>\n",
       "      <td>0</td>\n",
       "      <td>0</td>\n",
       "      <td>0</td>\n",
       "    </tr>\n",
       "    <tr>\n",
       "      <th>2</th>\n",
       "      <td>0</td>\n",
       "      <td>0</td>\n",
       "      <td>0</td>\n",
       "      <td>1</td>\n",
       "      <td>0</td>\n",
       "      <td>0</td>\n",
       "      <td>0</td>\n",
       "      <td>1</td>\n",
       "      <td>0</td>\n",
       "      <td>0</td>\n",
       "      <td>0</td>\n",
       "      <td>1</td>\n",
       "    </tr>\n",
       "    <tr>\n",
       "      <th>3</th>\n",
       "      <td>0</td>\n",
       "      <td>0</td>\n",
       "      <td>0</td>\n",
       "      <td>1</td>\n",
       "      <td>0</td>\n",
       "      <td>0</td>\n",
       "      <td>0</td>\n",
       "      <td>1</td>\n",
       "      <td>0</td>\n",
       "      <td>0</td>\n",
       "      <td>0</td>\n",
       "      <td>1</td>\n",
       "    </tr>\n",
       "    <tr>\n",
       "      <th>4</th>\n",
       "      <td>0</td>\n",
       "      <td>0</td>\n",
       "      <td>1</td>\n",
       "      <td>0</td>\n",
       "      <td>0</td>\n",
       "      <td>0</td>\n",
       "      <td>1</td>\n",
       "      <td>0</td>\n",
       "      <td>0</td>\n",
       "      <td>0</td>\n",
       "      <td>1</td>\n",
       "      <td>0</td>\n",
       "    </tr>\n",
       "    <tr>\n",
       "      <th>...</th>\n",
       "      <td>...</td>\n",
       "      <td>...</td>\n",
       "      <td>...</td>\n",
       "      <td>...</td>\n",
       "      <td>...</td>\n",
       "      <td>...</td>\n",
       "      <td>...</td>\n",
       "      <td>...</td>\n",
       "      <td>...</td>\n",
       "      <td>...</td>\n",
       "      <td>...</td>\n",
       "      <td>...</td>\n",
       "    </tr>\n",
       "    <tr>\n",
       "      <th>10363</th>\n",
       "      <td>0</td>\n",
       "      <td>0</td>\n",
       "      <td>1</td>\n",
       "      <td>0</td>\n",
       "      <td>0</td>\n",
       "      <td>0</td>\n",
       "      <td>1</td>\n",
       "      <td>0</td>\n",
       "      <td>0</td>\n",
       "      <td>0</td>\n",
       "      <td>1</td>\n",
       "      <td>0</td>\n",
       "    </tr>\n",
       "    <tr>\n",
       "      <th>10364</th>\n",
       "      <td>0</td>\n",
       "      <td>1</td>\n",
       "      <td>0</td>\n",
       "      <td>0</td>\n",
       "      <td>0</td>\n",
       "      <td>1</td>\n",
       "      <td>0</td>\n",
       "      <td>0</td>\n",
       "      <td>0</td>\n",
       "      <td>1</td>\n",
       "      <td>0</td>\n",
       "      <td>0</td>\n",
       "    </tr>\n",
       "    <tr>\n",
       "      <th>10365</th>\n",
       "      <td>1</td>\n",
       "      <td>0</td>\n",
       "      <td>0</td>\n",
       "      <td>0</td>\n",
       "      <td>1</td>\n",
       "      <td>0</td>\n",
       "      <td>0</td>\n",
       "      <td>0</td>\n",
       "      <td>1</td>\n",
       "      <td>0</td>\n",
       "      <td>0</td>\n",
       "      <td>0</td>\n",
       "    </tr>\n",
       "    <tr>\n",
       "      <th>10366</th>\n",
       "      <td>1</td>\n",
       "      <td>0</td>\n",
       "      <td>0</td>\n",
       "      <td>0</td>\n",
       "      <td>1</td>\n",
       "      <td>0</td>\n",
       "      <td>0</td>\n",
       "      <td>0</td>\n",
       "      <td>1</td>\n",
       "      <td>0</td>\n",
       "      <td>0</td>\n",
       "      <td>0</td>\n",
       "    </tr>\n",
       "    <tr>\n",
       "      <th>10367</th>\n",
       "      <td>0</td>\n",
       "      <td>0</td>\n",
       "      <td>1</td>\n",
       "      <td>0</td>\n",
       "      <td>0</td>\n",
       "      <td>0</td>\n",
       "      <td>1</td>\n",
       "      <td>0</td>\n",
       "      <td>0</td>\n",
       "      <td>0</td>\n",
       "      <td>1</td>\n",
       "      <td>0</td>\n",
       "    </tr>\n",
       "  </tbody>\n",
       "</table>\n",
       "<p>10368 rows × 12 columns</p>\n",
       "</div>"
      ],
      "text/plain": [
       "       P1_not_recom  P1_priority  P1_spec_prior  P1_very_recom  P2_not_recom  \\\n",
       "0                 0            1              0              0             0   \n",
       "1                 1            0              0              0             1   \n",
       "2                 0            0              0              1             0   \n",
       "3                 0            0              0              1             0   \n",
       "4                 0            0              1              0             0   \n",
       "...             ...          ...            ...            ...           ...   \n",
       "10363             0            0              1              0             0   \n",
       "10364             0            1              0              0             0   \n",
       "10365             1            0              0              0             1   \n",
       "10366             1            0              0              0             1   \n",
       "10367             0            0              1              0             0   \n",
       "\n",
       "       P2_priority  P2_spec_prior  P2_very_recom  P3_not_recom  P3_priority  \\\n",
       "0                1              0              0             0            1   \n",
       "1                0              0              0             1            0   \n",
       "2                0              0              1             0            0   \n",
       "3                0              0              1             0            0   \n",
       "4                0              1              0             0            0   \n",
       "...            ...            ...            ...           ...          ...   \n",
       "10363            0              1              0             0            0   \n",
       "10364            1              0              0             0            1   \n",
       "10365            0              0              0             1            0   \n",
       "10366            0              0              0             1            0   \n",
       "10367            0              1              0             0            0   \n",
       "\n",
       "       P3_spec_prior  P3_very_recom  \n",
       "0                  0              0  \n",
       "1                  0              0  \n",
       "2                  0              1  \n",
       "3                  0              1  \n",
       "4                  1              0  \n",
       "...              ...            ...  \n",
       "10363              1              0  \n",
       "10364              0              0  \n",
       "10365              0              0  \n",
       "10366              0              0  \n",
       "10367              1              0  \n",
       "\n",
       "[10368 rows x 12 columns]"
      ]
     },
     "execution_count": 42,
     "metadata": {},
     "output_type": "execute_result"
    }
   ],
   "outputs_reference": "s3:deepnote-cell-outputs-production/0b46f336-93b4-4535-a62f-7dc6faff659b",
   "source": [
    "x_combined = pd.concat([M1_result, M2_result, M3_result], axis=1)\n",
    "\n",
    "X = pd.get_dummies(x_combined,prefix=[\"P1\",\"P2\", \"P3\"],columns=[\"P1\",\"P2\", \"P3\"], dtype='int')\n",
    "\n",
    "X"
   ]
  },
  {
   "block_group": "63619dd450714a8e8b3056deb4ab6065",
   "cell_type": "markdown",
   "metadata": {
    "cell_id": "d9f16367ff034d1aa1a41af8aac2a9d7",
    "deepnote_cell_type": "text-cell-h3",
    "formattedRanges": []
   },
   "source": [
    "### Make aggregration"
   ]
  },
  {
   "block_group": "2af3860954ae48e398d48e2c1a5d9afa",
   "cell_type": "code",
   "content_dependencies": null,
   "execution_count": 44,
   "metadata": {
    "cell_id": "48ee0afe063240bcabc9f5678fdc9e71",
    "deepnote_cell_type": "code",
    "deepnote_to_be_reexecuted": false,
    "execution_millis": 1054,
    "execution_start": 1719409483315,
    "source_hash": "2e91ab6"
   },
   "outputs": [
    {
     "data": {
      "text/plain": [
       "0.8075810185185185"
      ]
     },
     "execution_count": 44,
     "metadata": {},
     "output_type": "execute_result"
    }
   ],
   "outputs_reference": "dbtable:cell_outputs/bd238844-8afc-46ee-af00-481a8ea4c21b",
   "source": [
    "clf_knn = KNeighborsClassifier(n_neighbors=15)\n",
    "\n",
    "clf_knn.fit(X, y_train)\n",
    "\n",
    "# saving model with joblib\n",
    "joblib.dump(clf_knn, 'asset/data/bagging/aggregation.joblib')\n",
    "\n",
    "# result = clf_nb.predict(X_train)\n",
    "# result\n",
    "\n",
    "clf_knn.score(X, y_train)"
   ]
  },
  {
   "block_group": "1576f815bc9349d8b2f8e0814c5f2125",
   "cell_type": "markdown",
   "metadata": {
    "cell_id": "412b414f04b249c6b20391d645d11651",
    "deepnote_cell_type": "text-cell-h3",
    "formattedRanges": []
   },
   "source": [
    "### Make prediction function"
   ]
  },
  {
   "block_group": "ff168ae037b34294a6caf288d1042cf9",
   "cell_type": "code",
   "content_dependencies": null,
   "execution_count": 45,
   "metadata": {
    "cell_id": "e4522c0867ef4ea997c7b07a0f0238a5",
    "deepnote_cell_type": "code",
    "deepnote_to_be_reexecuted": false,
    "execution_millis": 66,
    "execution_start": 1719409493012,
    "source_hash": "2f043b8f"
   },
   "outputs": [],
   "outputs_reference": null,
   "source": [
    "def baggingClassifier(data):\n",
    "  B1 = df_train.sample(frac=1)\n",
    "  B2 = df_train.sample(frac=1)\n",
    "  B3 = df_train.sample(frac=1)\n",
    "\n",
    "  B1_x = B1.drop(['Class'], axis=1)\n",
    "  B1_y = B1['Class']\n",
    "\n",
    "  M1.fit(B1_x, B1_y)\n",
    "  M1_predict = M1.predict(data)\n",
    "  M1_result = pd.DataFrame(M1_predict, columns=['P1'])\n",
    "\n",
    "  B2_x = B2.drop(['Class'], axis=1)\n",
    "  B2_y = B2['Class']\n",
    "\n",
    "  M2.fit(B2_x, B2_y)\n",
    "  M2_predict = M2.predict(data)\n",
    "  M2_result = pd.DataFrame(M2_predict, columns=['P2'])\n",
    "\n",
    "  B3_x = B3.drop(['Class'], axis=1)\n",
    "  B3_y = B3['Class']\n",
    "\n",
    "  M3.fit(B3_x, B3_y)\n",
    "  M3_predict = M3.predict(data)\n",
    "  M3_result = pd.DataFrame(M3_predict, columns=['P3'])\n",
    "\n",
    "  x_combined = pd.concat([M1_result, M2_result, M3_result], axis=1)\n",
    "  x_predict = pd.get_dummies(x_combined,prefix=[\"P1\",\"P2\", \"P3\"],columns=[\"P1\",\"P2\", \"P3\"], dtype='int')\n",
    "\n",
    "  if 'P1_not_recom' not in x_predict.columns and 'P2_not_recom' not in x_predict.columns and 'P3_not_recom' not in x_predict.columns:\n",
    "    x_predict.insert(0, \"P1_not_recom\", [0], True)\n",
    "    x_predict.insert(1, \"P2_not_recom\", [0], True)\n",
    "    x_predict.insert(2, \"P3_not_recom\", [0], True)\n",
    "  if 'P1_priority' not in x_predict.columns and 'P2_priority' not in x_predict.columns and 'P3_priority' not in x_predict.columns:\n",
    "    x_predict.insert(3, \"P1_priority\", [0], True)\n",
    "    x_predict.insert(4, \"P2_priority\", [0], True)\n",
    "    x_predict.insert(5, \"P3_priority\", [0], True)\n",
    "  if 'P1_spec_prior' not in x_predict.columns and 'P2_spec_prior' not in x_predict.columns and 'P3_spec_prior' not in x_predict.columns:\n",
    "    x_predict.insert(6, \"P1_spec_prior\", [0], True)\n",
    "    x_predict.insert(7, \"P2_spec_prior\", [0], True)\n",
    "    x_predict.insert(8, \"P3_spec_prior\", [0], True)\n",
    "  if 'P1_very_recom' not in x_predict.columns and 'P2_very_recom' not in x_predict.columns and 'P3_very_recom' not in x_predict.columns:\n",
    "    x_predict.insert(9, \"P1_very_recom\", [0], True)\n",
    "    x_predict.insert(10, \"P2_very_recom\", [0], True)\n",
    "    x_predict.insert(11, \"P3_very_recom\", [0], True)\n",
    "\n",
    "  clf_knn.fit(X, y_train)\n",
    "  return clf_knn.predict(x_predict), clf_knn.score(X, y_train)"
   ]
  },
  {
   "block_group": "3916cd51f86c42128575efdb18f454d3",
   "cell_type": "code",
   "content_dependencies": null,
   "execution_count": 47,
   "metadata": {
    "cell_id": "68153de0a0ba4be299120d07db201984",
    "deepnote_cell_type": "code",
    "deepnote_to_be_reexecuted": false,
    "execution_millis": 1318,
    "execution_start": 1719409522855,
    "source_hash": "74ad905a"
   },
   "outputs": [
    {
     "name": "stderr",
     "output_type": "stream",
     "text": [
      "/usr/local/lib/python3.9/site-packages/sklearn/base.py:493: FutureWarning: The feature names should match those that were passed during fit. Starting version 1.2, an error will be raised.\n",
      "Feature names must be in the same order as they were in fit.\n",
      "\n",
      "  warnings.warn(message, FutureWarning)\n",
      "prediction : ['priority'], accuration : 0.8075810185185185\n"
     ]
    }
   ],
   "outputs_reference": "dbtable:cell_outputs/a5f4ca0a-6ab9-4119-906c-84e6635aa8ae",
   "source": [
    "data = df_test.head(1).drop('Class', axis=1)\n",
    "prediction, score = baggingClassifier(data)\n",
    "print(f'prediction : {prediction}, accuration : {score}')"
   ]
  },
  {
   "block_group": "a132238eb7d34006b5180ab547520610",
   "cell_type": "markdown",
   "metadata": {
    "cell_id": "2a031aa88e7a406e8f008ccdb5c89055",
    "deepnote_cell_type": "text-cell-h1",
    "formattedRanges": []
   },
   "source": [
    "# Evaluasi"
   ]
  },
  {
   "block_group": "64a7cafb628c479f898eab8b0fc11baf",
   "cell_type": "markdown",
   "metadata": {
    "cell_id": "68ce25fda901422992686e72b1d5acee",
    "deepnote_cell_type": "text-cell-p",
    "formattedRanges": []
   },
   "source": [
    "Dari beberapa tahapan pengerjaan yang telah kita lalui, kami mendapatkan kesimpulan bahwa hasil yang terbaik untuk di bawa ke tahapan selanjutnya adalah dengan menggunakan model KNN (bukan ensemble learning), jika menggunakan ensemble learning model yang lebih unggul adalah menggunakan bagging."
   ]
  },
  {
   "block_group": "a3008c659c564c0a8da3cc6ce83ee199",
   "cell_type": "markdown",
   "metadata": {
    "cell_id": "271815a55ec145609f5f0a28c74182bd",
    "deepnote_cell_type": "text-cell-p",
    "formattedRanges": [
     {
      "fromCodePoint": 0,
      "marks": {
       "bold": true
      },
      "toCodePoint": 23,
      "type": "marks"
     }
    ]
   },
   "source": [
    "Rangkuman Hasil Akurasi"
   ]
  },
  {
   "block_group": "b038ba0e0acd496e9bcc49dd2c546298",
   "cell_type": "markdown",
   "metadata": {
    "cell_id": "2ba0d5e112d9476fbc1642fbb1e6cf2f",
    "deepnote_app_block_visible": false,
    "deepnote_cell_type": "text-cell-bullet",
    "formattedRanges": [],
    "is_collapsed": false
   },
   "source": [
    "- Gaussian Naive Bayes: 0.6462191358024691"
   ]
  },
  {
   "block_group": "1da3835650a54779b83974f00193af8c",
   "cell_type": "markdown",
   "metadata": {
    "cell_id": "65f1bc74279a46deba858b98fef2c705",
    "deepnote_app_block_visible": false,
    "deepnote_cell_type": "text-cell-bullet",
    "formattedRanges": [],
    "is_collapsed": false
   },
   "source": [
    "- KNN: 0.9494598765432098"
   ]
  },
  {
   "block_group": "d2dd6f27b82a420991fc4e7647550f5e",
   "cell_type": "markdown",
   "metadata": {
    "cell_id": "bbb48361135d46b8b17a5559743c557f",
    "deepnote_app_block_visible": false,
    "deepnote_cell_type": "text-cell-bullet",
    "formattedRanges": [],
    "is_collapsed": false
   },
   "source": [
    "- Stacking: 0.6729359567901234"
   ]
  },
  {
   "block_group": "df4d4c162a394544b7dfdea5aced3ff0",
   "cell_type": "markdown",
   "metadata": {
    "cell_id": "b9145fbc5b0d4024a27a25cde2f71ec4",
    "deepnote_app_block_visible": false,
    "deepnote_cell_type": "text-cell-bullet",
    "formattedRanges": [],
    "is_collapsed": false
   },
   "source": [
    "- Bagging: 0.8075810185185185\r"
   ]
  },
  {
   "block_group": "ac8ffb4dd0104ec796ef24b3997cfa8d",
   "cell_type": "markdown",
   "metadata": {
    "cell_id": "898a83c85ffd4567a610ac69dd6f1fac",
    "deepnote_cell_type": "text-cell-p",
    "formattedRanges": []
   },
   "source": [
    "Dari Rangkuman di atas saya memutuskan untuk menggunakan model yang dihasilkan oleh bagging."
   ]
  },
  {
   "cell_type": "markdown",
   "metadata": {
    "created_in_deepnote_cell": true,
    "deepnote_cell_type": "markdown"
   },
   "source": [
    "<a style='text-decoration:none;line-height:16px;display:flex;color:#5B5B62;padding:10px;justify-content:end;' href='https://deepnote.com?utm_source=created-in-deepnote-cell&projectId=6df23822-344f-49ac-8fce-569c475697fa' target=\"_blank\">\n",
    "<img alt='Created in deepnote.com' style='display:inline;max-height:16px;margin:0px;margin-right:7.5px;' src='data:image/svg+xml;base64,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' > </img>\n",
    "Created in <span style='font-weight:600;margin-left:4px;'>Deepnote</span></a>"
   ]
  }
 ],
 "metadata": {
  "deepnote_execution_queue": [],
  "deepnote_notebook_id": "d3cea5ba6c834b5b9e0e46546501e8c8",
  "deepnote_persisted_session": {
   "createdAt": "2024-06-26T12:46:27.699Z"
  },
  "language_info": {
   "codemirror_mode": {
    "name": "ipython",
    "version": 3
   },
   "file_extension": ".py",
   "mimetype": "text/x-python",
   "name": "python",
   "nbconvert_exporter": "python",
   "pygments_lexer": "ipython3",
   "version": "3.12.4"
  }
 },
 "nbformat": 4,
 "nbformat_minor": 0
}